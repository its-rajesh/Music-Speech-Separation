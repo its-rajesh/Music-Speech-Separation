{
  "nbformat": 4,
  "nbformat_minor": 0,
  "metadata": {
    "colab": {
      "name": "MSClassifier.ipynb",
      "provenance": [],
      "collapsed_sections": [],
      "toc_visible": true,
      "authorship_tag": "ABX9TyM1yx3Ug44O0ZkL3UJZhSnE",
      "include_colab_link": true
    },
    "kernelspec": {
      "name": "python3",
      "display_name": "Python 3"
    },
    "language_info": {
      "name": "python"
    }
  },
  "cells": [
    {
      "cell_type": "markdown",
      "metadata": {
        "id": "view-in-github",
        "colab_type": "text"
      },
      "source": [
        "<a href=\"https://colab.research.google.com/github/its-rajesh/Music-Speech-Separation/blob/main/MSClassifier.ipynb\" target=\"_parent\"><img src=\"https://colab.research.google.com/assets/colab-badge.svg\" alt=\"Open In Colab\"/></a>"
      ]
    },
    {
      "cell_type": "markdown",
      "source": [
        "# **MUSIC SPEECH CLASSIFIER**"
      ],
      "metadata": {
        "id": "ioS14CbsHisS"
      }
    },
    {
      "cell_type": "code",
      "execution_count": 1,
      "metadata": {
        "id": "6WcuVWOJHaxg"
      },
      "outputs": [],
      "source": [
        "import tensorflow as tf\n",
        "from tensorflow import keras"
      ]
    },
    {
      "cell_type": "code",
      "source": [
        "import soundfile as sf\n",
        "import librosa as lb\n",
        "import numpy as np\n",
        "from matplotlib import pyplot as plt\n",
        "import os\n",
        "import pandas as pd"
      ],
      "metadata": {
        "id": "cV_YcCIPH1oF"
      },
      "execution_count": 2,
      "outputs": []
    },
    {
      "cell_type": "markdown",
      "source": [
        "### Reading STFT & Chroma STFT Features"
      ],
      "metadata": {
        "id": "oQyGXVx_H-A5"
      }
    },
    {
      "cell_type": "code",
      "source": [
        "from google.colab import drive\n",
        "drive.mount('/drive')"
      ],
      "metadata": {
        "colab": {
          "base_uri": "https://localhost:8080/"
        },
        "id": "0SXPlgnSH82g",
        "outputId": "5713fca4-fe5f-4123-c00b-e40e9ae5eb6e"
      },
      "execution_count": 3,
      "outputs": [
        {
          "output_type": "stream",
          "name": "stdout",
          "text": [
            "Mounted at /drive\n"
          ]
        }
      ]
    },
    {
      "cell_type": "code",
      "source": [
        "path = '/drive/My Drive/Projects/Music-Speech-Separation/Dataset/'"
      ],
      "metadata": {
        "id": "06Y2HUcbIDFj"
      },
      "execution_count": 7,
      "outputs": []
    },
    {
      "cell_type": "code",
      "source": [
        "folders = os.listdir(path)\n",
        "folders"
      ],
      "metadata": {
        "colab": {
          "base_uri": "https://localhost:8080/"
        },
        "id": "7zd_SHCAJi77",
        "outputId": "1a34379b-52bc-4d25-e7a4-11caa670b275"
      },
      "execution_count": 8,
      "outputs": [
        {
          "output_type": "execute_result",
          "data": {
            "text/plain": [
              "['music', 'Mixture', 'Overlay', 'speech']"
            ]
          },
          "metadata": {},
          "execution_count": 8
        }
      ]
    },
    {
      "cell_type": "code",
      "source": [
        "audiofiles = []\n",
        "for folder in folders:\n",
        "    files = os.listdir(path+'/'+folder)\n",
        "    files = sorted(files)\n",
        "    audio = []\n",
        "    for file in files:\n",
        "        data, samplerate = lb.load(path+'/'+folder+'/'+file, sr=8000, mono=True)\n",
        "        audio.append(data)\n",
        "    audiofiles.append(audio)"
      ],
      "metadata": {
        "id": "YAew3c-pJ3eG"
      },
      "execution_count": 9,
      "outputs": []
    },
    {
      "cell_type": "code",
      "source": [
        "music = np.array(audiofiles[0])\n",
        "mixture = np.array(audiofiles[1])\n",
        "overlay = np.array(audiofiles[2])\n",
        "speech = np.array(audiofiles[3])\n",
        "\n",
        "dataset = [music, mixture, overlay, speech]"
      ],
      "metadata": {
        "id": "oh9nercUKhVM"
      },
      "execution_count": 10,
      "outputs": []
    },
    {
      "cell_type": "code",
      "source": [
        "music[0], len(music[0]), len(music[0])/8000"
      ],
      "metadata": {
        "colab": {
          "base_uri": "https://localhost:8080/"
        },
        "id": "ZKLAfv4eYKYf",
        "outputId": "e9755ef6-be7d-43e6-bcfc-205ac3dc2949"
      },
      "execution_count": 65,
      "outputs": [
        {
          "output_type": "execute_result",
          "data": {
            "text/plain": [
              "(array([-0.06211764, -0.17527802, -0.13408872, ...,  0.06697536,\n",
              "         0.07972796,  0.11764227], dtype=float32), 120000, 15.0)"
            ]
          },
          "metadata": {},
          "execution_count": 65
        }
      ]
    },
    {
      "cell_type": "code",
      "source": [
        "def createchunks(audio):\n",
        "  start = 0\n",
        "  stop = 4000 # for 0.5 seconds (8Khz): 1 sec has 8000 samples.\n",
        "  chunks = []\n",
        "  for i in range(len(audio)//4000):\n",
        "    chunks.append(audio[start:stop])\n",
        "    start = stop\n",
        "    stop = start+4000\n",
        "\n",
        "  return chunks\n",
        "\n",
        "#x = np.array(createchunks(music[0]))\n",
        "#print(x.shape)"
      ],
      "metadata": {
        "id": "Zk0QZwp8ZKYx"
      },
      "execution_count": 75,
      "outputs": []
    },
    {
      "cell_type": "code",
      "source": [
        "''' #SAMPLE FOR CHUNKS STFT\n",
        "chunks = np.array(createchunks(music[0]))\n",
        "spect = []\n",
        "for i in chunks:\n",
        "  spect.append(np.abs(lb.stft(i,n_fft=512))) #window length = nfft and hop length = win length //4\n",
        "\n",
        "spect = np.array(spect)\n",
        "spect.shape\n",
        "'''\n"
      ],
      "metadata": {
        "colab": {
          "base_uri": "https://localhost:8080/",
          "height": 53
        },
        "id": "8CfHfW_OZLbb",
        "outputId": "1f068733-5276-4545-8b1b-c0e4ce4c19c0"
      },
      "execution_count": 110,
      "outputs": [
        {
          "output_type": "execute_result",
          "data": {
            "text/plain": [
              "' #SAMPLE FOR CHUNKS STFT\\nchunks = np.array(createchunks(music[0]))\\nspect = []\\nfor i in chunks:\\n  spect.append(np.abs(lb.stft(i,n_fft=512))) #window length = nfft and hop length = win length //4\\n\\nspect = np.array(spect)\\nspect.shape\\n'"
            ],
            "application/vnd.google.colaboratory.intrinsic+json": {
              "type": "string"
            }
          },
          "metadata": {},
          "execution_count": 110
        }
      ]
    },
    {
      "cell_type": "markdown",
      "source": [
        "##### STFT Features"
      ],
      "metadata": {
        "id": "XHND2AnpfR1o"
      }
    },
    {
      "cell_type": "code",
      "source": [
        "datasetstft = []\n",
        "index = 0\n",
        "y, y_train = [], []\n",
        "for data in [music, speech]:\n",
        "    spect = []\n",
        "    for audio in data:\n",
        "      chunks = np.array(createchunks(audio))\n",
        "      chunks_spect = []\n",
        "      for i in chunks:\n",
        "        chunks_spect.append(np.abs(lb.stft(i,n_fft=512))) #window length = nfft and hop length = win length //4\n",
        "\n",
        "      chunks_spect = np.array(chunks_spect)\n",
        "\n",
        "      spect.append(chunks_spect)\n",
        "\n",
        "      if index == 0:\n",
        "        y.append(np.zeros(30))\n",
        "      elif index == 1:\n",
        "        y.append(np.ones(30))\n",
        "    \n",
        "    index += 1\n",
        "    y_train.append(np.array(y))\n",
        "    datasetstft.append(np.array(spect))"
      ],
      "metadata": {
        "id": "PgvWvYCuZLXZ"
      },
      "execution_count": 155,
      "outputs": []
    },
    {
      "cell_type": "code",
      "source": [
        "y_train[0].shape, len(y_train)"
      ],
      "metadata": {
        "colab": {
          "base_uri": "https://localhost:8080/"
        },
        "id": "3hQ4l6fXkJ0Y",
        "outputId": "4ea7b502-e020-414e-9bf5-cec994551643"
      },
      "execution_count": 156,
      "outputs": [
        {
          "output_type": "execute_result",
          "data": {
            "text/plain": [
              "((50, 30), 2)"
            ]
          },
          "metadata": {},
          "execution_count": 156
        }
      ]
    },
    {
      "cell_type": "code",
      "source": [
        "datasetstft[0].shape, len(datasetstft)"
      ],
      "metadata": {
        "colab": {
          "base_uri": "https://localhost:8080/"
        },
        "id": "HDVFcam2ZLRo",
        "outputId": "4e121db3-0447-4ee8-cdfe-60cccaaaa696"
      },
      "execution_count": 157,
      "outputs": [
        {
          "output_type": "execute_result",
          "data": {
            "text/plain": [
              "((50, 30, 257, 32), 2)"
            ]
          },
          "metadata": {},
          "execution_count": 157
        }
      ]
    },
    {
      "cell_type": "markdown",
      "source": [
        "##### Chroma Features"
      ],
      "metadata": {
        "id": "80hvf3XNghC5"
      }
    },
    {
      "cell_type": "code",
      "source": [
        "datasetchroma = []\n",
        "for data in [music, speech]:\n",
        "    chroma_spect = []\n",
        "    for audio in data:\n",
        "      chunks = np.array(createchunks(audio))\n",
        "      chunks_chroma = []\n",
        "      for i in chunks:\n",
        "        chunks_chroma.append(lb.feature.chroma_stft(y=audio)) \n",
        "\n",
        "      chunks_chroma = np.array(chunks_chroma)\n",
        "\n",
        "      chroma_spect.append(chunks_chroma)\n",
        "    datasetchroma.append(np.array(chroma_spect))"
      ],
      "metadata": {
        "id": "f5Tx-3gtZLE0"
      },
      "execution_count": 109,
      "outputs": []
    },
    {
      "cell_type": "code",
      "source": [
        ""
      ],
      "metadata": {
        "id": "tv2Qdo6IMSgl"
      },
      "execution_count": 129,
      "outputs": []
    },
    {
      "cell_type": "markdown",
      "source": [
        "##### Reshaping the training datasets"
      ],
      "metadata": {
        "id": "gEBt4gTNnmFk"
      }
    },
    {
      "cell_type": "code",
      "source": [
        "X_TRAIN = []\n",
        "for data in datasetstft:\n",
        "  for i in data:\n",
        "    for j in i:\n",
        "      X_TRAIN.append(j)\n",
        "\n",
        "\n",
        "X_TRAIN = np.array(X_TRAIN)\n",
        "X_TRAIN.shape\n"
      ],
      "metadata": {
        "colab": {
          "base_uri": "https://localhost:8080/"
        },
        "id": "Xo5oWFuyL2Vd",
        "outputId": "c35a9563-f41b-44f9-9dac-04ce7726c550"
      },
      "execution_count": 134,
      "outputs": [
        {
          "output_type": "execute_result",
          "data": {
            "text/plain": [
              "(3000, 257, 32)"
            ]
          },
          "metadata": {},
          "execution_count": 134
        }
      ]
    },
    {
      "cell_type": "code",
      "source": [
        "y_train[0][0].shape, y_train[0].shape, y_train.shape, 50*30*2"
      ],
      "metadata": {
        "colab": {
          "base_uri": "https://localhost:8080/"
        },
        "id": "tpgNj2Pfq0Oi",
        "outputId": "7c9a04bb-d80e-48f1-b9fe-1ee71b0fc858"
      },
      "execution_count": 145,
      "outputs": [
        {
          "output_type": "execute_result",
          "data": {
            "text/plain": [
              "((30,), (50, 30), (2,), 3000)"
            ]
          },
          "metadata": {},
          "execution_count": 145
        }
      ]
    },
    {
      "cell_type": "code",
      "source": [
        "Y_TRAIN = []\n",
        "for val in y_train[1]: #still confused how it works???\n",
        "  for i in val:\n",
        "    Y_TRAIN.append(i)\n",
        "\n",
        "Y_TRAIN = np.array(Y_TRAIN)\n",
        "Y_TRAIN.shape, Y_TRAIN\n"
      ],
      "metadata": {
        "colab": {
          "base_uri": "https://localhost:8080/"
        },
        "id": "061TRuAApWha",
        "outputId": "eb510de8-66bd-4685-ddce-a54e952cb539"
      },
      "execution_count": 160,
      "outputs": [
        {
          "output_type": "execute_result",
          "data": {
            "text/plain": [
              "((3000,), array([0., 0., 0., ..., 1., 1., 1.]))"
            ]
          },
          "metadata": {},
          "execution_count": 160
        }
      ]
    },
    {
      "cell_type": "markdown",
      "source": [
        "### TEST DATA"
      ],
      "metadata": {
        "id": "3c2kKalMvxlR"
      }
    },
    {
      "cell_type": "code",
      "source": [
        "test_path = '/drive/My Drive/Projects/Music-Speech-Separation/Test Dataset/'"
      ],
      "metadata": {
        "id": "0-cPJhzgvxPS"
      },
      "execution_count": 174,
      "outputs": []
    },
    {
      "cell_type": "code",
      "source": [
        "folders = os.listdir(test_path)\n",
        "print(folders)\n",
        "print(test_path+folders[0])\n"
      ],
      "metadata": {
        "colab": {
          "base_uri": "https://localhost:8080/"
        },
        "id": "gJoSZZ4Szk2j",
        "outputId": "33eca591-9e75-4896-bdc9-9d1aafe9429d"
      },
      "execution_count": 175,
      "outputs": [
        {
          "output_type": "stream",
          "name": "stdout",
          "text": [
            "['music', 'speech', 'overlay', 'mixture']\n",
            "/drive/My Drive/Projects/Music-Speech-Separation/Test Dataset/music\n"
          ]
        }
      ]
    },
    {
      "cell_type": "code",
      "source": [
        "audiofiles_test = []\n",
        "for folder in ['speech', 'music', 'mixture']:\n",
        "  files = os.listdir(test_path+folder)\n",
        "  files = sorted(files)\n",
        "  audio = []\n",
        "  for file in files:\n",
        "      data, samplerate = lb.load(test_path+folder+'/'+file, sr=8000, mono=True)\n",
        "      audio.append(data)\n",
        "  audiofiles_test.append(audio)"
      ],
      "metadata": {
        "id": "XLiGMUogx1q7"
      },
      "execution_count": 180,
      "outputs": []
    },
    {
      "cell_type": "code",
      "source": [
        "music_test = np.array(audiofiles_test[0])\n",
        "mixture_test = np.array(audiofiles_test[2])\n",
        "speech_test = np.array(audiofiles_test[1])\n",
        "\n",
        "dataset_test = [speech_test, music_test, mixture_test]"
      ],
      "metadata": {
        "id": "N8M2Xtdex1ni"
      },
      "execution_count": 181,
      "outputs": []
    },
    {
      "cell_type": "code",
      "source": [
        "dataset_test_stft = []\n",
        "index = 0\n",
        "y_test = []\n",
        "for data in [music_test, speech_test]:\n",
        "    spect = []\n",
        "    y = []\n",
        "    for audio in data:\n",
        "      chunks = np.array(createchunks(audio))\n",
        "      chunks_spect = []\n",
        "      for i in chunks:\n",
        "        chunks_spect.append(np.abs(lb.stft(i,n_fft=512))) #window length = nfft and hop length = win length //4\n",
        "\n",
        "      chunks_spect = np.array(chunks_spect)\n",
        "\n",
        "      spect.append(chunks_spect)\n",
        "\n",
        "      if index == 0:\n",
        "        y.append(np.zeros(30))\n",
        "      elif index == 1:\n",
        "        y.append(np.ones(30))\n",
        "    \n",
        "    index += 1\n",
        "    y_test.append(np.array(y))\n",
        "    dataset_test_stft.append(np.array(spect))"
      ],
      "metadata": {
        "id": "dsYzO44ex1ki"
      },
      "execution_count": 187,
      "outputs": []
    },
    {
      "cell_type": "code",
      "source": [
        "dataset_test_stft[0].shape, len(dataset_test_stft)"
      ],
      "metadata": {
        "colab": {
          "base_uri": "https://localhost:8080/"
        },
        "id": "MkG8g52Sx1Z6",
        "outputId": "466f568c-1884-4f3e-c593-d88629ab34ef"
      },
      "execution_count": 188,
      "outputs": [
        {
          "output_type": "execute_result",
          "data": {
            "text/plain": [
              "((10, 30, 257, 32), 2)"
            ]
          },
          "metadata": {},
          "execution_count": 188
        }
      ]
    },
    {
      "cell_type": "code",
      "source": [
        "X_TEST = []\n",
        "for data in dataset_test_stft:\n",
        "  for i in data:\n",
        "    for j in i:\n",
        "      X_TEST.append(j)\n",
        "\n",
        "\n",
        "X_TEST = np.array(X_TEST)\n",
        "X_TEST.shape"
      ],
      "metadata": {
        "colab": {
          "base_uri": "https://localhost:8080/"
        },
        "id": "uXorSZVuxxgC",
        "outputId": "dba81999-389d-4555-9e6c-9e0c0f7300b1"
      },
      "execution_count": 189,
      "outputs": [
        {
          "output_type": "execute_result",
          "data": {
            "text/plain": [
              "(600, 257, 32)"
            ]
          },
          "metadata": {},
          "execution_count": 189
        }
      ]
    },
    {
      "cell_type": "code",
      "source": [
        "Y_TEST = []\n",
        "for val in y_test:\n",
        "  for i in val:\n",
        "    for j in i:\n",
        "      Y_TEST.append(j)\n",
        "\n",
        "Y_TEST = np.array(Y_TEST)\n",
        "Y_TEST.shape\n"
      ],
      "metadata": {
        "colab": {
          "base_uri": "https://localhost:8080/"
        },
        "id": "dC1atM8Lxy03",
        "outputId": "89a0cd9a-e37d-414c-e498-71462a9fe6e2"
      },
      "execution_count": 193,
      "outputs": [
        {
          "output_type": "execute_result",
          "data": {
            "text/plain": [
              "(600,)"
            ]
          },
          "metadata": {},
          "execution_count": 193
        }
      ]
    },
    {
      "cell_type": "markdown",
      "source": [
        "## CNN MODEL"
      ],
      "metadata": {
        "id": "3qRbuUHeTOfR"
      }
    },
    {
      "cell_type": "markdown",
      "source": [
        "\n",
        "\n",
        "> Indented block\n",
        "\n"
      ],
      "metadata": {
        "id": "xJYbOyUTTOXy"
      }
    },
    {
      "cell_type": "code",
      "source": [
        "import time\n",
        "from tensorflow.keras.models import Model\n",
        "from tensorflow.keras.layers import Input,Dense,Flatten,Dropout,Conv2D,MaxPool2D\n",
        "from tensorflow.keras.layers import BatchNormalization\n",
        "from tensorflow.keras.layers import MaxPooling2D\n",
        "from tensorflow.keras.models import Model\n",
        "from tensorflow.keras.optimizers import Adam\n",
        "from tensorflow.keras import regularizers"
      ],
      "metadata": {
        "id": "gy2SNW6BL4WF"
      },
      "execution_count": 161,
      "outputs": []
    },
    {
      "cell_type": "code",
      "source": [
        "batch_size = 32\n",
        "epochs = 10\n",
        "inp = Input(shape =(257, 32, 1))\n",
        "out_dim = 2"
      ],
      "metadata": {
        "id": "T5aUxJRuTaHU"
      },
      "execution_count": 162,
      "outputs": []
    },
    {
      "cell_type": "code",
      "source": [
        "start = time.time()\n",
        "\n",
        "x = Conv2D(32, 3, activation='relu')(inp)\n",
        "x = BatchNormalization()(x)\n",
        "x = MaxPooling2D(pool_size=(2, 2))(x)\n",
        "x = Dropout(0.30)(x)\n",
        "\n",
        "x = Conv2D(64, 3, activation='relu')(x)\n",
        "x = BatchNormalization()(x)\n",
        "x = MaxPooling2D(pool_size=(2, 2))(x)\n",
        "x = Dropout(0.30)(x)\n",
        "\n",
        "x = Flatten()(x)\n",
        "x = Dense(100, activation='relu')(x)\n",
        "x = Dropout(0.30)(x)\n",
        "\n",
        "x = Dense(out_dim, activation='softmax')(x)"
      ],
      "metadata": {
        "id": "YQTtwAudTi5g"
      },
      "execution_count": 163,
      "outputs": []
    },
    {
      "cell_type": "code",
      "source": [
        "x_train = X_TRAIN\n",
        "y_train = Y_TRAIN"
      ],
      "metadata": {
        "id": "0-2XtZBXT7wH"
      },
      "execution_count": 164,
      "outputs": []
    },
    {
      "cell_type": "code",
      "source": [
        "classify = Model(inputs = inp, outputs = x)\n",
        "classify.compile(loss='SparseCategoricalCrossentropy', optimizer = 'adam', metrics='accuracy') \n",
        "#classify.summary()\n",
        "classify_train = classify.fit(x_train,y_train, epochs = epochs ,batch_size=batch_size)\n",
        "end = time.time()\n",
        "print(\"time taken\",time)"
      ],
      "metadata": {
        "colab": {
          "base_uri": "https://localhost:8080/"
        },
        "id": "Vvca_2TrTroW",
        "outputId": "a296ebd7-43f6-4fe9-8ecf-c40adb94af1a"
      },
      "execution_count": 165,
      "outputs": [
        {
          "output_type": "stream",
          "name": "stdout",
          "text": [
            "Epoch 1/10\n",
            "94/94 [==============================] - 42s 438ms/step - loss: 0.6386 - accuracy: 0.8947\n",
            "Epoch 2/10\n",
            "94/94 [==============================] - 39s 411ms/step - loss: 0.0993 - accuracy: 0.9653\n",
            "Epoch 3/10\n",
            "94/94 [==============================] - 38s 408ms/step - loss: 0.0697 - accuracy: 0.9763\n",
            "Epoch 4/10\n",
            "94/94 [==============================] - 39s 411ms/step - loss: 0.0575 - accuracy: 0.9793\n",
            "Epoch 5/10\n",
            "94/94 [==============================] - 38s 408ms/step - loss: 0.0319 - accuracy: 0.9903\n",
            "Epoch 6/10\n",
            "94/94 [==============================] - 39s 415ms/step - loss: 0.0264 - accuracy: 0.9913\n",
            "Epoch 7/10\n",
            "94/94 [==============================] - 39s 415ms/step - loss: 0.0191 - accuracy: 0.9940\n",
            "Epoch 8/10\n",
            "94/94 [==============================] - 39s 414ms/step - loss: 0.0258 - accuracy: 0.9910\n",
            "Epoch 9/10\n",
            "94/94 [==============================] - 39s 411ms/step - loss: 0.0421 - accuracy: 0.9880\n",
            "Epoch 10/10\n",
            "94/94 [==============================] - 38s 406ms/step - loss: 0.0598 - accuracy: 0.9837\n",
            "time taken <module 'time' (built-in)>\n"
          ]
        }
      ]
    },
    {
      "cell_type": "code",
      "source": [
        "test_eval = classify.evaluate(X_TEST,  Y_TEST, verbose=0)\n",
        "print('Test', test_eval)"
      ],
      "metadata": {
        "colab": {
          "base_uri": "https://localhost:8080/"
        },
        "id": "boyx0OVdUXHD",
        "outputId": "604097bb-c422-4ca3-919f-c8a1637b9fed"
      },
      "execution_count": 194,
      "outputs": [
        {
          "output_type": "stream",
          "name": "stdout",
          "text": [
            "Test [14.589241981506348, 0.07333333045244217]\n"
          ]
        }
      ]
    },
    {
      "cell_type": "code",
      "source": [
        "plt.plot(classify_train.history['accuracy'])\n",
        "plt.legend(['training'], loc = 'upper left')\n",
        "plt.show()"
      ],
      "metadata": {
        "colab": {
          "base_uri": "https://localhost:8080/",
          "height": 265
        },
        "id": "sEGEu_Y02orh",
        "outputId": "ba1de986-7b27-4818-ea6a-fd8f0b61b71c"
      },
      "execution_count": 196,
      "outputs": [
        {
          "output_type": "display_data",
          "data": {
            "text/plain": [
              "<Figure size 432x288 with 1 Axes>"
            ],
            "image/png": "[encoded data removed]"
          },
          "metadata": {
            "needs_background": "light"
          }
        }
      ]
    },
    {
      "cell_type": "code",
      "source": [
        "plt.plot(classify_train.history['loss'])\n",
        "plt.legend(['training'], loc = 'upper left')\n",
        "plt.show()"
      ],
      "metadata": {
        "colab": {
          "base_uri": "https://localhost:8080/",
          "height": 265
        },
        "id": "ZsGdeyh12x8h",
        "outputId": "ec04b458-ceb9-4f84-bb52-c7fc0ba2ea2f"
      },
      "execution_count": 197,
      "outputs": [
        {
          "output_type": "display_data",
          "data": {
            "text/plain": [
              "<Figure size 432x288 with 1 Axes>"
            ],
            "image/png": "[encoded data removed]"
          },
          "metadata": {
            "needs_background": "light"
          }
        }
      ]
    },
    {
      "cell_type": "code",
      "source": [
        "result = classify.predict(X_TEST)\n",
        "result"
      ],
      "metadata": {
        "colab": {
          "base_uri": "https://localhost:8080/"
        },
        "id": "qKz874BJ2_gO",
        "outputId": "403b6b92-747d-4116-ed94-2bd5c7d3b87b"
      },
      "execution_count": 202,
      "outputs": [
        {
          "output_type": "execute_result",
          "data": {
            "text/plain": [
              "array([[3.5903632e-08, 1.0000000e+00],\n",
              "       [1.1388086e-10, 1.0000000e+00],\n",
              "       [1.4641431e-10, 1.0000000e+00],\n",
              "       ...,\n",
              "       [1.0000000e+00, 1.7879422e-09],\n",
              "       [1.0000000e+00, 6.7165243e-24],\n",
              "       [1.0000000e+00, 2.0817273e-34]], dtype=float32)"
            ]
          },
          "metadata": {},
          "execution_count": 202
        }
      ]
    },
    {
      "cell_type": "markdown",
      "source": [
        "# TEST ON AIR DATA"
      ],
      "metadata": {
        "id": "FkuSgclF3znK"
      }
    },
    {
      "cell_type": "code",
      "source": [
        "sample_audio, sr  = lb.load('/drive/My Drive/Projects/Music-Speech-Separation/trimmed.wav', sr=8000, mono=True)\n",
        "sample_audio, sr"
      ],
      "metadata": {
        "colab": {
          "base_uri": "https://localhost:8080/"
        },
        "id": "r3JFYT9C3W5P",
        "outputId": "57c29e96-b5eb-4724-d18c-bc27dcad62e7"
      },
      "execution_count": 203,
      "outputs": [
        {
          "output_type": "execute_result",
          "data": {
            "text/plain": [
              "(array([0.        , 0.        , 0.        , ..., 0.1968468 , 0.09085861,\n",
              "        0.06629869], dtype=float32), 8000)"
            ]
          },
          "metadata": {},
          "execution_count": 203
        }
      ]
    },
    {
      "cell_type": "code",
      "source": [
        ""
      ],
      "metadata": {
        "id": "sCh6bPKV4rzW"
      },
      "execution_count": null,
      "outputs": []
    }
  ]
}