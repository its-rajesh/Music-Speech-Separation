{
 "cells": [
  {
   "cell_type": "markdown",
   "id": "fea1761a",
   "metadata": {},
   "source": [
    "# Music Speech Classifier"
   ]
  },
  {
   "cell_type": "markdown",
   "id": "6c956651",
   "metadata": {},
   "source": [
    "### IMPORTS"
   ]
  },
  {
   "cell_type": "code",
   "execution_count": 2,
   "id": "cb154518",
   "metadata": {},
   "outputs": [],
   "source": [
    "from keras.models import load_model"
   ]
  },
  {
   "cell_type": "code",
   "execution_count": 29,
   "id": "9bd095e8",
   "metadata": {},
   "outputs": [],
   "source": [
    "import librosa as lb\n",
    "import numpy as np\n",
    "import os"
   ]
  },
  {
   "cell_type": "code",
   "execution_count": 18,
   "id": "e9408591",
   "metadata": {},
   "outputs": [],
   "source": [
    "from pydub import AudioSegment"
   ]
  },
  {
   "cell_type": "markdown",
   "id": "3fe64201",
   "metadata": {},
   "source": [
    "### LOADING PRETRAINED MODEL"
   ]
  },
  {
   "cell_type": "code",
   "execution_count": 4,
   "id": "d4b12062",
   "metadata": {},
   "outputs": [],
   "source": [
    "model_path = '/home/rajesh/Desktop/Projects/Music-Speech-Separation/msclassifier.h5'\n",
    "msclassifier = load_model(model_path)"
   ]
  },
  {
   "cell_type": "markdown",
   "id": "eb40d6f8",
   "metadata": {},
   "source": [
    "### LOADING TEST INDIVIDUAL SONG"
   ]
  },
  {
   "cell_type": "code",
   "execution_count": 20,
   "id": "63a89c83",
   "metadata": {},
   "outputs": [
    {
     "data": {
      "text/plain": [
       "(array([0.        , 0.        , 0.        , ..., 0.1968468 , 0.09085861,\n",
       "        0.06629869], dtype=float32),\n",
       " 8000)"
      ]
     },
     "execution_count": 20,
     "metadata": {},
     "output_type": "execute_result"
    }
   ],
   "source": [
    "test_song_path = '/home/rajesh/Desktop/Projects/Music-Speech-Separation/Results/trimmed.wav'\n",
    "sample_audio, sr  = lb.load(test_song_path, sr=8000, mono=True)\n",
    "sample_audio, sr"
   ]
  },
  {
   "cell_type": "code",
   "execution_count": 21,
   "id": "32f75d4e",
   "metadata": {},
   "outputs": [],
   "source": [
    "'''\n",
    "THIS FUNCTION CREATES CHUNCKS OF THE GIVEN AUDIO FILE\n",
    "INPUTS: AUDIO (Can change the chunks length in seconds as indicated)\n",
    "RETURNS: CHUNCKS\n",
    "'''\n",
    "def createchunks(audio):\n",
    "  start = 0\n",
    "  stop = 4000 # for 0.5 seconds (8Khz): 1 sec has 8000 samples.\n",
    "  chunks = []\n",
    "  for i in range(len(audio)//4000):\n",
    "    chunks.append(audio[start:stop])\n",
    "    start = stop\n",
    "    stop = start+4000\n",
    "\n",
    "  return chunks"
   ]
  },
  {
   "cell_type": "code",
   "execution_count": 22,
   "id": "2b5e8dac",
   "metadata": {},
   "outputs": [
    {
     "data": {
      "text/plain": [
       "(510, 257, 32)"
      ]
     },
     "execution_count": 22,
     "metadata": {},
     "output_type": "execute_result"
    }
   ],
   "source": [
    "chunks_sample = np.array(createchunks(sample_audio))\n",
    "spect_sample = []\n",
    "for i in chunks_sample:\n",
    "  spect_sample.append(np.abs(lb.stft(i,n_fft=512))) #window length = nfft and hop length = win length //4\n",
    "\n",
    "spect_sample = np.array(spect_sample)\n",
    "spect_sample.shape"
   ]
  },
  {
   "cell_type": "code",
   "execution_count": 23,
   "id": "64d9d7c0",
   "metadata": {},
   "outputs": [
    {
     "name": "stdout",
     "output_type": "stream",
     "text": [
      "16/16 [==============================] - 1s 32ms/step\n"
     ]
    },
    {
     "data": {
      "text/plain": [
       "array([1, 1, 1, 1, 1, 0, 0, 0, 0, 0, 0, 0, 0, 0, 0, 0, 0, 0, 1, 1, 1, 1,\n",
       "       1, 1, 1, 1, 1, 1, 1, 1, 1, 1, 1, 1, 1, 1, 1, 1, 1, 1, 1, 1, 1, 1,\n",
       "       1, 1, 1, 1, 1, 1, 1, 1, 1, 1, 1, 1, 1, 1, 1, 1, 1, 1, 1, 1, 1, 1,\n",
       "       1, 1, 1, 1, 1, 1, 1, 1, 1, 1, 1, 1, 1, 1, 1, 1, 1, 1, 1, 1, 1, 1,\n",
       "       1, 1, 1, 1, 1, 1, 1, 1, 1, 1, 1, 1, 1, 1, 1, 1, 1, 1, 1, 1, 1, 1,\n",
       "       1, 1, 1, 1, 1, 1, 1, 1, 1, 1, 1, 1, 1, 1, 1, 1, 1, 1, 1, 1, 1, 1,\n",
       "       1, 1, 1, 1, 1, 1, 1, 1, 1, 1, 1, 1, 1, 1, 1, 1, 1, 1, 1, 1, 1, 1,\n",
       "       1, 1, 1, 1, 1, 1, 1, 1, 1, 1, 1, 1, 1, 1, 1, 1, 1, 1, 1, 1, 1, 1,\n",
       "       1, 1, 1, 1, 1, 1, 1, 1, 1, 1, 1, 1, 1, 1, 1, 1, 1, 1, 1, 1, 1, 1,\n",
       "       1, 1, 1, 1, 1, 1, 1, 1, 1, 1, 1, 1, 1, 1, 1, 1, 1, 1, 1, 1, 1, 1,\n",
       "       1, 1, 0, 1, 1, 1, 1, 1, 1, 1, 1, 1, 1, 1, 1, 1, 1, 1, 1, 1, 1, 1,\n",
       "       1, 1, 1, 1, 1, 1, 1, 1, 1, 1, 1, 1, 1, 1, 1, 1, 1, 1, 1, 1, 1, 1,\n",
       "       1, 1, 1, 1, 1, 1, 1, 1, 1, 1, 1, 1, 1, 1, 1, 1, 1, 1, 1, 1, 1, 1,\n",
       "       1, 1, 1, 1, 1, 1, 1, 1, 1, 1, 1, 1, 1, 1, 1, 1, 1, 1, 1, 1, 1, 1,\n",
       "       1, 1, 1, 1, 1, 1, 1, 1, 1, 1, 1, 1, 1, 1, 1, 1, 1, 1, 1, 1, 1, 1,\n",
       "       1, 1, 1, 1, 1, 1, 1, 1, 1, 1, 1, 1, 1, 1, 1, 1, 1, 1, 1, 1, 1, 1,\n",
       "       1, 1, 1, 1, 1, 1, 1, 1, 1, 1, 1, 1, 1, 1, 1, 1, 1, 1, 1, 1, 1, 1,\n",
       "       1, 1, 1, 1, 1, 1, 1, 1, 1, 1, 1, 1, 1, 1, 1, 1, 1, 1, 1, 1, 1, 1,\n",
       "       1, 1, 1, 1, 1, 1, 1, 1, 1, 1, 1, 1, 1, 1, 1, 1, 1, 1, 1, 1, 1, 1,\n",
       "       1, 1, 1, 1, 1, 1, 1, 1, 1, 1, 1, 1, 1, 1, 1, 1, 1, 1, 1, 1, 1, 1,\n",
       "       1, 1, 1, 1, 1, 1, 1, 1, 1, 1, 1, 0, 0, 0, 0, 0, 0, 0, 1, 1, 1, 1,\n",
       "       1, 1, 1, 1, 1, 1, 1, 1, 1, 1, 1, 1, 1, 1, 1, 1, 1, 1, 1, 1, 1, 1,\n",
       "       1, 1, 1, 1, 1, 1, 0, 0, 0, 0, 0, 0, 1, 1, 1, 1, 1, 1, 1, 1, 1, 1,\n",
       "       1, 1, 1, 1])"
      ]
     },
     "execution_count": 23,
     "metadata": {},
     "output_type": "execute_result"
    }
   ],
   "source": [
    "res = msclassifier.predict(spect_sample)\n",
    "res = np.argmax(res, axis=1)\n",
    "res"
   ]
  },
  {
   "cell_type": "code",
   "execution_count": 24,
   "id": "1e5bf276",
   "metadata": {},
   "outputs": [
    {
     "name": "stdout",
     "output_type": "stream",
     "text": [
      "[0.5, 1.0, 1.5, 2.0, 2.5, 9.5, 10.0, 10.5, 11.0, 11.5, 12.0, 12.5, 13.0, 13.5, 14.0, 14.5, 15.0, 15.5, 16.0, 16.5, 17.0, 17.5, 18.0, 18.5, 19.0, 19.5, 20.0, 20.5, 21.0, 21.5, 22.0, 22.5, 23.0, 23.5, 24.0, 24.5, 25.0, 25.5, 26.0, 26.5, 27.0, 27.5, 28.0, 28.5, 29.0, 29.5, 30.0, 30.5, 31.0, 31.5, 32.0, 32.5, 33.0, 33.5, 34.0, 34.5, 35.0, 35.5, 36.0, 36.5, 37.0, 37.5, 38.0, 38.5, 39.0, 39.5, 40.0, 40.5, 41.0, 41.5, 42.0, 42.5, 43.0, 43.5, 44.0, 44.5, 45.0, 45.5, 46.0, 46.5, 47.0, 47.5, 48.0, 48.5, 49.0, 49.5, 50.0, 50.5, 51.0, 51.5, 52.0, 52.5, 53.0, 53.5, 54.0, 54.5, 55.0, 55.5, 56.0, 56.5, 57.0, 57.5, 58.0, 58.5, 59.0, 59.5, 60.0, 60.5, 61.0, 61.5, 62.0, 62.5, 63.0, 63.5, 64.0, 64.5, 65.0, 65.5, 66.0, 66.5, 67.0, 67.5, 68.0, 68.5, 69.0, 69.5, 70.0, 70.5, 71.0, 71.5, 72.0, 72.5, 73.0, 73.5, 74.0, 74.5, 75.0, 75.5, 76.0, 76.5, 77.0, 77.5, 78.0, 78.5, 79.0, 79.5, 80.0, 80.5, 81.0, 81.5, 82.0, 82.5, 83.0, 83.5, 84.0, 84.5, 85.0, 85.5, 86.0, 86.5, 87.0, 87.5, 88.0, 88.5, 89.0, 89.5, 90.0, 90.5, 91.0, 91.5, 92.0, 92.5, 93.0, 93.5, 94.0, 94.5, 95.0, 95.5, 96.0, 96.5, 97.0, 97.5, 98.0, 98.5, 99.0, 99.5, 100.0, 100.5, 101.0, 101.5, 102.0, 102.5, 103.0, 103.5, 104.0, 104.5, 105.0, 105.5, 106.0, 106.5, 107.0, 107.5, 108.0, 108.5, 109.0, 109.5, 110.0, 110.5, 111.0, 112.0, 112.5, 113.0, 113.5, 114.0, 114.5, 115.0, 115.5, 116.0, 116.5, 117.0, 117.5, 118.0, 118.5, 119.0, 119.5, 120.0, 120.5, 121.0, 121.5, 122.0, 122.5, 123.0, 123.5, 124.0, 124.5, 125.0, 125.5, 126.0, 126.5, 127.0, 127.5, 128.0, 128.5, 129.0, 129.5, 130.0, 130.5, 131.0, 131.5, 132.0, 132.5, 133.0, 133.5, 134.0, 134.5, 135.0, 135.5, 136.0, 136.5, 137.0, 137.5, 138.0, 138.5, 139.0, 139.5, 140.0, 140.5, 141.0, 141.5, 142.0, 142.5, 143.0, 143.5, 144.0, 144.5, 145.0, 145.5, 146.0, 146.5, 147.0, 147.5, 148.0, 148.5, 149.0, 149.5, 150.0, 150.5, 151.0, 151.5, 152.0, 152.5, 153.0, 153.5, 154.0, 154.5, 155.0, 155.5, 156.0, 156.5, 157.0, 157.5, 158.0, 158.5, 159.0, 159.5, 160.0, 160.5, 161.0, 161.5, 162.0, 162.5, 163.0, 163.5, 164.0, 164.5, 165.0, 165.5, 166.0, 166.5, 167.0, 167.5, 168.0, 168.5, 169.0, 169.5, 170.0, 170.5, 171.0, 171.5, 172.0, 172.5, 173.0, 173.5, 174.0, 174.5, 175.0, 175.5, 176.0, 176.5, 177.0, 177.5, 178.0, 178.5, 179.0, 179.5, 180.0, 180.5, 181.0, 181.5, 182.0, 182.5, 183.0, 183.5, 184.0, 184.5, 185.0, 185.5, 186.0, 186.5, 187.0, 187.5, 188.0, 188.5, 189.0, 189.5, 190.0, 190.5, 191.0, 191.5, 192.0, 192.5, 193.0, 193.5, 194.0, 194.5, 195.0, 195.5, 196.0, 196.5, 197.0, 197.5, 198.0, 198.5, 199.0, 199.5, 200.0, 200.5, 201.0, 201.5, 202.0, 202.5, 203.0, 203.5, 204.0, 204.5, 205.0, 205.5, 206.0, 206.5, 207.0, 207.5, 208.0, 208.5, 209.0, 209.5, 210.0, 210.5, 211.0, 211.5, 212.0, 212.5, 213.0, 213.5, 214.0, 214.5, 215.0, 215.5, 216.0, 216.5, 217.0, 217.5, 218.0, 218.5, 219.0, 219.5, 220.0, 220.5, 221.0, 221.5, 222.0, 222.5, 223.0, 223.5, 224.0, 224.5, 225.0, 225.5, 229.5, 230.0, 230.5, 231.0, 231.5, 232.0, 232.5, 233.0, 233.5, 234.0, 234.5, 235.0, 235.5, 236.0, 236.5, 237.0, 237.5, 238.0, 238.5, 239.0, 239.5, 240.0, 240.5, 241.0, 241.5, 242.0, 242.5, 243.0, 243.5, 244.0, 244.5, 245.0, 248.5, 249.0, 249.5, 250.0, 250.5, 251.0, 251.5, 252.0, 252.5, 253.0, 253.5, 254.0, 254.5, 255.0]\n"
     ]
    }
   ],
   "source": [
    "seconds = 0\n",
    "time_split = []\n",
    "for i in range(len(res)):\n",
    "  seconds += 0.5\n",
    "  if res[i] == 1:\n",
    "    time_split.append(seconds)\n",
    "\n",
    "print(time_split)"
   ]
  },
  {
   "cell_type": "code",
   "execution_count": 25,
   "id": "b0d02817",
   "metadata": {},
   "outputs": [
    {
     "data": {
      "text/plain": [
       "[0.5, 2.5, 9.5, 111.0, 112.0, 225.5, 229.5, 245.0, 248.5, 255.0]"
      ]
     },
     "execution_count": 25,
     "metadata": {},
     "output_type": "execute_result"
    }
   ],
   "source": [
    "time_index = []\n",
    "time_index.append(time_split[0])\n",
    "for i in range(len(time_split)-1):\n",
    "  if time_split[i+1] != time_split[i]+0.5:\n",
    "    time_index.append(time_split[i])\n",
    "    time_index.append(time_split[i+1])\n",
    "\n",
    "time_index.append(time_split[-1])\n",
    "time_index"
   ]
  },
  {
   "cell_type": "code",
   "execution_count": 26,
   "id": "d0698f9e",
   "metadata": {},
   "outputs": [
    {
     "data": {
      "text/plain": [
       "[(500.0, 2500.0),\n",
       " (9500.0, 111000.0),\n",
       " (112000.0, 225500.0),\n",
       " (229500.0, 245000.0),\n",
       " (248500.0, 255000.0)]"
      ]
     },
     "execution_count": 26,
     "metadata": {},
     "output_type": "execute_result"
    }
   ],
   "source": [
    "time_tuple = []\n",
    "for i in range(0, len(time_index)-1, 2):\n",
    "  if time_index[i] != 0 and time_index[i] != 0.5:\n",
    "    time_tuple.append(((time_index[i])*1000, (time_index[i+1])*1000)) #converting into msec\n",
    "  else:\n",
    "    time_tuple.append(((time_index[i])*1000, (time_index[i+1])*1000))\n",
    "\n",
    "time_tuple"
   ]
  },
  {
   "cell_type": "code",
   "execution_count": 27,
   "id": "0586c2e5",
   "metadata": {},
   "outputs": [],
   "source": [
    "sample_audio = AudioSegment.from_file(test_song_path, format=\"wav\")\n",
    "\n",
    "trimmed_audio = []\n",
    "for sec in time_tuple:\n",
    "    trimmed_audio.append(sample_audio[int(sec[0]):int(sec[1])])\n",
    "\n",
    "\n",
    "extracted = trimmed_audio[0]\n",
    "for i in range(1, len(trimmed_audio)):\n",
    "    extracted = extracted+trimmed_audio[i]"
   ]
  },
  {
   "cell_type": "code",
   "execution_count": 28,
   "id": "bc1f64ac",
   "metadata": {},
   "outputs": [
    {
     "data": {
      "text/plain": [
       "<_io.BufferedRandom name='/home/rajesh/Desktop/speechextractedtrimmed.wav'>"
      ]
     },
     "execution_count": 28,
     "metadata": {},
     "output_type": "execute_result"
    }
   ],
   "source": [
    "result_path = \"/home/rajesh/Desktop/speechextractedtrimmed.wav\"\n",
    "extracted.export(result_path, format=\"wav\")"
   ]
  },
  {
   "cell_type": "code",
   "execution_count": null,
   "id": "4824b5e0",
   "metadata": {},
   "outputs": [],
   "source": []
  },
  {
   "cell_type": "markdown",
   "id": "c0941ccc",
   "metadata": {},
   "source": [
    "### UPLOAD FOLDER"
   ]
  },
  {
   "cell_type": "code",
   "execution_count": 44,
   "id": "abc33a59",
   "metadata": {},
   "outputs": [
    {
     "name": "stdout",
     "output_type": "stream",
     "text": [
      "10 files found in the folder (56.wav,51.wav,...)\n"
     ]
    }
   ],
   "source": [
    "folder_path = '/home/rajesh/Desktop/Projects/Music-Speech-Separation/Test Data/overlay'\n",
    "files = os.listdir(folder_path)\n",
    "print('{} files found in the folder ({},{},...)'.format(len(files), files[0], files[1]))"
   ]
  },
  {
   "cell_type": "code",
   "execution_count": 45,
   "id": "07b84794",
   "metadata": {},
   "outputs": [
    {
     "name": "stdout",
     "output_type": "stream",
     "text": [
      "1/1 [==============================] - 0s 37ms/step\n",
      "1/1 [==============================] - 0s 39ms/step\n",
      "1/1 [==============================] - 0s 36ms/step\n",
      "1/1 [==============================] - 0s 36ms/step\n",
      "1/1 [==============================] - 0s 37ms/step\n",
      "1/1 [==============================] - 0s 36ms/step\n",
      "1/1 [==============================] - 0s 38ms/step\n",
      "1/1 [==============================] - 0s 36ms/step\n",
      "1/1 [==============================] - 0s 35ms/step\n",
      "1/1 [==============================] - 0s 38ms/step\n",
      "Results can be seen in the same path under the newly created folder 'Results'\n"
     ]
    }
   ],
   "source": [
    "k = 1\n",
    "for audio in files:\n",
    "    \n",
    "    path = folder_path+'/'+audio\n",
    "    sample_audio, sr  = lb.load(path, sr=8000, mono=True)\n",
    "    \n",
    "    chunks_sample = np.array(createchunks(sample_audio))\n",
    "    spect_sample = []\n",
    "    for i in chunks_sample:\n",
    "        spect_sample.append(np.abs(lb.stft(i,n_fft=512))) #window length = nfft and hop length = win length //4\n",
    "\n",
    "    spect_sample = np.array(spect_sample)\n",
    "    \n",
    "    res = msclassifier.predict(spect_sample)\n",
    "    res = np.argmax(res, axis=1)\n",
    "    \n",
    "    seconds = 0\n",
    "    time_split = []\n",
    "    for i in range(len(res)):\n",
    "        seconds += 0.5\n",
    "        if res[i] == 1:\n",
    "            time_split.append(seconds)\n",
    "\n",
    "    time_index = []\n",
    "    time_index.append(time_split[0])\n",
    "    for i in range(len(time_split)-1):\n",
    "        if time_split[i+1] != time_split[i]+0.5:\n",
    "            time_index.append(time_split[i])\n",
    "            time_index.append(time_split[i+1])\n",
    "\n",
    "    time_index.append(time_split[-1])\n",
    "    \n",
    "    time_tuple = []\n",
    "    for i in range(0, len(time_index)-1, 2):\n",
    "        if time_index[i] != 0 and time_index[i] != 0.5:\n",
    "            time_tuple.append(((time_index[i])*1000, (time_index[i+1])*1000)) #converting into msec\n",
    "        else:\n",
    "            time_tuple.append(((time_index[i])*1000, (time_index[i+1])*1000))\n",
    "\n",
    "    \n",
    "    sample_audio = AudioSegment.from_file(path, format=\"wav\")\n",
    "\n",
    "    trimmed_audio = []\n",
    "    for sec in time_tuple:\n",
    "        trimmed_audio.append(sample_audio[int(sec[0]):int(sec[1])])\n",
    "\n",
    "    extracted = trimmed_audio[0]\n",
    "    for i in range(1, len(trimmed_audio)):\n",
    "        extracted = extracted+trimmed_audio[i]\n",
    "    \n",
    "    \n",
    "    result_path = folder_path+'/Results'\n",
    "    try:\n",
    "        os.mkdir(result_path)\n",
    "    except:\n",
    "        pass\n",
    "    extracted.export(result_path+'/extracted'+str(k)+'.wav', format=\"wav\")\n",
    "    k += 1\n",
    "    \n",
    "print(\"Results can be seen in the same path under the newly created folder 'Results'\")"
   ]
  },
  {
   "cell_type": "code",
   "execution_count": null,
   "id": "63012b82",
   "metadata": {},
   "outputs": [],
   "source": []
  },
  {
   "cell_type": "code",
   "execution_count": null,
   "id": "663c909d",
   "metadata": {},
   "outputs": [],
   "source": []
  },
  {
   "cell_type": "code",
   "execution_count": null,
   "id": "ee6730e2",
   "metadata": {},
   "outputs": [],
   "source": []
  }
 ],
 "metadata": {
  "kernelspec": {
   "display_name": "Python 3 (ipykernel)",
   "language": "python",
   "name": "python3"
  },
  "language_info": {
   "codemirror_mode": {
    "name": "ipython",
    "version": 3
   },
   "file_extension": ".py",
   "mimetype": "text/x-python",
   "name": "python",
   "nbconvert_exporter": "python",
   "pygments_lexer": "ipython3",
   "version": "3.10.4"
  }
 },
 "nbformat": 4,
 "nbformat_minor": 5
}
