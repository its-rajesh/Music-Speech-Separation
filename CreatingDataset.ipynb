{
  "cells": [
    {
      "cell_type": "markdown",
      "metadata": {
        "id": "view-in-github",
        "colab_type": "text"
      },
      "source": [
        "<a href=\"https://colab.research.google.com/github/its-rajesh/Music-Speech-Separation/blob/main/CreatingDataset.ipynb\" target=\"_parent\"><img src=\"https://colab.research.google.com/assets/colab-badge.svg\" alt=\"Open In Colab\"/></a>"
      ]
    },
    {
      "cell_type": "code",
      "execution_count": null,
      "id": "f0a7957c",
      "metadata": {
        "scrolled": true,
        "id": "f0a7957c"
      },
      "outputs": [],
      "source": [
        "from pydub import AudioSegment"
      ]
    },
    {
      "cell_type": "code",
      "execution_count": null,
      "id": "b6498ae3",
      "metadata": {
        "id": "b6498ae3"
      },
      "outputs": [],
      "source": [
        "for i in range(1, 61):\n",
        "    music = AudioSegment.from_file(\"/home/rajesh/MusicSpeechSeparartion/Dataset/music/\"+str(i)+\".wav\", format=\"wav\")\n",
        "    speech = AudioSegment.from_file(\"/home/rajesh/MusicSpeechSeparartion/Dataset/speech/\"+str(i)+\".wav\", format=\"wav\")\n",
        "\n",
        "    merge = music+speech\n",
        "    mixture = merge.export(\"/home/rajesh/MusicSpeechSeparartion/Dataset/Mixture/\"+str(i)+\".wav\", format=\"wav\")\n",
        "    \n",
        "    speech = speech + 6\n",
        "    overlay = speech.overlay(music, position=0)\n",
        "    output = overlay.export(\"/home/rajesh/MusicSpeechSeparartion/Dataset/Overlay/\"+str(i)+\".wav\", format=\"wav\")\n"
      ]
    },
    {
      "cell_type": "markdown",
      "source": [
        "# Audios to STFT Arrays (.csv) files"
      ],
      "metadata": {
        "id": "jQObnpZ-x3QC"
      },
      "id": "jQObnpZ-x3QC"
    },
    {
      "cell_type": "code",
      "source": [
        "import os\n",
        "import numpy as np\n",
        "import pandas as pd\n",
        "import soundfile as sf\n",
        "import librosa as lb"
      ],
      "metadata": {
        "id": "o0KTgijeyIZH"
      },
      "id": "o0KTgijeyIZH",
      "execution_count": 2,
      "outputs": []
    },
    {
      "cell_type": "code",
      "source": [
        "from google.colab import drive\n",
        "drive.mount('/drive')"
      ],
      "metadata": {
        "colab": {
          "base_uri": "https://localhost:8080/"
        },
        "id": "tpKcvIYJySxW",
        "outputId": "0dc6c9aa-85c1-4814-8eac-06a61e1e4391"
      },
      "id": "tpKcvIYJySxW",
      "execution_count": 3,
      "outputs": [
        {
          "output_type": "stream",
          "name": "stdout",
          "text": [
            "Mounted at /drive\n"
          ]
        }
      ]
    },
    {
      "cell_type": "code",
      "execution_count": 4,
      "id": "b67c13b8",
      "metadata": {
        "colab": {
          "base_uri": "https://localhost:8080/"
        },
        "id": "b67c13b8",
        "outputId": "a9f77456-e0bb-46b4-f6ff-048f96c2756e"
      },
      "outputs": [
        {
          "output_type": "execute_result",
          "data": {
            "text/plain": [
              "['Mixture', 'Overlay', 'speech', 'music']"
            ]
          },
          "metadata": {},
          "execution_count": 4
        }
      ],
      "source": [
        "path = \"/drive/My Drive/Projects/Music-Speech-Separation/Dataset\"\n",
        "\n",
        "folders = os.listdir(path)\n",
        "folders"
      ]
    },
    {
      "cell_type": "code",
      "source": [
        "audiofiles, samplerates = [], []\n",
        "for folder in folders:\n",
        "    files = os.listdir(path+'/'+folder)\n",
        "    files = sorted(files)\n",
        "    audio, sr = [], []\n",
        "    for file in files:\n",
        "        data, samplerate = sf.read(path+'/'+folder+'/'+file)\n",
        "        audio.append(data)\n",
        "        sr.append(samplerate)\n",
        "    audiofiles.append(audio)\n",
        "    samplerates.append(sr)"
      ],
      "metadata": {
        "id": "Alh23pCayBvM"
      },
      "id": "Alh23pCayBvM",
      "execution_count": 5,
      "outputs": []
    },
    {
      "cell_type": "code",
      "source": [
        "overlay = np.array(audiofiles[0])\n",
        "mixture = np.array(audiofiles[1])\n",
        "speech = np.array(audiofiles[2])\n",
        "music = np.array(audiofiles[3])\n",
        "\n",
        "dataset = [overlay, mixture, speech, music]"
      ],
      "metadata": {
        "id": "PQU1NQoGyiSX"
      },
      "id": "PQU1NQoGyiSX",
      "execution_count": 7,
      "outputs": []
    },
    {
      "cell_type": "code",
      "source": [
        "datasetstft = []\n",
        "for data in dataset:\n",
        "    spect = []\n",
        "    for audio in data:\n",
        "        stft = np.abs(lb.stft(audio))\n",
        "        spect.append(stft)\n",
        "    datasetstft.append(spect)"
      ],
      "metadata": {
        "id": "EFSt0eX2ypfW"
      },
      "id": "EFSt0eX2ypfW",
      "execution_count": 8,
      "outputs": []
    },
    {
      "cell_type": "code",
      "source": [
        "overlay_stft = np.array(datasetstft[0])\n",
        "mixture_stft = np.array(datasetstft[1])\n",
        "speech_stft = np.array(datasetstft[2])\n",
        "music_stft = np.array(datasetstft[3])\n",
        "\n",
        "dataset_stft = [overlay_stft, mixture_stft, speech_stft, music_stft]"
      ],
      "metadata": {
        "id": "WmqZ9yH_yrFl"
      },
      "id": "WmqZ9yH_yrFl",
      "execution_count": 10,
      "outputs": []
    },
    {
      "cell_type": "code",
      "source": [
        "overlay_stft.shape, mixture_stft.shape, speech_stft.shape, music_stft.shape"
      ],
      "metadata": {
        "colab": {
          "base_uri": "https://localhost:8080/"
        },
        "id": "UaYtcaRyyspF",
        "outputId": "75bed90a-74cf-494f-f5ca-42a2a1708359"
      },
      "id": "UaYtcaRyyspF",
      "execution_count": 11,
      "outputs": [
        {
          "output_type": "execute_result",
          "data": {
            "text/plain": [
              "((50, 1025, 1292), (50, 1025, 646), (50, 1025, 646), (50, 1025, 646))"
            ]
          },
          "metadata": {},
          "execution_count": 11
        }
      ]
    },
    {
      "cell_type": "code",
      "source": [
        "groundtruth_stft = []\n",
        "for i in range(50):\n",
        "    groundtruth_stft.append(np.hstack((speech_stft[i], music_stft[i])))\n",
        "\n",
        "    \n",
        "groundtruth_stft = np.array(groundtruth_stft)\n",
        "groundtruth_stft.shape"
      ],
      "metadata": {
        "colab": {
          "base_uri": "https://localhost:8080/"
        },
        "id": "fLNgJaLry4mU",
        "outputId": "565ddd5c-df37-4ebe-c6cc-887621d58fbf"
      },
      "id": "fLNgJaLry4mU",
      "execution_count": 12,
      "outputs": [
        {
          "output_type": "execute_result",
          "data": {
            "text/plain": [
              "(50, 1025, 1292)"
            ]
          },
          "metadata": {},
          "execution_count": 12
        }
      ]
    },
    {
      "cell_type": "markdown",
      "source": [
        "### Creating DataFrames and CSV Files"
      ],
      "metadata": {
        "id": "OOiLSuIfzck3"
      },
      "id": "OOiLSuIfzck3"
    },
    {
      "cell_type": "code",
      "source": [
        "csv_path = '/drive/My Drive/Projects/Music-Speech-Separation/CSVFilesTraining'"
      ],
      "metadata": {
        "id": "zAiI5f3ky4gK"
      },
      "id": "zAiI5f3ky4gK",
      "execution_count": 19,
      "outputs": []
    },
    {
      "cell_type": "code",
      "source": [
        "i = 1\n",
        "for file in groundtruth_stft:\n",
        "  f = pd.DataFrame(file)\n",
        "  f.to_csv(csv_path+'/GroundTruth/'+str(i)+'.csv')\n",
        "  i += 1"
      ],
      "metadata": {
        "id": "YHaTZYTRy4db"
      },
      "id": "YHaTZYTRy4db",
      "execution_count": 21,
      "outputs": []
    },
    {
      "cell_type": "code",
      "source": [
        "i = 1\n",
        "for file in overlay_stft:\n",
        "  f = pd.DataFrame(file)\n",
        "  f.to_csv(csv_path+'/Mixture/'+str(i)+'.csv')\n",
        "  i += 1"
      ],
      "metadata": {
        "id": "v-Xjt8-5y4ZK"
      },
      "id": "v-Xjt8-5y4ZK",
      "execution_count": 22,
      "outputs": []
    },
    {
      "cell_type": "code",
      "source": [
        ""
      ],
      "metadata": {
        "id": "Guh3v8a5y4V6"
      },
      "id": "Guh3v8a5y4V6",
      "execution_count": null,
      "outputs": []
    },
    {
      "cell_type": "code",
      "source": [
        ""
      ],
      "metadata": {
        "id": "wCUKBKLxy2yj"
      },
      "id": "wCUKBKLxy2yj",
      "execution_count": null,
      "outputs": []
    }
  ],
  "metadata": {
    "kernelspec": {
      "display_name": "Python 3 (ipykernel)",
      "language": "python",
      "name": "python3"
    },
    "language_info": {
      "codemirror_mode": {
        "name": "ipython",
        "version": 3
      },
      "file_extension": ".py",
      "mimetype": "text/x-python",
      "name": "python",
      "nbconvert_exporter": "python",
      "pygments_lexer": "ipython3",
      "version": "3.10.4"
    },
    "colab": {
      "name": "CreatingDataset.ipynb",
      "provenance": [],
      "include_colab_link": true
    }
  },
  "nbformat": 4,
  "nbformat_minor": 5
}