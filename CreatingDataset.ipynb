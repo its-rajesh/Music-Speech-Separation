{
 "cells": [
  {
   "cell_type": "code",
   "execution_count": 5,
   "id": "f0a7957c",
   "metadata": {
    "scrolled": true
   },
   "outputs": [],
   "source": [
    "from pydub import AudioSegment"
   ]
  },
  {
   "cell_type": "code",
   "execution_count": null,
   "id": "8b4f2dcd",
   "metadata": {},
   "outputs": [],
   "source": []
  },
  {
   "cell_type": "code",
   "execution_count": null,
   "id": "3a182df5",
   "metadata": {},
   "outputs": [],
   "source": []
  },
  {
   "cell_type": "code",
   "execution_count": null,
   "id": "f8b42a7e",
   "metadata": {},
   "outputs": [],
   "source": []
  },
  {
   "cell_type": "code",
   "execution_count": 11,
   "id": "b6498ae3",
   "metadata": {},
   "outputs": [],
   "source": [
    "for i in range(1, 61):\n",
    "    music = AudioSegment.from_file(\"/home/rajesh/MusicSpeechSeparartion/Dataset/music/\"+str(i)+\".wav\", format=\"wav\")\n",
    "    speech = AudioSegment.from_file(\"/home/rajesh/MusicSpeechSeparartion/Dataset/speech/\"+str(i)+\".wav\", format=\"wav\")\n",
    "\n",
    "    merge = music+speech\n",
    "    mixture = merge.export(\"/home/rajesh/MusicSpeechSeparartion/Dataset/Mixture/\"+str(i)+\".wav\", format=\"wav\")\n",
    "    \n",
    "    speech = speech + 6\n",
    "    overlay = speech.overlay(music, position=0)\n",
    "    output = overlay.export(\"/home/rajesh/MusicSpeechSeparartion/Dataset/Overlay/\"+str(i)+\".wav\", format=\"wav\")\n"
   ]
  },
  {
   "cell_type": "code",
   "execution_count": null,
   "id": "b67c13b8",
   "metadata": {},
   "outputs": [],
   "source": []
  }
 ],
 "metadata": {
  "kernelspec": {
   "display_name": "Python 3 (ipykernel)",
   "language": "python",
   "name": "python3"
  },
  "language_info": {
   "codemirror_mode": {
    "name": "ipython",
    "version": 3
   },
   "file_extension": ".py",
   "mimetype": "text/x-python",
   "name": "python",
   "nbconvert_exporter": "python",
   "pygments_lexer": "ipython3",
   "version": "3.10.4"
  }
 },
 "nbformat": 4,
 "nbformat_minor": 5
}
