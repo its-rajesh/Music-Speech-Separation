{
  "nbformat": 4,
  "nbformat_minor": 0,
  "metadata": {
    "colab": {
      "name": "MSClassifierV3.ipynb",
      "provenance": [],
      "collapsed_sections": [],
      "toc_visible": true,
      "authorship_tag": "ABX9TyOxULDzw5Y7nGnQ+TOFEkt8",
      "include_colab_link": true
    },
    "kernelspec": {
      "name": "python3",
      "display_name": "Python 3"
    },
    "language_info": {
      "name": "python"
    }
  },
  "cells": [
    {
      "cell_type": "markdown",
      "metadata": {
        "id": "view-in-github",
        "colab_type": "text"
      },
      "source": [
        "<a href=\"https://colab.research.google.com/github/its-rajesh/Music-Speech-Separation/blob/main/MSClassifierV3.ipynb\" target=\"_parent\"><img src=\"https://colab.research.google.com/assets/colab-badge.svg\" alt=\"Open In Colab\"/></a>"
      ]
    },
    {
      "cell_type": "markdown",
      "source": [
        "# **MUSIC SPEECH CONV NEURAL NETWORK CLASSIFIER**"
      ],
      "metadata": {
        "id": "ioS14CbsHisS"
      }
    },
    {
      "cell_type": "markdown",
      "source": [
        "### **Imports**"
      ],
      "metadata": {
        "id": "OZb-lTVoOH7j"
      }
    },
    {
      "cell_type": "code",
      "execution_count": 16,
      "metadata": {
        "id": "6WcuVWOJHaxg"
      },
      "outputs": [],
      "source": [
        "import tensorflow as tf\n",
        "from tensorflow import keras"
      ]
    },
    {
      "cell_type": "code",
      "source": [
        "import soundfile as sf\n",
        "import librosa as lb\n",
        "import numpy as np\n",
        "from matplotlib import pyplot as plt\n",
        "import os\n",
        "import pandas as pd"
      ],
      "metadata": {
        "id": "cV_YcCIPH1oF"
      },
      "execution_count": 17,
      "outputs": []
    },
    {
      "cell_type": "markdown",
      "source": [
        "### **Reading audio files and creating chunks**"
      ],
      "metadata": {
        "id": "oQyGXVx_H-A5"
      }
    },
    {
      "cell_type": "code",
      "source": [
        "from google.colab import drive\n",
        "drive.mount('/drive')"
      ],
      "metadata": {
        "colab": {
          "base_uri": "https://localhost:8080/"
        },
        "id": "0SXPlgnSH82g",
        "outputId": "b5e6b79a-062e-44c1-c050-38b6c5007f70"
      },
      "execution_count": 3,
      "outputs": [
        {
          "output_type": "stream",
          "name": "stdout",
          "text": [
            "Mounted at /drive\n"
          ]
        }
      ]
    },
    {
      "cell_type": "code",
      "source": [
        "'''\n",
        "THIS FUNCTION ACCEPTS FOLDER PATH WHICH CONTAINS SPEECH AND MUSIC DATASET\n",
        "RETURNS: 1D ARRAY OF AUDIO FILES\n",
        "'''\n",
        "def readaudiofiles(path):\n",
        "\n",
        "  folders = os.listdir(path)\n",
        "  print(folders)\n",
        "\n",
        "  audiofiles = []\n",
        "  for folder in folders:\n",
        "    files = os.listdir(path+'/'+folder)\n",
        "    files = sorted(files)\n",
        "    audio = []\n",
        "    for file in files:\n",
        "        data, samplerate = lb.load(path+'/'+folder+'/'+file, sr=8000, mono=True)\n",
        "        audio.append(data)\n",
        "    audiofiles.append(audio)\n",
        "\n",
        "  music = np.array(audiofiles[3])\n",
        "  mixture = np.array(audiofiles[0])\n",
        "  overlay = np.array(audiofiles[1])\n",
        "  speech = np.array(audiofiles[2])\n",
        "\n",
        "  dataset = [music, mixture, overlay, speech]\n",
        "  print(samplerate)\n",
        "\n",
        "  return music, mixture, overlay, speech, dataset\n",
        "\n",
        "\n",
        "path = '/drive/My Drive/Projects/Music-Speech-Separation/Dataset/'\n",
        "music, mixture, overlay, speech, dataset = readaudiofiles(path)"
      ],
      "metadata": {
        "colab": {
          "base_uri": "https://localhost:8080/"
        },
        "id": "RxgJO2sv2sP1",
        "outputId": "d46e1e15-6fbb-4963-a40e-66a86da1ed94"
      },
      "execution_count": 4,
      "outputs": [
        {
          "output_type": "stream",
          "name": "stdout",
          "text": [
            "['Mixture', 'Overlay', 'speech', 'music']\n",
            "8000\n"
          ]
        }
      ]
    },
    {
      "cell_type": "code",
      "source": [
        "music[0], len(music[0]), len(music[0])/8000"
      ],
      "metadata": {
        "colab": {
          "base_uri": "https://localhost:8080/"
        },
        "id": "ZKLAfv4eYKYf",
        "outputId": "6279d240-c41a-489b-84a4-11de235c665b"
      },
      "execution_count": 5,
      "outputs": [
        {
          "output_type": "execute_result",
          "data": {
            "text/plain": [
              "(array([-0.06211764, -0.17527802, -0.13408872, ...,  0.06697536,\n",
              "         0.07972796,  0.11764227], dtype=float32), 120000, 15.0)"
            ]
          },
          "metadata": {},
          "execution_count": 5
        }
      ]
    },
    {
      "cell_type": "code",
      "source": [
        "'''\n",
        "THIS FUNCTION CREATES CHUNCKS OF THE GIVEN AUDIO FILE\n",
        "INPUTS: AUDIO (Can change the chunks length in seconds as indicated)\n",
        "RETURNS: CHUNCKS\n",
        "'''\n",
        "def createchunks(audio):\n",
        "  start = 0\n",
        "  stop = 4000 # for 0.5 seconds (8Khz): 1 sec has 8000 samples.\n",
        "  chunks = []\n",
        "  for i in range(len(audio)//4000):\n",
        "    chunks.append(audio[start:stop])\n",
        "    start = stop\n",
        "    stop = start+4000\n",
        "\n",
        "  return chunks"
      ],
      "metadata": {
        "id": "Zk0QZwp8ZKYx"
      },
      "execution_count": 6,
      "outputs": []
    },
    {
      "cell_type": "markdown",
      "source": [
        "### **Obtaining STFT features**"
      ],
      "metadata": {
        "id": "XHND2AnpfR1o"
      }
    },
    {
      "cell_type": "code",
      "source": [
        "def stft_extract(music, speech):\n",
        "  datasetstft = []\n",
        "  index = 0\n",
        "  y_train = []\n",
        "  for data in [music, speech]:\n",
        "      spect = []\n",
        "      y = []\n",
        "      for audio in data:\n",
        "        chunks = np.array(createchunks(audio))\n",
        "        chunks_spect = []\n",
        "        for i in chunks:\n",
        "          chunks_spect.append(np.abs(lb.stft(i,n_fft=512))) #window length = nfft and hop length = win length //4\n",
        "\n",
        "        chunks_spect = np.array(chunks_spect)\n",
        "\n",
        "        spect.append(chunks_spect)\n",
        "\n",
        "        if index == 0:\n",
        "          y.append(np.zeros(30))\n",
        "        elif index == 1:\n",
        "          y.append(np.ones(30))\n",
        "      \n",
        "      index += 1\n",
        "      y_train.append(np.array(y))\n",
        "      datasetstft.append(np.array(spect))\n",
        "\n",
        "  return datasetstft, y_train"
      ],
      "metadata": {
        "id": "YgyRfrhK5rrR"
      },
      "execution_count": null,
      "outputs": []
    },
    {
      "cell_type": "code",
      "source": [
        "datasetstft, y_train_stft = stft_extract(music, speech)"
      ],
      "metadata": {
        "id": "lsWoje506MRP"
      },
      "execution_count": null,
      "outputs": []
    },
    {
      "cell_type": "code",
      "source": [
        "y_train_stft[0].shape, len(y_train_stft)"
      ],
      "metadata": {
        "colab": {
          "base_uri": "https://localhost:8080/"
        },
        "id": "3hQ4l6fXkJ0Y",
        "outputId": "8af4ccd6-46c8-419d-8408-de0e18a0ebc3"
      },
      "execution_count": null,
      "outputs": [
        {
          "output_type": "execute_result",
          "data": {
            "text/plain": [
              "((50, 30), 2)"
            ]
          },
          "metadata": {},
          "execution_count": 81
        }
      ]
    },
    {
      "cell_type": "code",
      "source": [
        "datasetstft[0].shape, len(datasetstft)"
      ],
      "metadata": {
        "colab": {
          "base_uri": "https://localhost:8080/"
        },
        "id": "HDVFcam2ZLRo",
        "outputId": "f90e8826-a1e0-4f7d-8a81-46c67cbe1377"
      },
      "execution_count": null,
      "outputs": [
        {
          "output_type": "execute_result",
          "data": {
            "text/plain": [
              "((50, 30, 257, 32), 2)"
            ]
          },
          "metadata": {},
          "execution_count": 82
        }
      ]
    },
    {
      "cell_type": "markdown",
      "source": [
        "### **Obtaining chroma features**"
      ],
      "metadata": {
        "id": "80hvf3XNghC5"
      }
    },
    {
      "cell_type": "code",
      "source": [
        "def chroma_extract(music, speech):\n",
        "  datasetchroma = []\n",
        "  index = 0\n",
        "  y_train = []\n",
        "  for data in [music, speech]:\n",
        "      spect = []\n",
        "      y = []\n",
        "      for audio in data:\n",
        "        chunks = np.array(createchunks(audio))\n",
        "        chunks_spect = []\n",
        "        for i in chunks:\n",
        "          chunks_spect.append(lb.feature.chroma_stft(y=i))\n",
        "\n",
        "        chunks_spect = np.array(chunks_spect)\n",
        "\n",
        "        spect.append(chunks_spect)\n",
        "\n",
        "        if index == 0:\n",
        "          y.append(np.zeros(30))\n",
        "        elif index == 1:\n",
        "          y.append(np.ones(30))\n",
        "      \n",
        "      index += 1\n",
        "      y_train.append(np.array(y))\n",
        "      datasetchroma.append(np.array(spect))\n",
        "\n",
        "  return datasetchroma, y_train"
      ],
      "metadata": {
        "id": "z91UDvzI8xkg"
      },
      "execution_count": 52,
      "outputs": []
    },
    {
      "cell_type": "code",
      "source": [
        "datasetchroma, y_train_chroma = chroma_extract(music, speech)"
      ],
      "metadata": {
        "id": "QTlQdRxd7WXn",
        "colab": {
          "base_uri": "https://localhost:8080/"
        },
        "outputId": "8b227ba0-4d94-4e6b-bf79-f6cec3cf08d9"
      },
      "execution_count": 53,
      "outputs": [
        {
          "output_type": "stream",
          "name": "stderr",
          "text": [
            "/usr/local/lib/python3.7/dist-packages/librosa/core/pitch.py:153: UserWarning: Trying to estimate tuning from empty frequency set.\n",
            "  warnings.warn(\"Trying to estimate tuning from empty frequency set.\")\n"
          ]
        }
      ]
    },
    {
      "cell_type": "code",
      "source": [
        "y_train_chroma[0].shape, len(y_train_chroma)"
      ],
      "metadata": {
        "colab": {
          "base_uri": "https://localhost:8080/"
        },
        "id": "-ACJcu147nmP",
        "outputId": "c2d7c858-8fd3-4fe0-abaf-9fe5e9ad8ae5"
      },
      "execution_count": 54,
      "outputs": [
        {
          "output_type": "execute_result",
          "data": {
            "text/plain": [
              "((50, 30), 2)"
            ]
          },
          "metadata": {},
          "execution_count": 54
        }
      ]
    },
    {
      "cell_type": "code",
      "source": [
        "datasetchroma[0].shape, len(datasetchroma)"
      ],
      "metadata": {
        "colab": {
          "base_uri": "https://localhost:8080/"
        },
        "id": "z_TbrtQj7oW1",
        "outputId": "1125fba6-c68f-4016-a5d2-267cb419988c"
      },
      "execution_count": 55,
      "outputs": [
        {
          "output_type": "execute_result",
          "data": {
            "text/plain": [
              "((50, 30, 12, 8), 2)"
            ]
          },
          "metadata": {},
          "execution_count": 55
        }
      ]
    },
    {
      "cell_type": "markdown",
      "source": [
        "### **Reshaping the training datasets**"
      ],
      "metadata": {
        "id": "gEBt4gTNnmFk"
      }
    },
    {
      "cell_type": "code",
      "source": [
        "def reshape_dataset(trainD):\n",
        "  X_TRAIN = []\n",
        "  for data in trainD:\n",
        "    for i in data:\n",
        "      for j in i:\n",
        "        X_TRAIN.append(j)\n",
        "\n",
        "  return np.array(X_TRAIN)"
      ],
      "metadata": {
        "id": "znzUgD7--rDE"
      },
      "execution_count": 56,
      "outputs": []
    },
    {
      "cell_type": "code",
      "source": [
        "def reshape_y(y_train):\n",
        "  Y_TRAIN = []\n",
        "  for val in y_train:\n",
        "    for i in val:\n",
        "      for j in i:\n",
        "        Y_TRAIN.append(j)\n",
        "\n",
        "  return np.array(Y_TRAIN)"
      ],
      "metadata": {
        "id": "XHRaNaVqLQ47"
      },
      "execution_count": 57,
      "outputs": []
    },
    {
      "cell_type": "markdown",
      "source": [
        "**STFT FEATURES AS TRAINING**"
      ],
      "metadata": {
        "id": "dulJGynoMNyL"
      }
    },
    {
      "cell_type": "code",
      "source": [
        "X_TRAIN = reshape_dataset(datasetstft)\n",
        "Y_TRAIN = reshape_y(y_train_stft)\n",
        "\n",
        "X_TRAIN.shape, Y_TRAIN.shape"
      ],
      "metadata": {
        "colab": {
          "base_uri": "https://localhost:8080/"
        },
        "id": "6-invDN2_GCv",
        "outputId": "74654a70-b7ca-46a1-b241-4cea05f8caaa"
      },
      "execution_count": null,
      "outputs": [
        {
          "output_type": "execute_result",
          "data": {
            "text/plain": [
              "((3000, 257, 32), (3000,))"
            ]
          },
          "metadata": {},
          "execution_count": 121
        }
      ]
    },
    {
      "cell_type": "markdown",
      "source": [
        "**CHROMA FEATURES AS TRAINING**"
      ],
      "metadata": {
        "id": "ZBzeYxccMNFz"
      }
    },
    {
      "cell_type": "code",
      "source": [
        "X_TRAIN = reshape_dataset(datasetchroma)\n",
        "Y_TRAIN = reshape_y(y_train_chroma)\n",
        "\n",
        "X_TRAIN.shape, Y_TRAIN.shape"
      ],
      "metadata": {
        "colab": {
          "base_uri": "https://localhost:8080/"
        },
        "id": "bt5JSuIQLf51",
        "outputId": "d664e8fc-d2ee-4c5b-f2cb-d1ae571c8037"
      },
      "execution_count": 58,
      "outputs": [
        {
          "output_type": "execute_result",
          "data": {
            "text/plain": [
              "((3000, 12, 8), (3000,))"
            ]
          },
          "metadata": {},
          "execution_count": 58
        }
      ]
    },
    {
      "cell_type": "markdown",
      "source": [
        "### **Test data preparation**"
      ],
      "metadata": {
        "id": "3c2kKalMvxlR"
      }
    },
    {
      "cell_type": "code",
      "source": [
        "'''\n",
        "THIS FUNCTION ACCEPTS FOLDER PATH WHICH CONTAINS SPEECH AND MUSIC DATASET\n",
        "RETURNS: 1D ARRAY OF AUDIO FILES\n",
        "'''\n",
        "def readaudiofiles(path):\n",
        "\n",
        "  folders = os.listdir(path)\n",
        "  print(folders)\n",
        "\n",
        "  audiofiles = []\n",
        "  for folder in folders:\n",
        "    files = os.listdir(path+'/'+folder)\n",
        "    files = sorted(files)\n",
        "    audio = []\n",
        "    for file in files:\n",
        "        data, samplerate = lb.load(path+'/'+folder+'/'+file, sr=8000, mono=True)\n",
        "        audio.append(data)\n",
        "    audiofiles.append(audio)\n",
        "\n",
        "  music = np.array(audiofiles[1])\n",
        "  mixture = np.array(audiofiles[2])\n",
        "  overlay = np.array(audiofiles[3])\n",
        "  speech = np.array(audiofiles[0])\n",
        "\n",
        "  dataset = [music, mixture, overlay, speech]\n",
        "  print(samplerate)\n",
        "\n",
        "  return music, mixture, overlay, speech, dataset"
      ],
      "metadata": {
        "id": "8KZ69-LeMpZr"
      },
      "execution_count": 18,
      "outputs": []
    },
    {
      "cell_type": "code",
      "source": [
        "test_path = '/drive/My Drive/Projects/Music-Speech-Separation/Test Dataset/'\n",
        "\n",
        "music_test, mixture_test, overlay_test, speech_test, dataset_test = readaudiofiles(test_path)\n",
        "\n",
        "print(music_test[0], len(music_test[0]), len(music_test[0])/8000)"
      ],
      "metadata": {
        "id": "0-cPJhzgvxPS",
        "colab": {
          "base_uri": "https://localhost:8080/"
        },
        "outputId": "11d6aba8-5547-43e5-9f75-ad8fbb63bb7c"
      },
      "execution_count": 19,
      "outputs": [
        {
          "output_type": "stream",
          "name": "stdout",
          "text": [
            "['speech', 'music', 'mixture', 'overlay']\n",
            "8000\n",
            "[-0.06551269 -0.09722305 -0.09252059 ... -0.0058487   0.04005643\n",
            "  0.08765063] 120000 15.0\n"
          ]
        }
      ]
    },
    {
      "cell_type": "code",
      "source": [
        "dataset_test_stft, y_test_stft = stft_extract(music_test, speech_test)\n",
        "print(dataset_test_stft[0].shape, len(dataset_test_stft))"
      ],
      "metadata": {
        "id": "a1PqP1bqB_6I"
      },
      "execution_count": 20,
      "outputs": []
    },
    {
      "cell_type": "code",
      "source": [
        "dataset_test_chroma, y_test_chroma = chroma_extract(music_test, speech_test)\n",
        "print(dataset_test_chroma[0].shape, len(dataset_test_chroma))"
      ],
      "metadata": {
        "colab": {
          "base_uri": "https://localhost:8080/"
        },
        "id": "L1OMXkimCeED",
        "outputId": "61270ebf-8ca1-4ec7-811a-a03478d85ae0"
      },
      "execution_count": 59,
      "outputs": [
        {
          "output_type": "stream",
          "name": "stderr",
          "text": [
            "/usr/local/lib/python3.7/dist-packages/librosa/core/pitch.py:153: UserWarning: Trying to estimate tuning from empty frequency set.\n",
            "  warnings.warn(\"Trying to estimate tuning from empty frequency set.\")\n"
          ]
        },
        {
          "output_type": "stream",
          "name": "stdout",
          "text": [
            "(10, 30, 12, 8) 2\n"
          ]
        }
      ]
    },
    {
      "cell_type": "markdown",
      "source": [
        "**TEST STFT FEATURES**"
      ],
      "metadata": {
        "id": "I46UyiOrN5pO"
      }
    },
    {
      "cell_type": "code",
      "source": [
        "X_TEST = reshape_dataset(dataset_test_stft)\n",
        "Y_TEST = reshape_y(y_test_stft)\n",
        "\n",
        "X_TEST.shape, Y_TEST.shape"
      ],
      "metadata": {
        "colab": {
          "base_uri": "https://localhost:8080/"
        },
        "id": "wMixjkRkNLSi",
        "outputId": "8a1bf409-e62c-4fc3-a103-296333629e3f"
      },
      "execution_count": null,
      "outputs": [
        {
          "output_type": "execute_result",
          "data": {
            "text/plain": [
              "((600, 257, 32), (600,))"
            ]
          },
          "metadata": {},
          "execution_count": 122
        }
      ]
    },
    {
      "cell_type": "markdown",
      "source": [
        "**TEST CHROMA FEATURES**"
      ],
      "metadata": {
        "id": "8H5mrUf1N9a_"
      }
    },
    {
      "cell_type": "code",
      "source": [
        "X_TEST = reshape_dataset(dataset_test_chroma)\n",
        "Y_TEST = reshape_y(y_test_chroma)\n",
        "\n",
        "X_TEST.shape, Y_TEST.shape"
      ],
      "metadata": {
        "colab": {
          "base_uri": "https://localhost:8080/"
        },
        "id": "qaicHZ1XNLJE",
        "outputId": "2bb3da79-fb78-4ecb-acc0-0124f866843a"
      },
      "execution_count": 66,
      "outputs": [
        {
          "output_type": "execute_result",
          "data": {
            "text/plain": [
              "((600, 12, 8), (600,))"
            ]
          },
          "metadata": {},
          "execution_count": 66
        }
      ]
    },
    {
      "cell_type": "markdown",
      "source": [
        "# **CNN MODEL**"
      ],
      "metadata": {
        "id": "3qRbuUHeTOfR"
      }
    },
    {
      "cell_type": "code",
      "source": [
        "import time\n",
        "from tensorflow.keras.models import Model\n",
        "from tensorflow.keras.layers import Input,Dense,Flatten,Dropout,Conv2D,MaxPool2D\n",
        "from tensorflow.keras.layers import BatchNormalization\n",
        "from tensorflow.keras.layers import MaxPooling2D\n",
        "from tensorflow.keras.models import Model\n",
        "from tensorflow.keras.optimizers import Adam\n",
        "from tensorflow.keras import regularizers"
      ],
      "metadata": {
        "id": "gy2SNW6BL4WF"
      },
      "execution_count": 24,
      "outputs": []
    },
    {
      "cell_type": "code",
      "source": [
        "batch_size = 32\n",
        "epochs = 50\n",
        "inp = Input(shape =(12, 8, 1))\n",
        "out_dim = 2"
      ],
      "metadata": {
        "id": "T5aUxJRuTaHU"
      },
      "execution_count": 60,
      "outputs": []
    },
    {
      "cell_type": "code",
      "source": [
        "start = time.time()\n",
        "\n",
        "x = Conv2D(32, 3, activation='relu')(inp)\n",
        "x = BatchNormalization()(x)\n",
        "x = MaxPooling2D(pool_size=(1, 1))(x)\n",
        "x = Dropout(0.10)(x)\n",
        "\n",
        "x = Conv2D(64, 3, activation='relu')(x)\n",
        "x = BatchNormalization()(x)\n",
        "x = MaxPooling2D(pool_size=(1, 1))(x)\n",
        "x = Dropout(0.10)(x)\n",
        "\n",
        "x = Flatten()(x)\n",
        "x = Dense(100, activation='relu')(x)\n",
        "x = Dropout(0.10)(x)\n",
        "\n",
        "x = Dense(out_dim, activation='softmax')(x)"
      ],
      "metadata": {
        "id": "YQTtwAudTi5g"
      },
      "execution_count": 62,
      "outputs": []
    },
    {
      "cell_type": "code",
      "source": [
        "x_train = X_TRAIN\n",
        "y_train = Y_TRAIN"
      ],
      "metadata": {
        "id": "0-2XtZBXT7wH"
      },
      "execution_count": 63,
      "outputs": []
    },
    {
      "cell_type": "code",
      "source": [
        "classify = Model(inputs = inp, outputs = x)\n",
        "classify.compile(loss='SparseCategoricalCrossentropy', optimizer = 'adam', metrics='accuracy') \n",
        "#classify.summary()\n",
        "classify_train = classify.fit(x_train,y_train, epochs = epochs ,batch_size=batch_size)\n",
        "end = time.time()\n",
        "print(\"time taken\",time)"
      ],
      "metadata": {
        "colab": {
          "base_uri": "https://localhost:8080/"
        },
        "id": "Vvca_2TrTroW",
        "outputId": "74eb63c7-1718-43da-8340-f7ae9c82886a"
      },
      "execution_count": 64,
      "outputs": [
        {
          "output_type": "stream",
          "name": "stdout",
          "text": [
            "Epoch 1/50\n",
            "94/94 [==============================] - 2s 11ms/step - loss: 0.7007 - accuracy: 0.7267\n",
            "Epoch 2/50\n",
            "94/94 [==============================] - 1s 11ms/step - loss: 0.3742 - accuracy: 0.8483\n",
            "Epoch 3/50\n",
            "94/94 [==============================] - 1s 12ms/step - loss: 0.2702 - accuracy: 0.8860\n",
            "Epoch 4/50\n",
            "94/94 [==============================] - 1s 12ms/step - loss: 0.2072 - accuracy: 0.9140\n",
            "Epoch 5/50\n",
            "94/94 [==============================] - 1s 11ms/step - loss: 0.1802 - accuracy: 0.9300\n",
            "Epoch 6/50\n",
            "94/94 [==============================] - 1s 11ms/step - loss: 0.1484 - accuracy: 0.9413\n",
            "Epoch 7/50\n",
            "94/94 [==============================] - 1s 11ms/step - loss: 0.1300 - accuracy: 0.9513\n",
            "Epoch 8/50\n",
            "94/94 [==============================] - 1s 12ms/step - loss: 0.0979 - accuracy: 0.9647\n",
            "Epoch 9/50\n",
            "94/94 [==============================] - 1s 12ms/step - loss: 0.0854 - accuracy: 0.9673\n",
            "Epoch 10/50\n",
            "94/94 [==============================] - 1s 11ms/step - loss: 0.0815 - accuracy: 0.9713\n",
            "Epoch 11/50\n",
            "94/94 [==============================] - 1s 12ms/step - loss: 0.0753 - accuracy: 0.9737\n",
            "Epoch 12/50\n",
            "94/94 [==============================] - 1s 11ms/step - loss: 0.0555 - accuracy: 0.9790\n",
            "Epoch 13/50\n",
            "94/94 [==============================] - 1s 11ms/step - loss: 0.0508 - accuracy: 0.9827\n",
            "Epoch 14/50\n",
            "94/94 [==============================] - 1s 11ms/step - loss: 0.0673 - accuracy: 0.9743\n",
            "Epoch 15/50\n",
            "94/94 [==============================] - 1s 11ms/step - loss: 0.0496 - accuracy: 0.9827\n",
            "Epoch 16/50\n",
            "94/94 [==============================] - 1s 11ms/step - loss: 0.0302 - accuracy: 0.9910\n",
            "Epoch 17/50\n",
            "94/94 [==============================] - 1s 11ms/step - loss: 0.0317 - accuracy: 0.9910\n",
            "Epoch 18/50\n",
            "94/94 [==============================] - 1s 11ms/step - loss: 0.0369 - accuracy: 0.9883\n",
            "Epoch 19/50\n",
            "94/94 [==============================] - 1s 11ms/step - loss: 0.0446 - accuracy: 0.9837\n",
            "Epoch 20/50\n",
            "94/94 [==============================] - 1s 11ms/step - loss: 0.0566 - accuracy: 0.9807\n",
            "Epoch 21/50\n",
            "94/94 [==============================] - 1s 11ms/step - loss: 0.0340 - accuracy: 0.9890\n",
            "Epoch 22/50\n",
            "94/94 [==============================] - 1s 11ms/step - loss: 0.0378 - accuracy: 0.9873\n",
            "Epoch 23/50\n",
            "94/94 [==============================] - 1s 11ms/step - loss: 0.0238 - accuracy: 0.9927\n",
            "Epoch 24/50\n",
            "94/94 [==============================] - 1s 11ms/step - loss: 0.0313 - accuracy: 0.9903\n",
            "Epoch 25/50\n",
            "94/94 [==============================] - 1s 11ms/step - loss: 0.0291 - accuracy: 0.9910\n",
            "Epoch 26/50\n",
            "94/94 [==============================] - 1s 11ms/step - loss: 0.0262 - accuracy: 0.9917\n",
            "Epoch 27/50\n",
            "94/94 [==============================] - 1s 11ms/step - loss: 0.0179 - accuracy: 0.9930\n",
            "Epoch 28/50\n",
            "94/94 [==============================] - 1s 11ms/step - loss: 0.0145 - accuracy: 0.9947\n",
            "Epoch 29/50\n",
            "94/94 [==============================] - 1s 11ms/step - loss: 0.0172 - accuracy: 0.9930\n",
            "Epoch 30/50\n",
            "94/94 [==============================] - 1s 12ms/step - loss: 0.0176 - accuracy: 0.9957\n",
            "Epoch 31/50\n",
            "94/94 [==============================] - 1s 11ms/step - loss: 0.0280 - accuracy: 0.9897\n",
            "Epoch 32/50\n",
            "94/94 [==============================] - 1s 11ms/step - loss: 0.0370 - accuracy: 0.9883\n",
            "Epoch 33/50\n",
            "94/94 [==============================] - 1s 11ms/step - loss: 0.0417 - accuracy: 0.9857\n",
            "Epoch 34/50\n",
            "94/94 [==============================] - 1s 11ms/step - loss: 0.0374 - accuracy: 0.9883\n",
            "Epoch 35/50\n",
            "94/94 [==============================] - 1s 11ms/step - loss: 0.0214 - accuracy: 0.9903\n",
            "Epoch 36/50\n",
            "94/94 [==============================] - 1s 11ms/step - loss: 0.0211 - accuracy: 0.9933\n",
            "Epoch 37/50\n",
            "94/94 [==============================] - 1s 11ms/step - loss: 0.0253 - accuracy: 0.9917\n",
            "Epoch 38/50\n",
            "94/94 [==============================] - 1s 11ms/step - loss: 0.0196 - accuracy: 0.9933\n",
            "Epoch 39/50\n",
            "94/94 [==============================] - 1s 11ms/step - loss: 0.0136 - accuracy: 0.9940\n",
            "Epoch 40/50\n",
            "94/94 [==============================] - 1s 11ms/step - loss: 0.0140 - accuracy: 0.9950\n",
            "Epoch 41/50\n",
            "94/94 [==============================] - 1s 11ms/step - loss: 0.0179 - accuracy: 0.9953\n",
            "Epoch 42/50\n",
            "94/94 [==============================] - 1s 11ms/step - loss: 0.0309 - accuracy: 0.9920\n",
            "Epoch 43/50\n",
            "94/94 [==============================] - 1s 11ms/step - loss: 0.0299 - accuracy: 0.9903\n",
            "Epoch 44/50\n",
            "94/94 [==============================] - 1s 11ms/step - loss: 0.0227 - accuracy: 0.9913\n",
            "Epoch 45/50\n",
            "94/94 [==============================] - 1s 11ms/step - loss: 0.0231 - accuracy: 0.9923\n",
            "Epoch 46/50\n",
            "94/94 [==============================] - 1s 11ms/step - loss: 0.0112 - accuracy: 0.9970\n",
            "Epoch 47/50\n",
            "94/94 [==============================] - 1s 11ms/step - loss: 0.0120 - accuracy: 0.9960\n",
            "Epoch 48/50\n",
            "94/94 [==============================] - 1s 11ms/step - loss: 0.0240 - accuracy: 0.9933\n",
            "Epoch 49/50\n",
            "94/94 [==============================] - 1s 11ms/step - loss: 0.0258 - accuracy: 0.9927\n",
            "Epoch 50/50\n",
            "94/94 [==============================] - 1s 11ms/step - loss: 0.0151 - accuracy: 0.9957\n",
            "time taken <module 'time' (built-in)>\n"
          ]
        }
      ]
    },
    {
      "cell_type": "code",
      "source": [
        "test_eval = classify.evaluate(X_TEST,  Y_TEST, verbose=0)\n",
        "print('Test', test_eval)"
      ],
      "metadata": {
        "colab": {
          "base_uri": "https://localhost:8080/"
        },
        "id": "boyx0OVdUXHD",
        "outputId": "d0dae469-57d7-439b-a6f9-1ad55d0bd1c9"
      },
      "execution_count": 67,
      "outputs": [
        {
          "output_type": "stream",
          "name": "stdout",
          "text": [
            "Test [1.1929415464401245, 0.8216666579246521]\n"
          ]
        }
      ]
    },
    {
      "cell_type": "code",
      "source": [
        "plt.plot(classify_train.history['accuracy'])\n",
        "plt.legend(['training'], loc = 'upper left')\n",
        "plt.show()"
      ],
      "metadata": {
        "colab": {
          "base_uri": "https://localhost:8080/",
          "height": 265
        },
        "id": "sEGEu_Y02orh",
        "outputId": "ede93529-9216-44cb-a4f2-78c50251aedf"
      },
      "execution_count": 68,
      "outputs": [
        {
          "output_type": "display_data",
          "data": {
            "text/plain": [
              "<Figure size 432x288 with 1 Axes>"
            ],
            "image/png": "[encoded data removed]"
          },
          "metadata": {
            "needs_background": "light"
          }
        }
      ]
    },
    {
      "cell_type": "code",
      "source": [
        "plt.plot(classify_train.history['loss'])\n",
        "plt.legend(['training'], loc = 'upper left')\n",
        "plt.show()"
      ],
      "metadata": {
        "colab": {
          "base_uri": "https://localhost:8080/",
          "height": 265
        },
        "id": "ZsGdeyh12x8h",
        "outputId": "766c3493-8bd0-497e-812e-f6075ff81067"
      },
      "execution_count": 69,
      "outputs": [
        {
          "output_type": "display_data",
          "data": {
            "text/plain": [
              "<Figure size 432x288 with 1 Axes>"
            ],
            "image/png": "[encoded data removed]"
          },
          "metadata": {
            "needs_background": "light"
          }
        }
      ]
    },
    {
      "cell_type": "code",
      "source": [
        "predictions = classify.predict(X_TEST, verbose=1)\n",
        "result = np.argmax(predictions, axis=1)\n",
        "result"
      ],
      "metadata": {
        "colab": {
          "base_uri": "https://localhost:8080/"
        },
        "id": "qKz874BJ2_gO",
        "outputId": "a26482b1-db9f-48b9-d730-5c7d08034566"
      },
      "execution_count": 70,
      "outputs": [
        {
          "output_type": "stream",
          "name": "stdout",
          "text": [
            "19/19 [==============================] - 0s 4ms/step\n"
          ]
        },
        {
          "output_type": "execute_result",
          "data": {
            "text/plain": [
              "array([0, 0, 0, 0, 0, 1, 0, 0, 0, 0, 0, 1, 0, 0, 0, 0, 1, 1, 0, 1, 1, 1,\n",
              "       0, 0, 1, 0, 1, 0, 0, 1, 1, 0, 1, 1, 0, 1, 0, 1, 0, 0, 0, 0, 1, 1,\n",
              "       1, 0, 0, 0, 1, 0, 1, 1, 1, 0, 1, 0, 0, 1, 0, 1, 0, 0, 1, 0, 0, 1,\n",
              "       0, 1, 1, 1, 0, 1, 1, 0, 0, 0, 0, 1, 0, 0, 1, 1, 0, 1, 1, 0, 0, 1,\n",
              "       1, 1, 0, 0, 0, 0, 0, 0, 0, 0, 0, 0, 0, 0, 0, 0, 0, 0, 0, 1, 0, 0,\n",
              "       0, 0, 0, 0, 0, 0, 0, 0, 0, 0, 0, 0, 0, 0, 0, 0, 0, 0, 0, 0, 0, 0,\n",
              "       0, 0, 0, 0, 0, 0, 0, 0, 0, 0, 0, 0, 0, 0, 0, 0, 0, 0, 0, 0, 0, 0,\n",
              "       0, 0, 0, 0, 0, 0, 0, 0, 0, 0, 0, 0, 0, 0, 0, 0, 0, 0, 0, 0, 0, 0,\n",
              "       0, 0, 0, 0, 0, 0, 0, 0, 0, 0, 0, 0, 0, 0, 0, 0, 0, 1, 0, 0, 0, 0,\n",
              "       0, 0, 0, 0, 0, 0, 0, 0, 0, 0, 0, 0, 0, 1, 0, 0, 0, 0, 1, 0, 0, 0,\n",
              "       0, 1, 0, 1, 0, 1, 1, 0, 0, 0, 0, 1, 1, 0, 1, 1, 0, 0, 0, 1, 0, 0,\n",
              "       0, 0, 1, 0, 0, 0, 0, 0, 0, 0, 0, 0, 0, 0, 0, 0, 0, 0, 0, 0, 0, 0,\n",
              "       0, 0, 0, 0, 0, 0, 1, 0, 0, 0, 0, 0, 1, 1, 1, 0, 0, 0, 1, 0, 0, 0,\n",
              "       0, 0, 0, 0, 0, 0, 0, 0, 0, 1, 0, 1, 0, 0, 1, 1, 1, 1, 1, 1, 1, 1,\n",
              "       1, 0, 1, 0, 1, 1, 1, 1, 1, 1, 1, 1, 1, 1, 1, 1, 1, 1, 1, 1, 1, 1,\n",
              "       1, 1, 1, 1, 1, 1, 1, 1, 1, 1, 1, 1, 1, 1, 0, 1, 0, 1, 1, 1, 0, 1,\n",
              "       0, 1, 1, 1, 1, 1, 1, 1, 1, 1, 0, 0, 1, 1, 1, 1, 1, 1, 1, 1, 1, 1,\n",
              "       1, 1, 1, 1, 1, 1, 0, 1, 0, 1, 1, 1, 1, 1, 1, 1, 1, 1, 1, 1, 1, 1,\n",
              "       1, 1, 1, 1, 1, 0, 1, 1, 1, 1, 1, 1, 1, 1, 0, 0, 1, 1, 1, 1, 1, 1,\n",
              "       1, 1, 1, 1, 1, 1, 1, 1, 1, 1, 1, 1, 1, 1, 1, 1, 1, 1, 0, 1, 1, 0,\n",
              "       1, 0, 1, 0, 1, 0, 1, 1, 1, 0, 1, 1, 1, 0, 1, 1, 1, 1, 1, 0, 0, 1,\n",
              "       1, 0, 1, 1, 1, 1, 1, 1, 1, 1, 1, 1, 1, 0, 0, 1, 1, 1, 1, 1, 1, 0,\n",
              "       1, 1, 1, 1, 1, 1, 1, 1, 1, 0, 0, 1, 1, 1, 1, 0, 0, 0, 0, 1, 0, 1,\n",
              "       1, 0, 1, 1, 1, 1, 0, 1, 1, 0, 1, 1, 1, 1, 1, 1, 1, 1, 1, 1, 1, 1,\n",
              "       1, 1, 1, 1, 1, 1, 1, 1, 1, 1, 0, 1, 1, 1, 1, 1, 0, 1, 1, 1, 0, 1,\n",
              "       1, 1, 1, 0, 1, 1, 1, 1, 1, 1, 1, 1, 0, 1, 1, 1, 1, 1, 0, 1, 0, 0,\n",
              "       1, 1, 1, 1, 1, 1, 1, 1, 1, 1, 1, 0, 1, 1, 1, 0, 1, 1, 1, 1, 1, 1,\n",
              "       1, 1, 1, 1, 1, 1])"
            ]
          },
          "metadata": {},
          "execution_count": 70
        }
      ]
    },
    {
      "cell_type": "code",
      "source": [
        "cm = tf.math.confusion_matrix(Y_TEST, result)\n",
        "cm"
      ],
      "metadata": {
        "colab": {
          "base_uri": "https://localhost:8080/"
        },
        "id": "EcurZS3AZqkg",
        "outputId": "91c3065e-a5e8-4223-a221-af6cdb87125a"
      },
      "execution_count": 71,
      "outputs": [
        {
          "output_type": "execute_result",
          "data": {
            "text/plain": [
              "<tf.Tensor: shape=(2, 2), dtype=int32, numpy=\n",
              "array([[239,  61],\n",
              "       [ 46, 254]], dtype=int32)>"
            ]
          },
          "metadata": {},
          "execution_count": 71
        }
      ]
    },
    {
      "cell_type": "markdown",
      "source": [
        "# **TEST ON AIR DATA**"
      ],
      "metadata": {
        "id": "FkuSgclF3znK"
      }
    },
    {
      "cell_type": "code",
      "source": [
        "sample_audio, sr  = lb.load('/drive/My Drive/Projects/Music-Speech-Separation/kannada.wav', sr=8000, mono=True)\n",
        "sample_audio, sr, len(sample_audio), len(sample_audio)/8000"
      ],
      "metadata": {
        "colab": {
          "base_uri": "https://localhost:8080/"
        },
        "id": "r3JFYT9C3W5P",
        "outputId": "9f32e685-eab1-4be1-cdc5-9a9ce1d74f09"
      },
      "execution_count": 72,
      "outputs": [
        {
          "output_type": "execute_result",
          "data": {
            "text/plain": [
              "(array([0.        , 0.        , 0.        , ..., 0.11099157, 0.09802414,\n",
              "        0.        ], dtype=float32), 8000, 2519458, 314.93225)"
            ]
          },
          "metadata": {},
          "execution_count": 72
        }
      ]
    },
    {
      "cell_type": "code",
      "source": [
        "chunks_sample = np.array(createchunks(sample_audio))\n",
        "print(chunks_sample.shape)\n",
        "spect_sample = []\n",
        "for i in chunks_sample:\n",
        "  spect_sample.append(lb.feature.chroma_stft(y=i))\n",
        "\n",
        "spect_sample = np.array(spect_sample)\n",
        "spect_sample.shape"
      ],
      "metadata": {
        "colab": {
          "base_uri": "https://localhost:8080/"
        },
        "id": "sCh6bPKV4rzW",
        "outputId": "8404ff93-f07a-4c4e-8e53-2197e41c3a56"
      },
      "execution_count": 73,
      "outputs": [
        {
          "output_type": "stream",
          "name": "stdout",
          "text": [
            "(629, 4000)\n"
          ]
        },
        {
          "output_type": "execute_result",
          "data": {
            "text/plain": [
              "(629, 12, 8)"
            ]
          },
          "metadata": {},
          "execution_count": 73
        }
      ]
    },
    {
      "cell_type": "code",
      "source": [
        "res = classify.predict(spect_sample)\n",
        "res = np.argmax(res, axis=1)\n",
        "res"
      ],
      "metadata": {
        "colab": {
          "base_uri": "https://localhost:8080/"
        },
        "id": "E5AKDW716Nx3",
        "outputId": "1563fe3f-5b8d-4e1f-b095-dcb1423a51bb"
      },
      "execution_count": 74,
      "outputs": [
        {
          "output_type": "execute_result",
          "data": {
            "text/plain": [
              "array([1, 0, 0, 0, 0, 1, 1, 0, 0, 1, 1, 1, 0, 1, 1, 0, 1, 0, 1, 0, 0, 0,\n",
              "       0, 1, 0, 0, 1, 1, 1, 1, 1, 1, 1, 1, 1, 1, 0, 1, 1, 1, 1, 0, 1, 1,\n",
              "       1, 1, 0, 1, 1, 1, 0, 1, 0, 1, 1, 1, 1, 0, 1, 1, 1, 1, 0, 1, 0, 1,\n",
              "       1, 1, 1, 0, 0, 1, 1, 1, 1, 1, 1, 1, 1, 0, 1, 1, 0, 1, 1, 1, 1, 1,\n",
              "       0, 1, 1, 1, 1, 0, 0, 1, 1, 1, 0, 0, 1, 1, 1, 1, 1, 1, 0, 1, 0, 1,\n",
              "       1, 1, 1, 1, 1, 1, 1, 0, 1, 0, 1, 1, 1, 1, 1, 1, 1, 1, 1, 1, 1, 1,\n",
              "       1, 1, 1, 1, 1, 0, 1, 1, 1, 1, 1, 1, 1, 1, 1, 1, 1, 1, 1, 0, 1, 1,\n",
              "       1, 0, 1, 1, 1, 1, 1, 0, 1, 1, 1, 1, 1, 1, 1, 1, 1, 1, 1, 1, 1, 1,\n",
              "       0, 1, 1, 1, 1, 1, 1, 1, 1, 1, 1, 1, 1, 1, 1, 1, 1, 1, 1, 1, 1, 1,\n",
              "       1, 1, 1, 1, 1, 1, 1, 1, 1, 1, 1, 0, 1, 1, 1, 1, 0, 0, 0, 1, 1, 1,\n",
              "       1, 1, 1, 1, 1, 1, 1, 1, 1, 1, 1, 1, 0, 1, 1, 1, 1, 1, 1, 1, 1, 1,\n",
              "       1, 1, 1, 1, 0, 1, 1, 1, 1, 1, 1, 1, 1, 1, 1, 1, 1, 1, 1, 1, 1, 1,\n",
              "       1, 1, 1, 1, 1, 0, 1, 1, 1, 1, 1, 1, 1, 1, 1, 0, 0, 1, 1, 1, 1, 1,\n",
              "       1, 1, 1, 1, 1, 1, 1, 1, 1, 1, 1, 1, 1, 1, 1, 0, 1, 1, 1, 1, 0, 1,\n",
              "       0, 1, 1, 0, 1, 0, 1, 1, 1, 1, 1, 1, 1, 1, 1, 0, 1, 1, 1, 1, 1, 1,\n",
              "       1, 1, 1, 1, 1, 0, 0, 1, 1, 1, 1, 1, 1, 1, 0, 1, 1, 0, 1, 1, 0, 1,\n",
              "       1, 1, 1, 1, 1, 0, 1, 1, 1, 1, 1, 0, 1, 1, 1, 1, 1, 1, 1, 0, 1, 1,\n",
              "       1, 1, 1, 1, 1, 1, 1, 1, 1, 1, 1, 1, 1, 1, 0, 1, 1, 1, 1, 1, 1, 1,\n",
              "       1, 1, 1, 1, 1, 1, 1, 1, 1, 1, 1, 1, 1, 1, 1, 1, 1, 0, 0, 0, 1, 1,\n",
              "       1, 1, 1, 1, 1, 0, 1, 1, 0, 1, 1, 1, 1, 1, 1, 1, 0, 1, 1, 1, 1, 1,\n",
              "       1, 1, 0, 0, 1, 1, 1, 1, 1, 1, 1, 1, 1, 1, 1, 1, 1, 1, 1, 1, 1, 1,\n",
              "       1, 1, 1, 1, 1, 0, 1, 0, 1, 1, 1, 1, 1, 1, 1, 1, 1, 1, 1, 1, 0, 1,\n",
              "       1, 1, 1, 1, 0, 0, 1, 1, 1, 1, 1, 1, 1, 1, 1, 1, 1, 1, 1, 1, 1, 0,\n",
              "       1, 1, 1, 1, 1, 1, 0, 1, 1, 1, 1, 1, 1, 1, 1, 1, 1, 1, 1, 1, 0, 1,\n",
              "       1, 0, 0, 1, 1, 1, 1, 0, 1, 0, 1, 1, 1, 1, 1, 1, 1, 1, 0, 1, 1, 1,\n",
              "       1, 1, 1, 1, 1, 1, 1, 1, 1, 1, 1, 1, 1, 1, 1, 1, 1, 1, 1, 1, 1, 1,\n",
              "       0, 1, 0, 1, 1, 1, 1, 1, 1, 1, 1, 1, 1, 1, 1, 1, 1, 1, 1, 0, 1, 1,\n",
              "       1, 1, 1, 1, 1, 1, 1, 1, 1, 1, 1, 0, 1, 0, 0, 1, 1, 1, 0, 1, 1, 1,\n",
              "       0, 1, 0, 0, 0, 0, 0, 0, 0, 0, 0, 0, 0])"
            ]
          },
          "metadata": {},
          "execution_count": 74
        }
      ]
    },
    {
      "cell_type": "code",
      "source": [
        "len(res)"
      ],
      "metadata": {
        "colab": {
          "base_uri": "https://localhost:8080/"
        },
        "id": "ul5Nek3G6VDG",
        "outputId": "0e8a5675-cfe3-4888-df08-4be99078930a"
      },
      "execution_count": 75,
      "outputs": [
        {
          "output_type": "execute_result",
          "data": {
            "text/plain": [
              "629"
            ]
          },
          "metadata": {},
          "execution_count": 75
        }
      ]
    },
    {
      "cell_type": "markdown",
      "source": [
        "### **DELETING MUSIC FROM SPEECH**"
      ],
      "metadata": {
        "id": "T9IUIT3t8W4_"
      }
    },
    {
      "cell_type": "code",
      "source": [
        "seconds = 0\n",
        "time_split = []\n",
        "for i in range(len(res)):\n",
        "  seconds += 0.5\n",
        "  if res[i] == 1:\n",
        "    time_split.append(seconds)\n",
        "\n",
        "print(time_split)"
      ],
      "metadata": {
        "colab": {
          "base_uri": "https://localhost:8080/"
        },
        "id": "r_mCm6d_8dya",
        "outputId": "8aed944f-6d17-4ced-fede-5afb341abbe4"
      },
      "execution_count": 76,
      "outputs": [
        {
          "output_type": "stream",
          "name": "stdout",
          "text": [
            "[0.5, 3.0, 3.5, 5.0, 5.5, 6.0, 7.0, 7.5, 8.5, 9.5, 12.0, 13.5, 14.0, 14.5, 15.0, 15.5, 16.0, 16.5, 17.0, 17.5, 18.0, 19.0, 19.5, 20.0, 20.5, 21.5, 22.0, 22.5, 23.0, 24.0, 24.5, 25.0, 26.0, 27.0, 27.5, 28.0, 28.5, 29.5, 30.0, 30.5, 31.0, 32.0, 33.0, 33.5, 34.0, 34.5, 36.0, 36.5, 37.0, 37.5, 38.0, 38.5, 39.0, 39.5, 40.5, 41.0, 42.0, 42.5, 43.0, 43.5, 44.0, 45.0, 45.5, 46.0, 46.5, 48.0, 48.5, 49.0, 50.5, 51.0, 51.5, 52.0, 52.5, 53.0, 54.0, 55.0, 55.5, 56.0, 56.5, 57.0, 57.5, 58.0, 58.5, 59.5, 60.5, 61.0, 61.5, 62.0, 62.5, 63.0, 63.5, 64.0, 64.5, 65.0, 65.5, 66.0, 66.5, 67.0, 67.5, 68.0, 68.5, 69.5, 70.0, 70.5, 71.0, 71.5, 72.0, 72.5, 73.0, 73.5, 74.0, 74.5, 75.0, 75.5, 76.5, 77.0, 77.5, 78.5, 79.0, 79.5, 80.0, 80.5, 81.5, 82.0, 82.5, 83.0, 83.5, 84.0, 84.5, 85.0, 85.5, 86.0, 86.5, 87.0, 87.5, 88.0, 89.0, 89.5, 90.0, 90.5, 91.0, 91.5, 92.0, 92.5, 93.0, 93.5, 94.0, 94.5, 95.0, 95.5, 96.0, 96.5, 97.0, 97.5, 98.0, 98.5, 99.0, 99.5, 100.0, 100.5, 101.0, 101.5, 102.0, 102.5, 103.0, 103.5, 104.0, 104.5, 105.5, 106.0, 106.5, 107.0, 109.0, 109.5, 110.0, 110.5, 111.0, 111.5, 112.0, 112.5, 113.0, 113.5, 114.0, 114.5, 115.0, 115.5, 116.0, 117.0, 117.5, 118.0, 118.5, 119.0, 119.5, 120.0, 120.5, 121.0, 121.5, 122.0, 122.5, 123.0, 124.0, 124.5, 125.0, 125.5, 126.0, 126.5, 127.0, 127.5, 128.0, 128.5, 129.0, 129.5, 130.0, 130.5, 131.0, 131.5, 132.0, 132.5, 133.0, 133.5, 134.0, 134.5, 135.5, 136.0, 136.5, 137.0, 137.5, 138.0, 138.5, 139.0, 139.5, 141.0, 141.5, 142.0, 142.5, 143.0, 143.5, 144.0, 144.5, 145.0, 145.5, 146.0, 146.5, 147.0, 147.5, 148.0, 148.5, 149.0, 149.5, 150.0, 150.5, 151.5, 152.0, 152.5, 153.0, 154.0, 155.0, 155.5, 156.5, 157.5, 158.0, 158.5, 159.0, 159.5, 160.0, 160.5, 161.0, 161.5, 162.5, 163.0, 163.5, 164.0, 164.5, 165.0, 165.5, 166.0, 166.5, 167.0, 167.5, 169.0, 169.5, 170.0, 170.5, 171.0, 171.5, 172.0, 173.0, 173.5, 174.5, 175.0, 176.0, 176.5, 177.0, 177.5, 178.0, 178.5, 179.5, 180.0, 180.5, 181.0, 181.5, 182.5, 183.0, 183.5, 184.0, 184.5, 185.0, 185.5, 186.5, 187.0, 187.5, 188.0, 188.5, 189.0, 189.5, 190.0, 190.5, 191.0, 191.5, 192.0, 192.5, 193.0, 193.5, 194.0, 195.0, 195.5, 196.0, 196.5, 197.0, 197.5, 198.0, 198.5, 199.0, 199.5, 200.0, 200.5, 201.0, 201.5, 202.0, 202.5, 203.0, 203.5, 204.0, 204.5, 205.0, 205.5, 206.0, 206.5, 208.5, 209.0, 209.5, 210.0, 210.5, 211.0, 211.5, 212.5, 213.0, 214.0, 214.5, 215.0, 215.5, 216.0, 216.5, 217.0, 218.0, 218.5, 219.0, 219.5, 220.0, 220.5, 221.0, 222.5, 223.0, 223.5, 224.0, 224.5, 225.0, 225.5, 226.0, 226.5, 227.0, 227.5, 228.0, 228.5, 229.0, 229.5, 230.0, 230.5, 231.0, 231.5, 232.0, 232.5, 233.0, 233.5, 234.5, 235.5, 236.0, 236.5, 237.0, 237.5, 238.0, 238.5, 239.0, 239.5, 240.0, 240.5, 241.0, 242.0, 242.5, 243.0, 243.5, 244.0, 245.5, 246.0, 246.5, 247.0, 247.5, 248.0, 248.5, 249.0, 249.5, 250.0, 250.5, 251.0, 251.5, 252.0, 252.5, 253.5, 254.0, 254.5, 255.0, 255.5, 256.0, 257.0, 257.5, 258.0, 258.5, 259.0, 259.5, 260.0, 260.5, 261.0, 261.5, 262.0, 262.5, 263.0, 264.0, 264.5, 266.0, 266.5, 267.0, 267.5, 268.5, 269.5, 270.0, 270.5, 271.0, 271.5, 272.0, 272.5, 273.0, 274.0, 274.5, 275.0, 275.5, 276.0, 276.5, 277.0, 277.5, 278.0, 278.5, 279.0, 279.5, 280.0, 280.5, 281.0, 281.5, 282.0, 282.5, 283.0, 283.5, 284.0, 284.5, 285.0, 285.5, 286.0, 287.0, 288.0, 288.5, 289.0, 289.5, 290.0, 290.5, 291.0, 291.5, 292.0, 292.5, 293.0, 293.5, 294.0, 294.5, 295.0, 295.5, 296.5, 297.0, 297.5, 298.0, 298.5, 299.0, 299.5, 300.0, 300.5, 301.0, 301.5, 302.0, 302.5, 303.5, 305.0, 305.5, 306.0, 307.0, 307.5, 308.0, 309.0]\n"
          ]
        }
      ]
    },
    {
      "cell_type": "code",
      "source": [
        "time_index = []\n",
        "time_index.append(time_split[0])\n",
        "for i in range(len(time_split)-1):\n",
        "  if time_split[i+1] != time_split[i]+0.5:\n",
        "    time_index.append(time_split[i])\n",
        "    time_index.append(time_split[i+1])\n",
        "\n",
        "time_index.append(time_split[-1])\n",
        "np.array(time_index)"
      ],
      "metadata": {
        "colab": {
          "base_uri": "https://localhost:8080/"
        },
        "id": "Zaeb0O3DLFEf",
        "outputId": "6ed8b4ee-8332-4b17-e93e-7f9b8a48099c"
      },
      "execution_count": 78,
      "outputs": [
        {
          "output_type": "execute_result",
          "data": {
            "text/plain": [
              "array([  0.5,   0.5,   3. ,   3.5,   5. ,   6. ,   7. ,   7.5,   8.5,\n",
              "         8.5,   9.5,   9.5,  12. ,  12. ,  13.5,  18. ,  19. ,  20.5,\n",
              "        21.5,  23. ,  24. ,  25. ,  26. ,  26. ,  27. ,  28.5,  29.5,\n",
              "        31. ,  32. ,  32. ,  33. ,  34.5,  36. ,  39.5,  40.5,  41. ,\n",
              "        42. ,  44. ,  45. ,  46.5,  48. ,  49. ,  50.5,  53. ,  54. ,\n",
              "        54. ,  55. ,  58.5,  59.5,  59.5,  60.5,  68.5,  69.5,  75.5,\n",
              "        76.5,  77.5,  78.5,  80.5,  81.5,  88. ,  89. , 104.5, 105.5,\n",
              "       107. , 109. , 116. , 117. , 123. , 124. , 134.5, 135.5, 139.5,\n",
              "       141. , 150.5, 151.5, 153. , 154. , 154. , 155. , 155.5, 156.5,\n",
              "       156.5, 157.5, 161.5, 162.5, 167.5, 169. , 172. , 173. , 173.5,\n",
              "       174.5, 175. , 176. , 178.5, 179.5, 181.5, 182.5, 185.5, 186.5,\n",
              "       194. , 195. , 206.5, 208.5, 211.5, 212.5, 213. , 214. , 217. ,\n",
              "       218. , 221. , 222.5, 233.5, 234.5, 234.5, 235.5, 241. , 242. ,\n",
              "       244. , 245.5, 252.5, 253.5, 256. , 257. , 263. , 264. , 264.5,\n",
              "       266. , 267.5, 268.5, 268.5, 269.5, 273. , 274. , 286. , 287. ,\n",
              "       287. , 288. , 295.5, 296.5, 302.5, 303.5, 303.5, 305. , 306. ,\n",
              "       307. , 308. , 309. , 309. ])"
            ]
          },
          "metadata": {},
          "execution_count": 78
        }
      ]
    },
    {
      "cell_type": "code",
      "source": [
        "time_tuple = []\n",
        "for i in range(0, len(time_index)-1, 2):\n",
        "  if time_index[i] != 0 and time_index[i] != 0.5:\n",
        "    time_tuple.append(((time_index[i])*1000, (time_index[i+1])*1000)) #converting into msec\n",
        "  else:\n",
        "    time_tuple.append(((time_index[i])*1000, (time_index[i+1])*1000))\n",
        "\n",
        "time_tuple"
      ],
      "metadata": {
        "colab": {
          "base_uri": "https://localhost:8080/"
        },
        "id": "NEAiq2P8IDj-",
        "outputId": "1cc54749-9027-44dc-9b5d-6ba9e24382a1"
      },
      "execution_count": 79,
      "outputs": [
        {
          "output_type": "execute_result",
          "data": {
            "text/plain": [
              "[(500.0, 500.0),\n",
              " (3000.0, 3500.0),\n",
              " (5000.0, 6000.0),\n",
              " (7000.0, 7500.0),\n",
              " (8500.0, 8500.0),\n",
              " (9500.0, 9500.0),\n",
              " (12000.0, 12000.0),\n",
              " (13500.0, 18000.0),\n",
              " (19000.0, 20500.0),\n",
              " (21500.0, 23000.0),\n",
              " (24000.0, 25000.0),\n",
              " (26000.0, 26000.0),\n",
              " (27000.0, 28500.0),\n",
              " (29500.0, 31000.0),\n",
              " (32000.0, 32000.0),\n",
              " (33000.0, 34500.0),\n",
              " (36000.0, 39500.0),\n",
              " (40500.0, 41000.0),\n",
              " (42000.0, 44000.0),\n",
              " (45000.0, 46500.0),\n",
              " (48000.0, 49000.0),\n",
              " (50500.0, 53000.0),\n",
              " (54000.0, 54000.0),\n",
              " (55000.0, 58500.0),\n",
              " (59500.0, 59500.0),\n",
              " (60500.0, 68500.0),\n",
              " (69500.0, 75500.0),\n",
              " (76500.0, 77500.0),\n",
              " (78500.0, 80500.0),\n",
              " (81500.0, 88000.0),\n",
              " (89000.0, 104500.0),\n",
              " (105500.0, 107000.0),\n",
              " (109000.0, 116000.0),\n",
              " (117000.0, 123000.0),\n",
              " (124000.0, 134500.0),\n",
              " (135500.0, 139500.0),\n",
              " (141000.0, 150500.0),\n",
              " (151500.0, 153000.0),\n",
              " (154000.0, 154000.0),\n",
              " (155000.0, 155500.0),\n",
              " (156500.0, 156500.0),\n",
              " (157500.0, 161500.0),\n",
              " (162500.0, 167500.0),\n",
              " (169000.0, 172000.0),\n",
              " (173000.0, 173500.0),\n",
              " (174500.0, 175000.0),\n",
              " (176000.0, 178500.0),\n",
              " (179500.0, 181500.0),\n",
              " (182500.0, 185500.0),\n",
              " (186500.0, 194000.0),\n",
              " (195000.0, 206500.0),\n",
              " (208500.0, 211500.0),\n",
              " (212500.0, 213000.0),\n",
              " (214000.0, 217000.0),\n",
              " (218000.0, 221000.0),\n",
              " (222500.0, 233500.0),\n",
              " (234500.0, 234500.0),\n",
              " (235500.0, 241000.0),\n",
              " (242000.0, 244000.0),\n",
              " (245500.0, 252500.0),\n",
              " (253500.0, 256000.0),\n",
              " (257000.0, 263000.0),\n",
              " (264000.0, 264500.0),\n",
              " (266000.0, 267500.0),\n",
              " (268500.0, 268500.0),\n",
              " (269500.0, 273000.0),\n",
              " (274000.0, 286000.0),\n",
              " (287000.0, 287000.0),\n",
              " (288000.0, 295500.0),\n",
              " (296500.0, 302500.0),\n",
              " (303500.0, 303500.0),\n",
              " (305000.0, 306000.0),\n",
              " (307000.0, 308000.0),\n",
              " (309000.0, 309000.0)]"
            ]
          },
          "metadata": {},
          "execution_count": 79
        }
      ]
    },
    {
      "cell_type": "code",
      "source": [
        ""
      ],
      "metadata": {
        "id": "11TTNvBOMz3o"
      },
      "execution_count": null,
      "outputs": []
    },
    {
      "cell_type": "code",
      "source": [
        ""
      ],
      "metadata": {
        "id": "nCcW4KlJQF1N"
      },
      "execution_count": null,
      "outputs": []
    }
  ]
}