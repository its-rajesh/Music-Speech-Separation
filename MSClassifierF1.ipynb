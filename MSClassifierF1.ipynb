{
 "cells": [
  {
   "cell_type": "markdown",
   "metadata": {
    "colab_type": "text",
    "id": "view-in-github"
   },
   "source": [
    "<a href=\"https://colab.research.google.com/github/its-rajesh/Music-Speech-Separation/blob/main/MSClassifierV2.ipynb\" target=\"_parent\"><img src=\"https://colab.research.google.com/assets/colab-badge.svg\" alt=\"Open In Colab\"/></a>"
   ]
  },
  {
   "cell_type": "markdown",
   "metadata": {
    "id": "ioS14CbsHisS"
   },
   "source": [
    "# **MUSIC SPEECH CONV NEURAL NETWORK CLASSIFIER WITH MODEL SAVED AND REUSED**"
   ]
  },
  {
   "cell_type": "markdown",
   "metadata": {
    "id": "OZb-lTVoOH7j"
   },
   "source": [
    "### **Imports**"
   ]
  },
  {
   "cell_type": "code",
   "execution_count": 2,
   "metadata": {
    "id": "6WcuVWOJHaxg"
   },
   "outputs": [],
   "source": [
    "import tensorflow as tf\n",
    "from tensorflow import keras"
   ]
  },
  {
   "cell_type": "code",
   "execution_count": 3,
   "metadata": {
    "id": "cV_YcCIPH1oF"
   },
   "outputs": [],
   "source": [
    "import soundfile as sf\n",
    "import librosa as lb\n",
    "import numpy as np\n",
    "from matplotlib import pyplot as plt\n",
    "import os\n",
    "import pandas as pd"
   ]
  },
  {
   "cell_type": "markdown",
   "metadata": {
    "id": "oQyGXVx_H-A5"
   },
   "source": [
    "### **Reading audio files and creating chunks**"
   ]
  },
  {
   "cell_type": "code",
   "execution_count": 5,
   "metadata": {
    "colab": {
     "base_uri": "https://localhost:8080/"
    },
    "id": "0SXPlgnSH82g",
    "outputId": "60993e49-477d-4f0b-f267-e69a3635406c"
   },
   "outputs": [
    {
     "data": {
      "text/plain": [
       "\"\\n#UNCOMMENT FOR COLAB\\n\\nfrom google.colab import drive\\ndrive.mount('/drive')\\n\""
      ]
     },
     "execution_count": 5,
     "metadata": {},
     "output_type": "execute_result"
    }
   ],
   "source": [
    "'''\n",
    "#UNCOMMENT FOR COLAB\n",
    "\n",
    "from google.colab import drive\n",
    "drive.mount('/drive')\n",
    "'''"
   ]
  },
  {
   "cell_type": "code",
   "execution_count": 7,
   "metadata": {
    "colab": {
     "base_uri": "https://localhost:8080/"
    },
    "id": "RxgJO2sv2sP1",
    "outputId": "397562a1-9f05-4f23-e53c-9beb778c034b"
   },
   "outputs": [
    {
     "name": "stdout",
     "output_type": "stream",
     "text": [
      "['Overlay', 'Mixture', 'speech', 'music']\n",
      "8000\n"
     ]
    }
   ],
   "source": [
    "'''\n",
    "THIS FUNCTION ACCEPTS FOLDER PATH WHICH CONTAINS SPEECH AND MUSIC DATASET\n",
    "RETURNS: 1D ARRAY OF AUDIO FILES\n",
    "\n",
    "ATTENTION! MAKE SURE THE ORDER OF FOLDER READ AND HARDCORED ARE SAME!!!!\n",
    "'''\n",
    "def readaudiofiles(path):\n",
    "\n",
    "  folders = os.listdir(path)\n",
    "  print(folders)\n",
    "\n",
    "  audiofiles = []\n",
    "  for folder in folders:\n",
    "    files = os.listdir(path+'/'+folder)\n",
    "    files = sorted(files)\n",
    "    audio = []\n",
    "    for file in files:\n",
    "        data, samplerate = lb.load(path+'/'+folder+'/'+file, sr=8000, mono=True)\n",
    "        audio.append(data)\n",
    "    audiofiles.append(audio)\n",
    "\n",
    "  music = np.array(audiofiles[3])\n",
    "  mixture = np.array(audiofiles[1])\n",
    "  overlay = np.array(audiofiles[0])\n",
    "  speech = np.array(audiofiles[2])\n",
    "\n",
    "  dataset = [music, mixture, overlay, speech]\n",
    "  print(samplerate)\n",
    "\n",
    "  return music, mixture, overlay, speech, dataset\n",
    "\n",
    "\n",
    "path = '/home/rajesh/Desktop/Projects/Music-Speech-Separation/Dataset'\n",
    "music, mixture, overlay, speech, dataset = readaudiofiles(path)"
   ]
  },
  {
   "cell_type": "code",
   "execution_count": 8,
   "metadata": {
    "colab": {
     "base_uri": "https://localhost:8080/"
    },
    "id": "ZKLAfv4eYKYf",
    "outputId": "d1eb870a-353a-45e5-e34d-6b222cb84c98"
   },
   "outputs": [
    {
     "data": {
      "text/plain": [
       "(array([-0.06211764, -0.17527802, -0.13408872, ...,  0.06697536,\n",
       "         0.07972796,  0.11764227], dtype=float32),\n",
       " 120000,\n",
       " 15.0)"
      ]
     },
     "execution_count": 8,
     "metadata": {},
     "output_type": "execute_result"
    }
   ],
   "source": [
    "music[0], len(music[0]), len(music[0])/8000"
   ]
  },
  {
   "cell_type": "code",
   "execution_count": 9,
   "metadata": {
    "id": "Zk0QZwp8ZKYx"
   },
   "outputs": [],
   "source": [
    "'''\n",
    "THIS FUNCTION CREATES CHUNCKS OF THE GIVEN AUDIO FILE\n",
    "INPUTS: AUDIO (Can change the chunks length in seconds as indicated)\n",
    "RETURNS: CHUNCKS\n",
    "'''\n",
    "def createchunks(audio):\n",
    "  start = 0\n",
    "  stop = 4000 # for 0.5 seconds (8Khz): 1 sec has 8000 samples.\n",
    "  chunks = []\n",
    "  for i in range(len(audio)//4000):\n",
    "    chunks.append(audio[start:stop])\n",
    "    start = stop\n",
    "    stop = start+4000\n",
    "\n",
    "  return chunks"
   ]
  },
  {
   "cell_type": "markdown",
   "metadata": {
    "id": "XHND2AnpfR1o"
   },
   "source": [
    "### **Obtaining STFT features**"
   ]
  },
  {
   "cell_type": "code",
   "execution_count": 10,
   "metadata": {
    "id": "YgyRfrhK5rrR"
   },
   "outputs": [],
   "source": [
    "def stft_extract(music, speech):\n",
    "  datasetstft = []\n",
    "  index = 0\n",
    "  y_train = []\n",
    "  for data in [music, speech]:\n",
    "      spect = []\n",
    "      y = []\n",
    "      for audio in data:\n",
    "        chunks = np.array(createchunks(audio))\n",
    "        chunks_spect = []\n",
    "        for i in chunks:\n",
    "          chunks_spect.append(np.abs(lb.stft(i,n_fft=512))) #window length = nfft and hop length = win length //4\n",
    "\n",
    "        chunks_spect = np.array(chunks_spect)\n",
    "\n",
    "        spect.append(chunks_spect)\n",
    "\n",
    "        if index == 0:\n",
    "          y.append(np.zeros(30))\n",
    "        elif index == 1:\n",
    "          y.append(np.ones(30))\n",
    "      \n",
    "      index += 1\n",
    "      y_train.append(np.array(y))\n",
    "      datasetstft.append(np.array(spect))\n",
    "\n",
    "  return datasetstft, y_train"
   ]
  },
  {
   "cell_type": "code",
   "execution_count": 11,
   "metadata": {
    "id": "lsWoje506MRP"
   },
   "outputs": [],
   "source": [
    "datasetstft, y_train_stft = stft_extract(music, speech)"
   ]
  },
  {
   "cell_type": "code",
   "execution_count": 12,
   "metadata": {
    "colab": {
     "base_uri": "https://localhost:8080/"
    },
    "id": "3hQ4l6fXkJ0Y",
    "outputId": "8af4ccd6-46c8-419d-8408-de0e18a0ebc3"
   },
   "outputs": [
    {
     "data": {
      "text/plain": [
       "((50, 30), 2)"
      ]
     },
     "execution_count": 12,
     "metadata": {},
     "output_type": "execute_result"
    }
   ],
   "source": [
    "y_train_stft[0].shape, len(y_train_stft)"
   ]
  },
  {
   "cell_type": "code",
   "execution_count": 13,
   "metadata": {
    "colab": {
     "base_uri": "https://localhost:8080/"
    },
    "id": "HDVFcam2ZLRo",
    "outputId": "f90e8826-a1e0-4f7d-8a81-46c67cbe1377"
   },
   "outputs": [
    {
     "data": {
      "text/plain": [
       "((50, 30, 257, 32), 2)"
      ]
     },
     "execution_count": 13,
     "metadata": {},
     "output_type": "execute_result"
    }
   ],
   "source": [
    "datasetstft[0].shape, len(datasetstft)"
   ]
  },
  {
   "cell_type": "markdown",
   "metadata": {
    "id": "gEBt4gTNnmFk"
   },
   "source": [
    "### **Reshaping the training datasets**"
   ]
  },
  {
   "cell_type": "code",
   "execution_count": 14,
   "metadata": {
    "id": "znzUgD7--rDE"
   },
   "outputs": [],
   "source": [
    "def reshape_dataset(trainD):\n",
    "  X_TRAIN = []\n",
    "  for data in trainD:\n",
    "    for i in data:\n",
    "      for j in i:\n",
    "        X_TRAIN.append(j)\n",
    "\n",
    "  return np.array(X_TRAIN)"
   ]
  },
  {
   "cell_type": "code",
   "execution_count": 15,
   "metadata": {
    "id": "XHRaNaVqLQ47"
   },
   "outputs": [],
   "source": [
    "def reshape_y(y_train):\n",
    "  Y_TRAIN = []\n",
    "  for val in y_train:\n",
    "    for i in val:\n",
    "      for j in i:\n",
    "        Y_TRAIN.append(j)\n",
    "\n",
    "  return np.array(Y_TRAIN)"
   ]
  },
  {
   "cell_type": "markdown",
   "metadata": {
    "id": "dulJGynoMNyL"
   },
   "source": [
    "**STFT FEATURES AS TRAINING**"
   ]
  },
  {
   "cell_type": "code",
   "execution_count": 16,
   "metadata": {
    "colab": {
     "base_uri": "https://localhost:8080/"
    },
    "id": "6-invDN2_GCv",
    "outputId": "74654a70-b7ca-46a1-b241-4cea05f8caaa"
   },
   "outputs": [
    {
     "data": {
      "text/plain": [
       "((3000, 257, 32), (3000,))"
      ]
     },
     "execution_count": 16,
     "metadata": {},
     "output_type": "execute_result"
    }
   ],
   "source": [
    "X_TRAIN = reshape_dataset(datasetstft)\n",
    "Y_TRAIN = reshape_y(y_train_stft)\n",
    "\n",
    "X_TRAIN.shape, Y_TRAIN.shape"
   ]
  },
  {
   "cell_type": "markdown",
   "metadata": {
    "id": "3c2kKalMvxlR"
   },
   "source": [
    "### **Test data preparation**"
   ]
  },
  {
   "cell_type": "code",
   "execution_count": 19,
   "metadata": {
    "id": "8KZ69-LeMpZr"
   },
   "outputs": [],
   "source": [
    "'''\n",
    "THIS FUNCTION ACCEPTS FOLDER PATH WHICH CONTAINS SPEECH AND MUSIC DATASET\n",
    "RETURNS: 1D ARRAY OF AUDIO FILES\n",
    "\n",
    "ATTENTION! MAKE SURE THE ORDER OF FOLDER READ AND HARDCORED ARE SAME!!!!\n",
    "\n",
    "'''\n",
    "def readaudiofiles(path):\n",
    "\n",
    "  folders = os.listdir(path)\n",
    "  print(folders)\n",
    "\n",
    "  audiofiles = []\n",
    "  for folder in folders:\n",
    "    files = os.listdir(path+'/'+folder)\n",
    "    files = sorted(files)\n",
    "    audio = []\n",
    "    for file in files:\n",
    "        data, samplerate = lb.load(path+'/'+folder+'/'+file, sr=8000, mono=True)\n",
    "        audio.append(data)\n",
    "    audiofiles.append(audio)\n",
    "\n",
    "  music = np.array(audiofiles[0])\n",
    "  mixture = np.array(audiofiles[3])\n",
    "  overlay = np.array(audiofiles[2])\n",
    "  speech = np.array(audiofiles[1])\n",
    "\n",
    "  dataset = [music, mixture, overlay, speech]\n",
    "  print(samplerate)\n",
    "\n",
    "  return music, mixture, overlay, speech, dataset"
   ]
  },
  {
   "cell_type": "code",
   "execution_count": 20,
   "metadata": {
    "colab": {
     "base_uri": "https://localhost:8080/"
    },
    "id": "0-cPJhzgvxPS",
    "outputId": "e9d53d61-342b-4742-9340-dd158842519b"
   },
   "outputs": [
    {
     "name": "stdout",
     "output_type": "stream",
     "text": [
      "['music', 'speech', 'overlay', 'mixture']\n",
      "8000\n",
      "[-0.06551269 -0.09722305 -0.09252059 ... -0.0058487   0.04005643\n",
      "  0.08765063] 120000 15.0\n"
     ]
    }
   ],
   "source": [
    "test_path = '/home/rajesh/Desktop/Projects/Music-Speech-Separation/Test Data'\n",
    "\n",
    "music_test, mixture_test, overlay_test, speech_test, dataset_test = readaudiofiles(test_path)\n",
    "\n",
    "print(music_test[0], len(music_test[0]), len(music_test[0])/8000)"
   ]
  },
  {
   "cell_type": "code",
   "execution_count": 23,
   "metadata": {
    "colab": {
     "base_uri": "https://localhost:8080/"
    },
    "id": "a1PqP1bqB_6I",
    "outputId": "c8b8bcac-51f0-4f0a-94bf-60e56ef3672d"
   },
   "outputs": [
    {
     "name": "stdout",
     "output_type": "stream",
     "text": [
      "(10, 30, 257, 32) 2\n"
     ]
    }
   ],
   "source": [
    "dataset_test_stft, y_test_stft = stft_extract(music_test, speech_test)\n",
    "print(dataset_test_stft[0].shape, len(dataset_test_stft))"
   ]
  },
  {
   "cell_type": "markdown",
   "metadata": {
    "id": "I46UyiOrN5pO"
   },
   "source": [
    "**TEST STFT FEATURES**"
   ]
  },
  {
   "cell_type": "code",
   "execution_count": 24,
   "metadata": {
    "colab": {
     "base_uri": "https://localhost:8080/"
    },
    "id": "wMixjkRkNLSi",
    "outputId": "8a1bf409-e62c-4fc3-a103-296333629e3f"
   },
   "outputs": [
    {
     "data": {
      "text/plain": [
       "((600, 257, 32), (600,))"
      ]
     },
     "execution_count": 24,
     "metadata": {},
     "output_type": "execute_result"
    }
   ],
   "source": [
    "X_TEST = reshape_dataset(dataset_test_stft)\n",
    "Y_TEST = reshape_y(y_test_stft)\n",
    "\n",
    "X_TEST.shape, Y_TEST.shape"
   ]
  },
  {
   "cell_type": "markdown",
   "metadata": {
    "id": "3qRbuUHeTOfR"
   },
   "source": [
    "# **CNN MODEL**"
   ]
  },
  {
   "cell_type": "code",
   "execution_count": 25,
   "metadata": {
    "id": "gy2SNW6BL4WF"
   },
   "outputs": [],
   "source": [
    "import time\n",
    "from tensorflow.keras.models import Model\n",
    "from tensorflow.keras.layers import Input,Dense,Flatten,Dropout,Conv2D,MaxPool2D\n",
    "from tensorflow.keras.layers import BatchNormalization\n",
    "from tensorflow.keras.layers import MaxPooling2D\n",
    "from tensorflow.keras.models import Model\n",
    "from tensorflow.keras.optimizers import Adam\n",
    "from tensorflow.keras import regularizers"
   ]
  },
  {
   "cell_type": "code",
   "execution_count": 26,
   "metadata": {
    "id": "T5aUxJRuTaHU"
   },
   "outputs": [],
   "source": [
    "batch_size = 32\n",
    "epochs = 50\n",
    "inp = Input(shape =(257, 32, 1))\n",
    "out_dim = 2"
   ]
  },
  {
   "cell_type": "code",
   "execution_count": 28,
   "metadata": {
    "id": "YQTtwAudTi5g"
   },
   "outputs": [],
   "source": [
    "start = time.time()\n",
    "\n",
    "x = Conv2D(32, 3, activation='relu')(inp)\n",
    "x = BatchNormalization()(x)\n",
    "x = MaxPooling2D(pool_size=(2, 2))(x)\n",
    "x = Dropout(0.30)(x)\n",
    "\n",
    "x = Conv2D(64, 3, activation='relu')(x)\n",
    "x = BatchNormalization()(x)\n",
    "x = MaxPooling2D(pool_size=(2, 2))(x)\n",
    "x = Dropout(0.30)(x)\n",
    "\n",
    "x = Flatten()(x)\n",
    "x = Dense(100, activation='relu')(x)\n",
    "x = Dropout(0.30)(x)\n",
    "\n",
    "x = Dense(out_dim, activation='softmax')(x)"
   ]
  },
  {
   "cell_type": "code",
   "execution_count": 29,
   "metadata": {
    "id": "0-2XtZBXT7wH"
   },
   "outputs": [],
   "source": [
    "x_train = X_TRAIN\n",
    "y_train = Y_TRAIN"
   ]
  },
  {
   "cell_type": "code",
   "execution_count": 30,
   "metadata": {
    "colab": {
     "base_uri": "https://localhost:8080/"
    },
    "id": "Vvca_2TrTroW",
    "outputId": "fd2f6445-8666-4825-b743-f17a00a7a2b6"
   },
   "outputs": [
    {
     "name": "stdout",
     "output_type": "stream",
     "text": [
      "Epoch 1/50\n",
      "94/94 [==============================] - 17s 169ms/step - loss: 0.6758 - accuracy: 0.8517\n",
      "Epoch 2/50\n",
      "94/94 [==============================] - 15s 159ms/step - loss: 0.1252 - accuracy: 0.9547\n",
      "Epoch 3/50\n",
      "94/94 [==============================] - 15s 163ms/step - loss: 0.0724 - accuracy: 0.9757\n",
      "Epoch 4/50\n",
      "94/94 [==============================] - 16s 165ms/step - loss: 0.0542 - accuracy: 0.9793\n",
      "Epoch 5/50\n",
      "94/94 [==============================] - 16s 172ms/step - loss: 0.0539 - accuracy: 0.9803\n",
      "Epoch 6/50\n",
      "94/94 [==============================] - 15s 163ms/step - loss: 0.0480 - accuracy: 0.9853\n",
      "Epoch 7/50\n",
      "94/94 [==============================] - 15s 155ms/step - loss: 0.0305 - accuracy: 0.9880\n",
      "Epoch 8/50\n",
      "94/94 [==============================] - 15s 156ms/step - loss: 0.0277 - accuracy: 0.9933\n",
      "Epoch 9/50\n",
      "94/94 [==============================] - 15s 157ms/step - loss: 0.0271 - accuracy: 0.9907\n",
      "Epoch 10/50\n",
      "94/94 [==============================] - 15s 157ms/step - loss: 0.0187 - accuracy: 0.9927\n",
      "Epoch 11/50\n",
      "94/94 [==============================] - 15s 155ms/step - loss: 0.0196 - accuracy: 0.9933\n",
      "Epoch 12/50\n",
      "94/94 [==============================] - 15s 158ms/step - loss: 0.0183 - accuracy: 0.9947\n",
      "Epoch 13/50\n",
      "94/94 [==============================] - 15s 158ms/step - loss: 0.0430 - accuracy: 0.9887\n",
      "Epoch 14/50\n",
      "94/94 [==============================] - 15s 157ms/step - loss: 0.0487 - accuracy: 0.9880\n",
      "Epoch 15/50\n",
      "94/94 [==============================] - 15s 156ms/step - loss: 0.0215 - accuracy: 0.9937\n",
      "Epoch 16/50\n",
      "94/94 [==============================] - 15s 158ms/step - loss: 0.0119 - accuracy: 0.9967\n",
      "Epoch 17/50\n",
      "94/94 [==============================] - 15s 159ms/step - loss: 0.0132 - accuracy: 0.9953\n",
      "Epoch 18/50\n",
      "94/94 [==============================] - 15s 158ms/step - loss: 0.0198 - accuracy: 0.9933\n",
      "Epoch 19/50\n",
      "94/94 [==============================] - 15s 157ms/step - loss: 0.0219 - accuracy: 0.9940\n",
      "Epoch 20/50\n",
      "94/94 [==============================] - 15s 159ms/step - loss: 0.0333 - accuracy: 0.9920\n",
      "Epoch 21/50\n",
      "94/94 [==============================] - 15s 161ms/step - loss: 0.0344 - accuracy: 0.9913\n",
      "Epoch 22/50\n",
      "94/94 [==============================] - 15s 159ms/step - loss: 0.0305 - accuracy: 0.9903\n",
      "Epoch 23/50\n",
      "94/94 [==============================] - 15s 164ms/step - loss: 0.0156 - accuracy: 0.9947\n",
      "Epoch 24/50\n",
      "94/94 [==============================] - 16s 166ms/step - loss: 0.0196 - accuracy: 0.9940\n",
      "Epoch 25/50\n",
      "94/94 [==============================] - 16s 171ms/step - loss: 0.0229 - accuracy: 0.9933\n",
      "Epoch 26/50\n",
      "94/94 [==============================] - 15s 164ms/step - loss: 0.0139 - accuracy: 0.9967\n",
      "Epoch 27/50\n",
      "94/94 [==============================] - 15s 164ms/step - loss: 0.0114 - accuracy: 0.9963\n",
      "Epoch 28/50\n",
      "94/94 [==============================] - 16s 170ms/step - loss: 0.0080 - accuracy: 0.9980\n",
      "Epoch 29/50\n",
      "94/94 [==============================] - 15s 164ms/step - loss: 0.0094 - accuracy: 0.9967\n",
      "Epoch 30/50\n",
      "94/94 [==============================] - 15s 161ms/step - loss: 0.0090 - accuracy: 0.9960\n",
      "Epoch 31/50\n",
      "94/94 [==============================] - 16s 167ms/step - loss: 0.0133 - accuracy: 0.9977\n",
      "Epoch 32/50\n",
      "94/94 [==============================] - 15s 163ms/step - loss: 0.0139 - accuracy: 0.9970\n",
      "Epoch 33/50\n",
      "94/94 [==============================] - 16s 170ms/step - loss: 0.0188 - accuracy: 0.9963\n",
      "Epoch 34/50\n",
      "94/94 [==============================] - 16s 166ms/step - loss: 0.0152 - accuracy: 0.9973\n",
      "Epoch 35/50\n",
      "94/94 [==============================] - 15s 163ms/step - loss: 0.0110 - accuracy: 0.9967\n",
      "Epoch 36/50\n",
      "94/94 [==============================] - 15s 163ms/step - loss: 0.0170 - accuracy: 0.9967\n",
      "Epoch 37/50\n",
      "94/94 [==============================] - 15s 164ms/step - loss: 0.0200 - accuracy: 0.9963\n",
      "Epoch 38/50\n",
      "94/94 [==============================] - 15s 163ms/step - loss: 0.0165 - accuracy: 0.9953\n",
      "Epoch 39/50\n",
      "94/94 [==============================] - 15s 163ms/step - loss: 0.0123 - accuracy: 0.9957\n",
      "Epoch 40/50\n",
      "94/94 [==============================] - 16s 168ms/step - loss: 0.0108 - accuracy: 0.9980\n",
      "Epoch 41/50\n",
      "94/94 [==============================] - 15s 164ms/step - loss: 0.0065 - accuracy: 0.9977\n",
      "Epoch 42/50\n",
      "94/94 [==============================] - 15s 165ms/step - loss: 0.0058 - accuracy: 0.9973\n",
      "Epoch 43/50\n",
      "94/94 [==============================] - 16s 166ms/step - loss: 0.0069 - accuracy: 0.9967\n",
      "Epoch 44/50\n",
      "94/94 [==============================] - 16s 168ms/step - loss: 0.0102 - accuracy: 0.9980\n",
      "Epoch 45/50\n",
      "94/94 [==============================] - 16s 171ms/step - loss: 0.0125 - accuracy: 0.9967\n",
      "Epoch 46/50\n",
      "94/94 [==============================] - 17s 179ms/step - loss: 0.0132 - accuracy: 0.9977\n",
      "Epoch 47/50\n",
      "94/94 [==============================] - 16s 173ms/step - loss: 0.0145 - accuracy: 0.9973\n",
      "Epoch 48/50\n",
      "94/94 [==============================] - 16s 166ms/step - loss: 0.0220 - accuracy: 0.9940\n",
      "Epoch 49/50\n",
      "94/94 [==============================] - 15s 164ms/step - loss: 0.0189 - accuracy: 0.9940\n",
      "Epoch 50/50\n",
      "94/94 [==============================] - 16s 165ms/step - loss: 0.0077 - accuracy: 0.9963\n",
      "time taken <module 'time' (built-in)>\n"
     ]
    }
   ],
   "source": [
    "classify = Model(inputs = inp, outputs = x)\n",
    "classify.compile(loss='SparseCategoricalCrossentropy', optimizer = 'adam', metrics='accuracy') \n",
    "#classify.summary()\n",
    "classify_train = classify.fit(x_train,y_train, epochs = epochs ,batch_size=batch_size)\n",
    "end = time.time()\n",
    "print(\"time taken\",time)"
   ]
  },
  {
   "cell_type": "code",
   "execution_count": 31,
   "metadata": {
    "colab": {
     "base_uri": "https://localhost:8080/"
    },
    "id": "boyx0OVdUXHD",
    "outputId": "7056e02a-ad81-401f-8fb3-89e231e27a2d"
   },
   "outputs": [
    {
     "name": "stdout",
     "output_type": "stream",
     "text": [
      "Test [0.3864958584308624, 0.9466666579246521]\n"
     ]
    }
   ],
   "source": [
    "test_eval = classify.evaluate(X_TEST,  Y_TEST, verbose=0)\n",
    "print('Test', test_eval)"
   ]
  },
  {
   "cell_type": "code",
   "execution_count": 32,
   "metadata": {
    "colab": {
     "base_uri": "https://localhost:8080/",
     "height": 265
    },
    "id": "sEGEu_Y02orh",
    "outputId": "696f2ddf-234a-4336-dba8-a01d87d0e11b"
   },
   "outputs": [
    {
     "data": {
      "image/png": "[encoded data removed]",
      "text/plain": [
       "<Figure size 432x288 with 1 Axes>"
      ]
     },
     "metadata": {
      "needs_background": "light"
     },
     "output_type": "display_data"
    }
   ],
   "source": [
    "plt.plot(classify_train.history['accuracy'])\n",
    "plt.legend(['training'], loc = 'upper left')\n",
    "plt.show()"
   ]
  },
  {
   "cell_type": "code",
   "execution_count": 33,
   "metadata": {
    "colab": {
     "base_uri": "https://localhost:8080/",
     "height": 265
    },
    "id": "ZsGdeyh12x8h",
    "outputId": "ba0b01ed-adba-4d69-dd30-568b4c0b1764"
   },
   "outputs": [
    {
     "data": {
      "image/png": "[encoded data removed]",
      "text/plain": [
       "<Figure size 432x288 with 1 Axes>"
      ]
     },
     "metadata": {
      "needs_background": "light"
     },
     "output_type": "display_data"
    }
   ],
   "source": [
    "plt.plot(classify_train.history['loss'])\n",
    "plt.legend(['training'], loc = 'upper left')\n",
    "plt.show()"
   ]
  },
  {
   "cell_type": "code",
   "execution_count": 34,
   "metadata": {
    "colab": {
     "base_uri": "https://localhost:8080/"
    },
    "id": "qKz874BJ2_gO",
    "outputId": "46e7cf0c-afa5-480c-9c3e-f1a789ba53a8"
   },
   "outputs": [
    {
     "name": "stdout",
     "output_type": "stream",
     "text": [
      "19/19 [==============================] - 1s 28ms/step\n"
     ]
    },
    {
     "data": {
      "text/plain": [
       "array([0, 0, 0, 0, 0, 0, 0, 0, 0, 0, 0, 0, 0, 0, 0, 0, 1, 0, 0, 1, 1, 0,\n",
       "       0, 0, 0, 0, 0, 0, 0, 0, 0, 0, 1, 0, 0, 0, 0, 0, 0, 0, 0, 0, 0, 1,\n",
       "       0, 0, 0, 0, 0, 1, 1, 0, 0, 0, 0, 0, 0, 0, 0, 1, 0, 0, 1, 1, 0, 0,\n",
       "       0, 0, 1, 0, 0, 0, 0, 0, 0, 0, 0, 0, 0, 0, 0, 0, 1, 0, 0, 0, 1, 0,\n",
       "       0, 0, 0, 0, 0, 0, 0, 0, 0, 0, 0, 0, 0, 0, 0, 1, 1, 1, 1, 1, 0, 0,\n",
       "       1, 1, 0, 0, 0, 0, 0, 0, 0, 0, 0, 0, 0, 0, 0, 0, 0, 0, 0, 0, 0, 0,\n",
       "       0, 0, 0, 0, 0, 0, 0, 0, 0, 0, 0, 0, 0, 0, 0, 0, 0, 0, 0, 0, 0, 0,\n",
       "       0, 0, 0, 0, 0, 0, 0, 0, 1, 0, 1, 1, 0, 0, 0, 0, 0, 0, 0, 0, 0, 0,\n",
       "       0, 0, 0, 0, 0, 0, 0, 0, 0, 0, 0, 0, 0, 0, 0, 0, 0, 0, 0, 0, 0, 0,\n",
       "       0, 0, 0, 0, 0, 0, 0, 0, 0, 0, 0, 0, 0, 1, 0, 0, 0, 0, 0, 0, 0, 0,\n",
       "       0, 1, 0, 0, 0, 1, 0, 0, 0, 0, 0, 1, 1, 0, 1, 1, 0, 0, 0, 0, 0, 0,\n",
       "       0, 0, 0, 0, 0, 0, 0, 0, 0, 0, 0, 0, 0, 0, 0, 0, 0, 0, 0, 0, 0, 0,\n",
       "       0, 0, 0, 0, 0, 0, 0, 0, 0, 0, 0, 0, 0, 0, 0, 0, 0, 0, 0, 0, 0, 0,\n",
       "       0, 0, 0, 0, 0, 0, 0, 0, 0, 0, 0, 0, 0, 0, 1, 1, 1, 1, 1, 1, 1, 1,\n",
       "       1, 1, 1, 1, 1, 1, 1, 1, 1, 1, 1, 1, 1, 1, 1, 1, 1, 1, 1, 1, 1, 1,\n",
       "       1, 1, 1, 1, 1, 1, 1, 1, 1, 1, 1, 1, 1, 1, 1, 1, 1, 1, 1, 1, 1, 1,\n",
       "       1, 1, 1, 1, 1, 1, 1, 1, 1, 1, 1, 1, 1, 1, 1, 1, 1, 1, 1, 1, 1, 1,\n",
       "       1, 1, 1, 1, 1, 1, 1, 1, 1, 1, 1, 1, 1, 0, 1, 1, 1, 1, 1, 1, 1, 1,\n",
       "       1, 1, 1, 1, 1, 1, 1, 1, 1, 1, 1, 1, 1, 1, 1, 1, 1, 1, 1, 1, 1, 1,\n",
       "       1, 1, 1, 1, 1, 1, 1, 1, 1, 1, 1, 1, 1, 1, 1, 1, 1, 1, 1, 1, 1, 1,\n",
       "       1, 1, 1, 1, 1, 1, 1, 1, 1, 1, 1, 1, 1, 1, 1, 1, 1, 1, 1, 1, 1, 1,\n",
       "       1, 1, 1, 1, 1, 1, 1, 1, 1, 1, 1, 1, 1, 1, 1, 1, 1, 1, 1, 1, 1, 1,\n",
       "       1, 1, 1, 1, 1, 1, 1, 0, 1, 1, 1, 1, 1, 1, 1, 1, 1, 1, 1, 1, 1, 1,\n",
       "       1, 1, 1, 1, 1, 1, 1, 1, 1, 1, 1, 1, 1, 1, 1, 1, 1, 1, 1, 1, 1, 1,\n",
       "       1, 1, 1, 1, 1, 1, 1, 1, 1, 1, 1, 1, 1, 1, 1, 1, 1, 1, 1, 1, 1, 1,\n",
       "       1, 1, 1, 1, 1, 1, 1, 1, 1, 1, 1, 1, 1, 1, 1, 1, 1, 1, 1, 1, 1, 1,\n",
       "       1, 1, 1, 1, 1, 1, 1, 1, 1, 1, 1, 1, 1, 1, 1, 1, 1, 1, 1, 1, 1, 1,\n",
       "       1, 1, 1, 1, 1, 1])"
      ]
     },
     "execution_count": 34,
     "metadata": {},
     "output_type": "execute_result"
    }
   ],
   "source": [
    "predictions = classify.predict(X_TEST, verbose=1)\n",
    "result = np.argmax(predictions, axis=1)\n",
    "result"
   ]
  },
  {
   "cell_type": "code",
   "execution_count": 35,
   "metadata": {
    "colab": {
     "base_uri": "https://localhost:8080/"
    },
    "id": "EcurZS3AZqkg",
    "outputId": "c7b95b0d-66f4-47d3-9471-85aaedfd1f6d"
   },
   "outputs": [
    {
     "data": {
      "text/plain": [
       "<tf.Tensor: shape=(2, 2), dtype=int32, numpy=\n",
       "array([[270,  30],\n",
       "       [  2, 298]], dtype=int32)>"
      ]
     },
     "execution_count": 35,
     "metadata": {},
     "output_type": "execute_result"
    }
   ],
   "source": [
    "cm = tf.math.confusion_matrix(Y_TEST, result)\n",
    "cm"
   ]
  },
  {
   "cell_type": "markdown",
   "metadata": {
    "id": "FkuSgclF3znK"
   },
   "source": [
    "# **TEST ON AIR DATA**"
   ]
  },
  {
   "cell_type": "code",
   "execution_count": 36,
   "metadata": {
    "colab": {
     "base_uri": "https://localhost:8080/"
    },
    "id": "r3JFYT9C3W5P",
    "outputId": "fbb6dd66-e77a-428f-dc0e-de2133c46a17"
   },
   "outputs": [
    {
     "data": {
      "text/plain": [
       "(array([0.        , 0.        , 0.        , ..., 0.1968468 , 0.09085861,\n",
       "        0.06629869], dtype=float32),\n",
       " 8000)"
      ]
     },
     "execution_count": 36,
     "metadata": {},
     "output_type": "execute_result"
    }
   ],
   "source": [
    "sample_audio, sr  = lb.load('/home/rajesh/Desktop/Projects/Music-Speech-Separation/Results/trimmed.wav', sr=8000, mono=True)\n",
    "sample_audio, sr"
   ]
  },
  {
   "cell_type": "code",
   "execution_count": 37,
   "metadata": {
    "colab": {
     "base_uri": "https://localhost:8080/"
    },
    "id": "sCh6bPKV4rzW",
    "outputId": "17259629-d223-4a2b-d74a-b1f50a3e3bef"
   },
   "outputs": [
    {
     "data": {
      "text/plain": [
       "(510, 257, 32)"
      ]
     },
     "execution_count": 37,
     "metadata": {},
     "output_type": "execute_result"
    }
   ],
   "source": [
    "chunks_sample = np.array(createchunks(sample_audio))\n",
    "spect_sample = []\n",
    "for i in chunks_sample:\n",
    "  spect_sample.append(np.abs(lb.stft(i,n_fft=512))) #window length = nfft and hop length = win length //4\n",
    "\n",
    "spect_sample = np.array(spect_sample)\n",
    "spect_sample.shape"
   ]
  },
  {
   "cell_type": "code",
   "execution_count": 38,
   "metadata": {
    "colab": {
     "base_uri": "https://localhost:8080/"
    },
    "id": "E5AKDW716Nx3",
    "outputId": "af4a4d96-1481-47c8-f7c0-fefddf049336"
   },
   "outputs": [
    {
     "name": "stdout",
     "output_type": "stream",
     "text": [
      "16/16 [==============================] - 0s 28ms/step\n"
     ]
    },
    {
     "data": {
      "text/plain": [
       "array([1, 1, 1, 1, 1, 0, 0, 0, 0, 0, 0, 0, 0, 0, 0, 0, 0, 0, 1, 1, 1, 1,\n",
       "       1, 1, 1, 1, 1, 1, 1, 1, 1, 1, 1, 1, 1, 1, 1, 1, 1, 1, 1, 1, 1, 1,\n",
       "       1, 1, 1, 1, 1, 1, 1, 1, 1, 1, 1, 1, 1, 1, 1, 1, 1, 1, 1, 1, 1, 1,\n",
       "       1, 1, 1, 1, 1, 1, 1, 1, 1, 1, 1, 1, 1, 1, 1, 1, 1, 1, 1, 1, 1, 1,\n",
       "       1, 1, 1, 1, 1, 1, 1, 1, 1, 1, 1, 1, 1, 1, 1, 1, 1, 1, 1, 1, 1, 1,\n",
       "       1, 1, 1, 1, 1, 1, 1, 1, 1, 1, 1, 1, 1, 1, 1, 1, 1, 1, 1, 1, 1, 1,\n",
       "       1, 1, 1, 1, 1, 1, 1, 1, 1, 1, 1, 1, 1, 1, 1, 1, 1, 1, 1, 1, 1, 1,\n",
       "       1, 1, 1, 1, 1, 1, 1, 1, 1, 1, 1, 1, 1, 1, 1, 1, 1, 1, 1, 1, 1, 1,\n",
       "       1, 1, 1, 1, 1, 1, 1, 1, 1, 1, 1, 1, 1, 1, 1, 1, 1, 1, 1, 1, 1, 1,\n",
       "       1, 1, 1, 1, 1, 1, 1, 1, 1, 1, 1, 1, 1, 1, 1, 1, 1, 1, 1, 1, 1, 1,\n",
       "       1, 1, 0, 1, 1, 1, 1, 1, 1, 1, 1, 1, 1, 1, 1, 1, 1, 1, 1, 1, 1, 1,\n",
       "       1, 1, 1, 1, 1, 1, 1, 1, 1, 1, 1, 1, 1, 1, 1, 1, 1, 1, 1, 1, 1, 1,\n",
       "       1, 1, 1, 1, 1, 1, 1, 1, 1, 1, 1, 1, 1, 1, 1, 1, 1, 1, 1, 1, 1, 1,\n",
       "       1, 1, 1, 1, 1, 1, 1, 1, 1, 1, 1, 1, 1, 1, 1, 1, 1, 1, 1, 1, 1, 1,\n",
       "       1, 1, 1, 1, 1, 1, 1, 1, 1, 1, 1, 1, 1, 1, 1, 1, 1, 1, 1, 1, 1, 1,\n",
       "       1, 1, 1, 1, 1, 1, 1, 1, 1, 1, 1, 1, 1, 1, 1, 1, 1, 1, 1, 1, 1, 1,\n",
       "       1, 1, 1, 1, 1, 1, 1, 1, 1, 1, 1, 1, 1, 1, 1, 1, 1, 1, 1, 1, 1, 1,\n",
       "       1, 1, 1, 1, 1, 1, 1, 1, 1, 1, 1, 1, 1, 1, 1, 1, 1, 1, 1, 1, 1, 1,\n",
       "       1, 1, 1, 1, 1, 1, 1, 1, 1, 1, 1, 1, 1, 1, 1, 1, 1, 1, 1, 1, 1, 1,\n",
       "       1, 1, 1, 1, 1, 1, 1, 1, 1, 1, 1, 1, 1, 1, 1, 1, 1, 1, 1, 1, 1, 1,\n",
       "       1, 1, 1, 1, 1, 1, 1, 1, 1, 1, 1, 0, 0, 0, 0, 0, 0, 0, 1, 1, 1, 1,\n",
       "       1, 1, 1, 1, 1, 1, 1, 1, 1, 1, 1, 1, 1, 1, 1, 1, 1, 1, 1, 1, 1, 1,\n",
       "       1, 1, 1, 1, 1, 1, 0, 0, 0, 0, 0, 0, 1, 1, 1, 1, 1, 1, 1, 1, 1, 1,\n",
       "       1, 1, 1, 1])"
      ]
     },
     "execution_count": 38,
     "metadata": {},
     "output_type": "execute_result"
    }
   ],
   "source": [
    "res = classify.predict(spect_sample)\n",
    "res = np.argmax(res, axis=1)\n",
    "res"
   ]
  },
  {
   "cell_type": "code",
   "execution_count": 39,
   "metadata": {
    "colab": {
     "base_uri": "https://localhost:8080/"
    },
    "id": "ul5Nek3G6VDG",
    "outputId": "b99a18e5-9677-41c3-dd8a-489f92a42853"
   },
   "outputs": [
    {
     "data": {
      "text/plain": [
       "510"
      ]
     },
     "execution_count": 39,
     "metadata": {},
     "output_type": "execute_result"
    }
   ],
   "source": [
    "len(res)"
   ]
  },
  {
   "cell_type": "markdown",
   "metadata": {
    "id": "T9IUIT3t8W4_"
   },
   "source": [
    "### **DELETING MUSIC FROM SPEECH**"
   ]
  },
  {
   "cell_type": "code",
   "execution_count": 40,
   "metadata": {
    "colab": {
     "base_uri": "https://localhost:8080/"
    },
    "id": "r_mCm6d_8dya",
    "outputId": "ea5b1852-896d-4313-8ba0-66beb99d26e8"
   },
   "outputs": [
    {
     "name": "stdout",
     "output_type": "stream",
     "text": [
      "[0.5, 1.0, 1.5, 2.0, 2.5, 9.5, 10.0, 10.5, 11.0, 11.5, 12.0, 12.5, 13.0, 13.5, 14.0, 14.5, 15.0, 15.5, 16.0, 16.5, 17.0, 17.5, 18.0, 18.5, 19.0, 19.5, 20.0, 20.5, 21.0, 21.5, 22.0, 22.5, 23.0, 23.5, 24.0, 24.5, 25.0, 25.5, 26.0, 26.5, 27.0, 27.5, 28.0, 28.5, 29.0, 29.5, 30.0, 30.5, 31.0, 31.5, 32.0, 32.5, 33.0, 33.5, 34.0, 34.5, 35.0, 35.5, 36.0, 36.5, 37.0, 37.5, 38.0, 38.5, 39.0, 39.5, 40.0, 40.5, 41.0, 41.5, 42.0, 42.5, 43.0, 43.5, 44.0, 44.5, 45.0, 45.5, 46.0, 46.5, 47.0, 47.5, 48.0, 48.5, 49.0, 49.5, 50.0, 50.5, 51.0, 51.5, 52.0, 52.5, 53.0, 53.5, 54.0, 54.5, 55.0, 55.5, 56.0, 56.5, 57.0, 57.5, 58.0, 58.5, 59.0, 59.5, 60.0, 60.5, 61.0, 61.5, 62.0, 62.5, 63.0, 63.5, 64.0, 64.5, 65.0, 65.5, 66.0, 66.5, 67.0, 67.5, 68.0, 68.5, 69.0, 69.5, 70.0, 70.5, 71.0, 71.5, 72.0, 72.5, 73.0, 73.5, 74.0, 74.5, 75.0, 75.5, 76.0, 76.5, 77.0, 77.5, 78.0, 78.5, 79.0, 79.5, 80.0, 80.5, 81.0, 81.5, 82.0, 82.5, 83.0, 83.5, 84.0, 84.5, 85.0, 85.5, 86.0, 86.5, 87.0, 87.5, 88.0, 88.5, 89.0, 89.5, 90.0, 90.5, 91.0, 91.5, 92.0, 92.5, 93.0, 93.5, 94.0, 94.5, 95.0, 95.5, 96.0, 96.5, 97.0, 97.5, 98.0, 98.5, 99.0, 99.5, 100.0, 100.5, 101.0, 101.5, 102.0, 102.5, 103.0, 103.5, 104.0, 104.5, 105.0, 105.5, 106.0, 106.5, 107.0, 107.5, 108.0, 108.5, 109.0, 109.5, 110.0, 110.5, 111.0, 112.0, 112.5, 113.0, 113.5, 114.0, 114.5, 115.0, 115.5, 116.0, 116.5, 117.0, 117.5, 118.0, 118.5, 119.0, 119.5, 120.0, 120.5, 121.0, 121.5, 122.0, 122.5, 123.0, 123.5, 124.0, 124.5, 125.0, 125.5, 126.0, 126.5, 127.0, 127.5, 128.0, 128.5, 129.0, 129.5, 130.0, 130.5, 131.0, 131.5, 132.0, 132.5, 133.0, 133.5, 134.0, 134.5, 135.0, 135.5, 136.0, 136.5, 137.0, 137.5, 138.0, 138.5, 139.0, 139.5, 140.0, 140.5, 141.0, 141.5, 142.0, 142.5, 143.0, 143.5, 144.0, 144.5, 145.0, 145.5, 146.0, 146.5, 147.0, 147.5, 148.0, 148.5, 149.0, 149.5, 150.0, 150.5, 151.0, 151.5, 152.0, 152.5, 153.0, 153.5, 154.0, 154.5, 155.0, 155.5, 156.0, 156.5, 157.0, 157.5, 158.0, 158.5, 159.0, 159.5, 160.0, 160.5, 161.0, 161.5, 162.0, 162.5, 163.0, 163.5, 164.0, 164.5, 165.0, 165.5, 166.0, 166.5, 167.0, 167.5, 168.0, 168.5, 169.0, 169.5, 170.0, 170.5, 171.0, 171.5, 172.0, 172.5, 173.0, 173.5, 174.0, 174.5, 175.0, 175.5, 176.0, 176.5, 177.0, 177.5, 178.0, 178.5, 179.0, 179.5, 180.0, 180.5, 181.0, 181.5, 182.0, 182.5, 183.0, 183.5, 184.0, 184.5, 185.0, 185.5, 186.0, 186.5, 187.0, 187.5, 188.0, 188.5, 189.0, 189.5, 190.0, 190.5, 191.0, 191.5, 192.0, 192.5, 193.0, 193.5, 194.0, 194.5, 195.0, 195.5, 196.0, 196.5, 197.0, 197.5, 198.0, 198.5, 199.0, 199.5, 200.0, 200.5, 201.0, 201.5, 202.0, 202.5, 203.0, 203.5, 204.0, 204.5, 205.0, 205.5, 206.0, 206.5, 207.0, 207.5, 208.0, 208.5, 209.0, 209.5, 210.0, 210.5, 211.0, 211.5, 212.0, 212.5, 213.0, 213.5, 214.0, 214.5, 215.0, 215.5, 216.0, 216.5, 217.0, 217.5, 218.0, 218.5, 219.0, 219.5, 220.0, 220.5, 221.0, 221.5, 222.0, 222.5, 223.0, 223.5, 224.0, 224.5, 225.0, 225.5, 229.5, 230.0, 230.5, 231.0, 231.5, 232.0, 232.5, 233.0, 233.5, 234.0, 234.5, 235.0, 235.5, 236.0, 236.5, 237.0, 237.5, 238.0, 238.5, 239.0, 239.5, 240.0, 240.5, 241.0, 241.5, 242.0, 242.5, 243.0, 243.5, 244.0, 244.5, 245.0, 248.5, 249.0, 249.5, 250.0, 250.5, 251.0, 251.5, 252.0, 252.5, 253.0, 253.5, 254.0, 254.5, 255.0]\n"
     ]
    }
   ],
   "source": [
    "seconds = 0\n",
    "time_split = []\n",
    "for i in range(len(res)):\n",
    "  seconds += 0.5\n",
    "  if res[i] == 1:\n",
    "    time_split.append(seconds)\n",
    "\n",
    "print(time_split)"
   ]
  },
  {
   "cell_type": "code",
   "execution_count": 41,
   "metadata": {
    "colab": {
     "base_uri": "https://localhost:8080/"
    },
    "id": "Zaeb0O3DLFEf",
    "outputId": "bae53e8e-422e-404a-e5a0-e9b40ec560c8"
   },
   "outputs": [
    {
     "data": {
      "text/plain": [
       "[0.5, 2.5, 9.5, 111.0, 112.0, 225.5, 229.5, 245.0, 248.5, 255.0]"
      ]
     },
     "execution_count": 41,
     "metadata": {},
     "output_type": "execute_result"
    }
   ],
   "source": [
    "time_index = []\n",
    "time_index.append(time_split[0])\n",
    "for i in range(len(time_split)-1):\n",
    "  if time_split[i+1] != time_split[i]+0.5:\n",
    "    time_index.append(time_split[i])\n",
    "    time_index.append(time_split[i+1])\n",
    "\n",
    "time_index.append(time_split[-1])\n",
    "time_index"
   ]
  },
  {
   "cell_type": "code",
   "execution_count": 42,
   "metadata": {
    "colab": {
     "base_uri": "https://localhost:8080/"
    },
    "id": "NEAiq2P8IDj-",
    "outputId": "769a9fe9-2671-4ff7-aae5-07f715b62b69"
   },
   "outputs": [
    {
     "data": {
      "text/plain": [
       "[(500.0, 2500.0),\n",
       " (9500.0, 111000.0),\n",
       " (112000.0, 225500.0),\n",
       " (229500.0, 245000.0),\n",
       " (248500.0, 255000.0)]"
      ]
     },
     "execution_count": 42,
     "metadata": {},
     "output_type": "execute_result"
    }
   ],
   "source": [
    "time_tuple = []\n",
    "for i in range(0, len(time_index)-1, 2):\n",
    "  if time_index[i] != 0 and time_index[i] != 0.5:\n",
    "    time_tuple.append(((time_index[i])*1000, (time_index[i+1])*1000)) #converting into msec\n",
    "  else:\n",
    "    time_tuple.append(((time_index[i])*1000, (time_index[i+1])*1000))\n",
    "\n",
    "time_tuple"
   ]
  },
  {
   "cell_type": "code",
   "execution_count": 43,
   "metadata": {
    "id": "11TTNvBOMz3o"
   },
   "outputs": [],
   "source": [
    "seconds = [(500.0, 2500.0),\n",
    " (9500.0, 111000.0),\n",
    " (112000.0, 225500.0),\n",
    " (229500.0, 245000.0),\n",
    " (248500.0, 255000.0)]"
   ]
  },
  {
   "cell_type": "code",
   "execution_count": 46,
   "metadata": {},
   "outputs": [],
   "source": [
    "from pydub import AudioSegment"
   ]
  },
  {
   "cell_type": "code",
   "execution_count": 47,
   "metadata": {
    "id": "nCcW4KlJQF1N"
   },
   "outputs": [
    {
     "data": {
      "text/plain": [
       "<_io.BufferedRandom name='/home/rajesh/Desktop/speechextractedtrimmed.wav'>"
      ]
     },
     "execution_count": 47,
     "metadata": {},
     "output_type": "execute_result"
    }
   ],
   "source": [
    "sample_audio = AudioSegment.from_file(\"/home/rajesh/Desktop/Projects/Music-Speech-Separation/Results/trimmed.wav\", format=\"wav\")\n",
    "\n",
    "trimmed_audio = []\n",
    "for sec in seconds:\n",
    "    trimmed_audio.append(sample_audio[int(sec[0]):int(sec[1])])\n",
    "\n",
    "\n",
    "extracted = trimmed_audio[0]\n",
    "for i in range(1, len(trimmed_audio)):\n",
    "    extracted = extracted+trimmed_audio[i]\n",
    "\n",
    "\n",
    "extracted.export(\"/home/rajesh/Desktop/speechextractedtrimmed.wav\", format=\"wav\")\n",
    "\n"
   ]
  },
  {
   "cell_type": "code",
   "execution_count": null,
   "metadata": {},
   "outputs": [],
   "source": []
  },
  {
   "cell_type": "code",
   "execution_count": null,
   "metadata": {},
   "outputs": [],
   "source": []
  },
  {
   "cell_type": "code",
   "execution_count": 49,
   "metadata": {},
   "outputs": [],
   "source": [
    "savemodelpath = '/home/rajesh/Desktop/Projects/Music-Speech-Separation/msclassifier.h5'\n",
    "classify.save(savemodelpath)"
   ]
  },
  {
   "cell_type": "code",
   "execution_count": null,
   "metadata": {},
   "outputs": [],
   "source": []
  },
  {
   "cell_type": "code",
   "execution_count": null,
   "metadata": {},
   "outputs": [],
   "source": []
  },
  {
   "cell_type": "code",
   "execution_count": null,
   "metadata": {},
   "outputs": [],
   "source": []
  },
  {
   "cell_type": "code",
   "execution_count": null,
   "metadata": {},
   "outputs": [],
   "source": []
  },
  {
   "cell_type": "code",
   "execution_count": null,
   "metadata": {},
   "outputs": [],
   "source": []
  },
  {
   "cell_type": "code",
   "execution_count": null,
   "metadata": {},
   "outputs": [],
   "source": []
  },
  {
   "cell_type": "code",
   "execution_count": null,
   "metadata": {},
   "outputs": [],
   "source": []
  },
  {
   "cell_type": "code",
   "execution_count": null,
   "metadata": {},
   "outputs": [],
   "source": []
  }
 ],
 "metadata": {
  "colab": {
   "authorship_tag": "ABX9TyNIVlktYGe26ROa3C5tHjmE",
   "collapsed_sections": [
    "OZb-lTVoOH7j",
    "oQyGXVx_H-A5",
    "XHND2AnpfR1o",
    "80hvf3XNghC5",
    "gEBt4gTNnmFk",
    "3c2kKalMvxlR",
    "3qRbuUHeTOfR"
   ],
   "include_colab_link": true,
   "name": "MSClassifierV2.ipynb",
   "provenance": [],
   "toc_visible": true
  },
  "kernelspec": {
   "display_name": "Python 3 (ipykernel)",
   "language": "python",
   "name": "python3"
  },
  "language_info": {
   "codemirror_mode": {
    "name": "ipython",
    "version": 3
   },
   "file_extension": ".py",
   "mimetype": "text/x-python",
   "name": "python",
   "nbconvert_exporter": "python",
   "pygments_lexer": "ipython3",
   "version": "3.10.4"
  }
 },
 "nbformat": 4,
 "nbformat_minor": 1
}
