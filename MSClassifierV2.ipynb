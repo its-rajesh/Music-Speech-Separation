{
  "nbformat": 4,
  "nbformat_minor": 0,
  "metadata": {
    "colab": {
      "name": "MSClassifierV2.ipynb",
      "provenance": [],
      "collapsed_sections": [
        "OZb-lTVoOH7j",
        "oQyGXVx_H-A5",
        "XHND2AnpfR1o",
        "80hvf3XNghC5",
        "gEBt4gTNnmFk",
        "3c2kKalMvxlR",
        "3qRbuUHeTOfR"
      ],
      "toc_visible": true,
      "authorship_tag": "ABX9TyNIVlktYGe26ROa3C5tHjmE",
      "include_colab_link": true
    },
    "kernelspec": {
      "name": "python3",
      "display_name": "Python 3"
    },
    "language_info": {
      "name": "python"
    }
  },
  "cells": [
    {
      "cell_type": "markdown",
      "metadata": {
        "id": "view-in-github",
        "colab_type": "text"
      },
      "source": [
        "<a href=\"https://colab.research.google.com/github/its-rajesh/Music-Speech-Separation/blob/main/MSClassifierV2.ipynb\" target=\"_parent\"><img src=\"https://colab.research.google.com/assets/colab-badge.svg\" alt=\"Open In Colab\"/></a>"
      ]
    },
    {
      "cell_type": "markdown",
      "source": [
        "# **MUSIC SPEECH CONV NEURAL NETWORK CLASSIFIER**"
      ],
      "metadata": {
        "id": "ioS14CbsHisS"
      }
    },
    {
      "cell_type": "markdown",
      "source": [
        "### **Imports**"
      ],
      "metadata": {
        "id": "OZb-lTVoOH7j"
      }
    },
    {
      "cell_type": "code",
      "execution_count": 1,
      "metadata": {
        "id": "6WcuVWOJHaxg"
      },
      "outputs": [],
      "source": [
        "import tensorflow as tf\n",
        "from tensorflow import keras"
      ]
    },
    {
      "cell_type": "code",
      "source": [
        "import soundfile as sf\n",
        "import librosa as lb\n",
        "import numpy as np\n",
        "from matplotlib import pyplot as plt\n",
        "import os\n",
        "import pandas as pd"
      ],
      "metadata": {
        "id": "cV_YcCIPH1oF"
      },
      "execution_count": 2,
      "outputs": []
    },
    {
      "cell_type": "markdown",
      "source": [
        "### **Reading audio files and creating chunks**"
      ],
      "metadata": {
        "id": "oQyGXVx_H-A5"
      }
    },
    {
      "cell_type": "code",
      "source": [
        "from google.colab import drive\n",
        "drive.mount('/drive')"
      ],
      "metadata": {
        "colab": {
          "base_uri": "https://localhost:8080/"
        },
        "id": "0SXPlgnSH82g",
        "outputId": "60993e49-477d-4f0b-f267-e69a3635406c"
      },
      "execution_count": 3,
      "outputs": [
        {
          "output_type": "stream",
          "name": "stdout",
          "text": [
            "Mounted at /drive\n"
          ]
        }
      ]
    },
    {
      "cell_type": "code",
      "source": [
        "'''\n",
        "THIS FUNCTION ACCEPTS FOLDER PATH WHICH CONTAINS SPEECH AND MUSIC DATASET\n",
        "RETURNS: 1D ARRAY OF AUDIO FILES\n",
        "'''\n",
        "def readaudiofiles(path):\n",
        "\n",
        "  folders = os.listdir(path)\n",
        "  print(folders)\n",
        "\n",
        "  audiofiles = []\n",
        "  for folder in folders:\n",
        "    files = os.listdir(path+'/'+folder)\n",
        "    files = sorted(files)\n",
        "    audio = []\n",
        "    for file in files:\n",
        "        data, samplerate = lb.load(path+'/'+folder+'/'+file, sr=8000, mono=True)\n",
        "        audio.append(data)\n",
        "    audiofiles.append(audio)\n",
        "\n",
        "  music = np.array(audiofiles[3])\n",
        "  mixture = np.array(audiofiles[0])\n",
        "  overlay = np.array(audiofiles[1])\n",
        "  speech = np.array(audiofiles[2])\n",
        "\n",
        "  dataset = [music, mixture, overlay, speech]\n",
        "  print(samplerate)\n",
        "\n",
        "  return music, mixture, overlay, speech, dataset\n",
        "\n",
        "\n",
        "path = '/drive/My Drive/Projects/Music-Speech-Separation/Dataset/'\n",
        "music, mixture, overlay, speech, dataset = readaudiofiles(path)"
      ],
      "metadata": {
        "colab": {
          "base_uri": "https://localhost:8080/"
        },
        "id": "RxgJO2sv2sP1",
        "outputId": "397562a1-9f05-4f23-e53c-9beb778c034b"
      },
      "execution_count": 76,
      "outputs": [
        {
          "output_type": "stream",
          "name": "stdout",
          "text": [
            "['Mixture', 'Overlay', 'speech', 'music']\n",
            "8000\n"
          ]
        }
      ]
    },
    {
      "cell_type": "code",
      "source": [
        "music[0], len(music[0]), len(music[0])/8000"
      ],
      "metadata": {
        "colab": {
          "base_uri": "https://localhost:8080/"
        },
        "id": "ZKLAfv4eYKYf",
        "outputId": "d1eb870a-353a-45e5-e34d-6b222cb84c98"
      },
      "execution_count": 77,
      "outputs": [
        {
          "output_type": "execute_result",
          "data": {
            "text/plain": [
              "(array([-0.06211764, -0.17527802, -0.13408872, ...,  0.06697536,\n",
              "         0.07972796,  0.11764227], dtype=float32), 120000, 15.0)"
            ]
          },
          "metadata": {},
          "execution_count": 77
        }
      ]
    },
    {
      "cell_type": "code",
      "source": [
        "'''\n",
        "THIS FUNCTION CREATES CHUNCKS OF THE GIVEN AUDIO FILE\n",
        "INPUTS: AUDIO (Can change the chunks length in seconds as indicated)\n",
        "RETURNS: CHUNCKS\n",
        "'''\n",
        "def createchunks(audio):\n",
        "  start = 0\n",
        "  stop = 4000 # for 0.5 seconds (8Khz): 1 sec has 8000 samples.\n",
        "  chunks = []\n",
        "  for i in range(len(audio)//4000):\n",
        "    chunks.append(audio[start:stop])\n",
        "    start = stop\n",
        "    stop = start+4000\n",
        "\n",
        "  return chunks"
      ],
      "metadata": {
        "id": "Zk0QZwp8ZKYx"
      },
      "execution_count": 78,
      "outputs": []
    },
    {
      "cell_type": "markdown",
      "source": [
        "### **Obtaining STFT features**"
      ],
      "metadata": {
        "id": "XHND2AnpfR1o"
      }
    },
    {
      "cell_type": "code",
      "source": [
        "def stft_extract(music, speech):\n",
        "  datasetstft = []\n",
        "  index = 0\n",
        "  y_train = []\n",
        "  for data in [music, speech]:\n",
        "      spect = []\n",
        "      y = []\n",
        "      for audio in data:\n",
        "        chunks = np.array(createchunks(audio))\n",
        "        chunks_spect = []\n",
        "        for i in chunks:\n",
        "          chunks_spect.append(np.abs(lb.stft(i,n_fft=512))) #window length = nfft and hop length = win length //4\n",
        "\n",
        "        chunks_spect = np.array(chunks_spect)\n",
        "\n",
        "        spect.append(chunks_spect)\n",
        "\n",
        "        if index == 0:\n",
        "          y.append(np.zeros(30))\n",
        "        elif index == 1:\n",
        "          y.append(np.ones(30))\n",
        "      \n",
        "      index += 1\n",
        "      y_train.append(np.array(y))\n",
        "      datasetstft.append(np.array(spect))\n",
        "\n",
        "  return datasetstft, y_train"
      ],
      "metadata": {
        "id": "YgyRfrhK5rrR"
      },
      "execution_count": 79,
      "outputs": []
    },
    {
      "cell_type": "code",
      "source": [
        "datasetstft, y_train_stft = stft_extract(music, speech)"
      ],
      "metadata": {
        "id": "lsWoje506MRP"
      },
      "execution_count": 80,
      "outputs": []
    },
    {
      "cell_type": "code",
      "source": [
        "y_train_stft[0].shape, len(y_train_stft)"
      ],
      "metadata": {
        "colab": {
          "base_uri": "https://localhost:8080/"
        },
        "id": "3hQ4l6fXkJ0Y",
        "outputId": "8af4ccd6-46c8-419d-8408-de0e18a0ebc3"
      },
      "execution_count": 81,
      "outputs": [
        {
          "output_type": "execute_result",
          "data": {
            "text/plain": [
              "((50, 30), 2)"
            ]
          },
          "metadata": {},
          "execution_count": 81
        }
      ]
    },
    {
      "cell_type": "code",
      "source": [
        "datasetstft[0].shape, len(datasetstft)"
      ],
      "metadata": {
        "colab": {
          "base_uri": "https://localhost:8080/"
        },
        "id": "HDVFcam2ZLRo",
        "outputId": "f90e8826-a1e0-4f7d-8a81-46c67cbe1377"
      },
      "execution_count": 82,
      "outputs": [
        {
          "output_type": "execute_result",
          "data": {
            "text/plain": [
              "((50, 30, 257, 32), 2)"
            ]
          },
          "metadata": {},
          "execution_count": 82
        }
      ]
    },
    {
      "cell_type": "markdown",
      "source": [
        "### **Obtaining chroma features**"
      ],
      "metadata": {
        "id": "80hvf3XNghC5"
      }
    },
    {
      "cell_type": "code",
      "source": [
        "def chroma_extract(music, speech):\n",
        "  datasetchroma = []\n",
        "  index = 0\n",
        "  y_train = []\n",
        "  for data in [music, speech]:\n",
        "      spect = []\n",
        "      y = []\n",
        "      for audio in data:\n",
        "        chunks = np.array(createchunks(audio))\n",
        "        chunks_spect = []\n",
        "        for i in chunks:\n",
        "          chunks_spect.append(lb.feature.chroma_stft(y=audio))\n",
        "\n",
        "        chunks_spect = np.array(chunks_spect)\n",
        "\n",
        "        spect.append(chunks_spect)\n",
        "\n",
        "        if index == 0:\n",
        "          y.append(np.zeros(30))\n",
        "        elif index == 1:\n",
        "          y.append(np.ones(30))\n",
        "      \n",
        "      index += 1\n",
        "      y_train.append(np.array(y))\n",
        "      datasetchroma.append(np.array(spect))\n",
        "\n",
        "  return datasetchroma, y_train"
      ],
      "metadata": {
        "id": "z91UDvzI8xkg"
      },
      "execution_count": 85,
      "outputs": []
    },
    {
      "cell_type": "code",
      "source": [
        "datasetchroma, y_train_chroma = chroma_extract(music, speech)"
      ],
      "metadata": {
        "id": "QTlQdRxd7WXn"
      },
      "execution_count": 86,
      "outputs": []
    },
    {
      "cell_type": "code",
      "source": [
        "y_train_chroma[0].shape, len(y_train_chroma)"
      ],
      "metadata": {
        "colab": {
          "base_uri": "https://localhost:8080/"
        },
        "id": "-ACJcu147nmP",
        "outputId": "1a9744f1-b6e0-45d3-cb36-37ae06830cfd"
      },
      "execution_count": 87,
      "outputs": [
        {
          "output_type": "execute_result",
          "data": {
            "text/plain": [
              "((50, 30), 2)"
            ]
          },
          "metadata": {},
          "execution_count": 87
        }
      ]
    },
    {
      "cell_type": "code",
      "source": [
        "datasetchroma[0].shape, len(datasetchroma)"
      ],
      "metadata": {
        "colab": {
          "base_uri": "https://localhost:8080/"
        },
        "id": "z_TbrtQj7oW1",
        "outputId": "6643ab80-dfa5-4dc0-cb41-e6fe7d5ffd72"
      },
      "execution_count": 88,
      "outputs": [
        {
          "output_type": "execute_result",
          "data": {
            "text/plain": [
              "((50, 30, 12, 235), 2)"
            ]
          },
          "metadata": {},
          "execution_count": 88
        }
      ]
    },
    {
      "cell_type": "markdown",
      "source": [
        "### **Reshaping the training datasets**"
      ],
      "metadata": {
        "id": "gEBt4gTNnmFk"
      }
    },
    {
      "cell_type": "code",
      "source": [
        "def reshape_dataset(trainD):\n",
        "  X_TRAIN = []\n",
        "  for data in trainD:\n",
        "    for i in data:\n",
        "      for j in i:\n",
        "        X_TRAIN.append(j)\n",
        "\n",
        "  return np.array(X_TRAIN)"
      ],
      "metadata": {
        "id": "znzUgD7--rDE"
      },
      "execution_count": 89,
      "outputs": []
    },
    {
      "cell_type": "code",
      "source": [
        "def reshape_y(y_train):\n",
        "  Y_TRAIN = []\n",
        "  for val in y_train:\n",
        "    for i in val:\n",
        "      for j in i:\n",
        "        Y_TRAIN.append(j)\n",
        "\n",
        "  return np.array(Y_TRAIN)"
      ],
      "metadata": {
        "id": "XHRaNaVqLQ47"
      },
      "execution_count": 109,
      "outputs": []
    },
    {
      "cell_type": "markdown",
      "source": [
        "**STFT FEATURES AS TRAINING**"
      ],
      "metadata": {
        "id": "dulJGynoMNyL"
      }
    },
    {
      "cell_type": "code",
      "source": [
        "X_TRAIN = reshape_dataset(datasetstft)\n",
        "Y_TRAIN = reshape_y(y_train_stft)\n",
        "\n",
        "X_TRAIN.shape, Y_TRAIN.shape"
      ],
      "metadata": {
        "colab": {
          "base_uri": "https://localhost:8080/"
        },
        "id": "6-invDN2_GCv",
        "outputId": "74654a70-b7ca-46a1-b241-4cea05f8caaa"
      },
      "execution_count": 121,
      "outputs": [
        {
          "output_type": "execute_result",
          "data": {
            "text/plain": [
              "((3000, 257, 32), (3000,))"
            ]
          },
          "metadata": {},
          "execution_count": 121
        }
      ]
    },
    {
      "cell_type": "markdown",
      "source": [
        "**CHROMA FEATURES AS TRAINING**"
      ],
      "metadata": {
        "id": "ZBzeYxccMNFz"
      }
    },
    {
      "cell_type": "code",
      "source": [
        "X_TRAIN = reshape_dataset(datasetchroma)\n",
        "Y_TRAIN = reshape_y(y_train_chroma)\n",
        "\n",
        "X_TRAIN.shape, Y_TRAIN.shape"
      ],
      "metadata": {
        "colab": {
          "base_uri": "https://localhost:8080/"
        },
        "id": "bt5JSuIQLf51",
        "outputId": "15d18c58-9a64-41fa-dfb9-d1b50267a13c"
      },
      "execution_count": 111,
      "outputs": [
        {
          "output_type": "execute_result",
          "data": {
            "text/plain": [
              "((3000, 12, 235), (3000,))"
            ]
          },
          "metadata": {},
          "execution_count": 111
        }
      ]
    },
    {
      "cell_type": "markdown",
      "source": [
        "### **Test data preparation**"
      ],
      "metadata": {
        "id": "3c2kKalMvxlR"
      }
    },
    {
      "cell_type": "code",
      "source": [
        "'''\n",
        "THIS FUNCTION ACCEPTS FOLDER PATH WHICH CONTAINS SPEECH AND MUSIC DATASET\n",
        "RETURNS: 1D ARRAY OF AUDIO FILES\n",
        "'''\n",
        "def readaudiofiles(path):\n",
        "\n",
        "  folders = os.listdir(path)\n",
        "  print(folders)\n",
        "\n",
        "  audiofiles = []\n",
        "  for folder in folders:\n",
        "    files = os.listdir(path+'/'+folder)\n",
        "    files = sorted(files)\n",
        "    audio = []\n",
        "    for file in files:\n",
        "        data, samplerate = lb.load(path+'/'+folder+'/'+file, sr=8000, mono=True)\n",
        "        audio.append(data)\n",
        "    audiofiles.append(audio)\n",
        "\n",
        "  music = np.array(audiofiles[1])\n",
        "  mixture = np.array(audiofiles[2])\n",
        "  overlay = np.array(audiofiles[3])\n",
        "  speech = np.array(audiofiles[0])\n",
        "\n",
        "  dataset = [music, mixture, overlay, speech]\n",
        "  print(samplerate)\n",
        "\n",
        "  return music, mixture, overlay, speech, dataset"
      ],
      "metadata": {
        "id": "8KZ69-LeMpZr"
      },
      "execution_count": 101,
      "outputs": []
    },
    {
      "cell_type": "code",
      "source": [
        "test_path = '/drive/My Drive/Projects/Music-Speech-Separation/Test Dataset/'\n",
        "\n",
        "music_test, mixture_test, overlay_test, speech_test, dataset_test = readaudiofiles(test_path)\n",
        "\n",
        "print(music_test[0], len(music_test[0]), len(music_test[0])/8000)"
      ],
      "metadata": {
        "id": "0-cPJhzgvxPS",
        "colab": {
          "base_uri": "https://localhost:8080/"
        },
        "outputId": "e9d53d61-342b-4742-9340-dd158842519b"
      },
      "execution_count": 102,
      "outputs": [
        {
          "output_type": "stream",
          "name": "stdout",
          "text": [
            "['speech', 'music', 'mixture', 'overlay']\n",
            "8000\n",
            "[-0.06551269 -0.09722305 -0.09252059 ... -0.0058487   0.04005643\n",
            "  0.08765063] 120000 15.0\n"
          ]
        }
      ]
    },
    {
      "cell_type": "code",
      "source": [
        "dataset_test_stft, y_test_stft = stft_extract(music_test, speech_test)\n",
        "print(dataset_test_stft[0].shape, len(dataset_test_stft))"
      ],
      "metadata": {
        "colab": {
          "base_uri": "https://localhost:8080/"
        },
        "id": "a1PqP1bqB_6I",
        "outputId": "c8b8bcac-51f0-4f0a-94bf-60e56ef3672d"
      },
      "execution_count": 103,
      "outputs": [
        {
          "output_type": "stream",
          "name": "stdout",
          "text": [
            "(10, 30, 257, 32) 2\n"
          ]
        }
      ]
    },
    {
      "cell_type": "code",
      "source": [
        "dataset_test_chroma, y_test_chroma = chroma_extract(music_test, speech_test)\n",
        "print(dataset_test_chroma[0].shape, len(dataset_test_chroma))"
      ],
      "metadata": {
        "colab": {
          "base_uri": "https://localhost:8080/"
        },
        "id": "L1OMXkimCeED",
        "outputId": "bedf3328-eb9a-4d5c-f1fd-bdbb0b207bdd"
      },
      "execution_count": 104,
      "outputs": [
        {
          "output_type": "stream",
          "name": "stdout",
          "text": [
            "(10, 30, 12, 235) 2\n"
          ]
        }
      ]
    },
    {
      "cell_type": "markdown",
      "source": [
        "**TEST STFT FEATURES**"
      ],
      "metadata": {
        "id": "I46UyiOrN5pO"
      }
    },
    {
      "cell_type": "code",
      "source": [
        "X_TEST = reshape_dataset(dataset_test_stft)\n",
        "Y_TEST = reshape_y(y_test_stft)\n",
        "\n",
        "X_TEST.shape, Y_TEST.shape"
      ],
      "metadata": {
        "colab": {
          "base_uri": "https://localhost:8080/"
        },
        "id": "wMixjkRkNLSi",
        "outputId": "8a1bf409-e62c-4fc3-a103-296333629e3f"
      },
      "execution_count": 122,
      "outputs": [
        {
          "output_type": "execute_result",
          "data": {
            "text/plain": [
              "((600, 257, 32), (600,))"
            ]
          },
          "metadata": {},
          "execution_count": 122
        }
      ]
    },
    {
      "cell_type": "markdown",
      "source": [
        "**TEST CHROMA FEATURES**"
      ],
      "metadata": {
        "id": "8H5mrUf1N9a_"
      }
    },
    {
      "cell_type": "code",
      "source": [
        "X_TEST = reshape_dataset(dataset_test_chroma)\n",
        "Y_TEST = reshape_y(y_test_chroma)\n",
        "\n",
        "X_TEST.shape, Y_TEST.shape"
      ],
      "metadata": {
        "colab": {
          "base_uri": "https://localhost:8080/"
        },
        "id": "qaicHZ1XNLJE",
        "outputId": "16e89e2d-f1df-4b73-95f0-5146d91c4edf"
      },
      "execution_count": 113,
      "outputs": [
        {
          "output_type": "execute_result",
          "data": {
            "text/plain": [
              "((600, 12, 235), (600,))"
            ]
          },
          "metadata": {},
          "execution_count": 113
        }
      ]
    },
    {
      "cell_type": "markdown",
      "source": [
        "# **CNN MODEL**"
      ],
      "metadata": {
        "id": "3qRbuUHeTOfR"
      }
    },
    {
      "cell_type": "code",
      "source": [
        "import time\n",
        "from tensorflow.keras.models import Model\n",
        "from tensorflow.keras.layers import Input,Dense,Flatten,Dropout,Conv2D,MaxPool2D\n",
        "from tensorflow.keras.layers import BatchNormalization\n",
        "from tensorflow.keras.layers import MaxPooling2D\n",
        "from tensorflow.keras.models import Model\n",
        "from tensorflow.keras.optimizers import Adam\n",
        "from tensorflow.keras import regularizers"
      ],
      "metadata": {
        "id": "gy2SNW6BL4WF"
      },
      "execution_count": 115,
      "outputs": []
    },
    {
      "cell_type": "code",
      "source": [
        "batch_size = 32\n",
        "epochs = 50\n",
        "inp = Input(shape =(257, 32, 1))\n",
        "out_dim = 2"
      ],
      "metadata": {
        "id": "T5aUxJRuTaHU"
      },
      "execution_count": 123,
      "outputs": []
    },
    {
      "cell_type": "code",
      "source": [
        "start = time.time()\n",
        "\n",
        "x = Conv2D(32, 3, activation='relu')(inp)\n",
        "x = BatchNormalization()(x)\n",
        "x = MaxPooling2D(pool_size=(2, 2))(x)\n",
        "x = Dropout(0.30)(x)\n",
        "\n",
        "x = Conv2D(64, 3, activation='relu')(x)\n",
        "x = BatchNormalization()(x)\n",
        "x = MaxPooling2D(pool_size=(2, 2))(x)\n",
        "x = Dropout(0.30)(x)\n",
        "\n",
        "x = Flatten()(x)\n",
        "x = Dense(100, activation='relu')(x)\n",
        "x = Dropout(0.30)(x)\n",
        "\n",
        "x = Dense(out_dim, activation='softmax')(x)"
      ],
      "metadata": {
        "id": "YQTtwAudTi5g"
      },
      "execution_count": 124,
      "outputs": []
    },
    {
      "cell_type": "code",
      "source": [
        "x_train = X_TRAIN\n",
        "y_train = Y_TRAIN"
      ],
      "metadata": {
        "id": "0-2XtZBXT7wH"
      },
      "execution_count": 125,
      "outputs": []
    },
    {
      "cell_type": "code",
      "source": [
        "classify = Model(inputs = inp, outputs = x)\n",
        "classify.compile(loss='SparseCategoricalCrossentropy', optimizer = 'adam', metrics='accuracy') \n",
        "#classify.summary()\n",
        "classify_train = classify.fit(x_train,y_train, epochs = epochs ,batch_size=batch_size)\n",
        "end = time.time()\n",
        "print(\"time taken\",time)"
      ],
      "metadata": {
        "colab": {
          "base_uri": "https://localhost:8080/"
        },
        "id": "Vvca_2TrTroW",
        "outputId": "fd2f6445-8666-4825-b743-f17a00a7a2b6"
      },
      "execution_count": 126,
      "outputs": [
        {
          "output_type": "stream",
          "name": "stdout",
          "text": [
            "Epoch 1/50\n",
            "94/94 [==============================] - 41s 427ms/step - loss: 0.6503 - accuracy: 0.8630\n",
            "Epoch 2/50\n",
            "94/94 [==============================] - 40s 428ms/step - loss: 0.1295 - accuracy: 0.9523\n",
            "Epoch 3/50\n",
            "94/94 [==============================] - 40s 430ms/step - loss: 0.0829 - accuracy: 0.9707\n",
            "Epoch 4/50\n",
            "94/94 [==============================] - 40s 428ms/step - loss: 0.0547 - accuracy: 0.9843\n",
            "Epoch 5/50\n",
            "94/94 [==============================] - 40s 427ms/step - loss: 0.0651 - accuracy: 0.9810\n",
            "Epoch 6/50\n",
            "94/94 [==============================] - 40s 429ms/step - loss: 0.0449 - accuracy: 0.9857\n",
            "Epoch 7/50\n",
            "94/94 [==============================] - 41s 432ms/step - loss: 0.0356 - accuracy: 0.9907\n",
            "Epoch 8/50\n",
            "94/94 [==============================] - 41s 431ms/step - loss: 0.0269 - accuracy: 0.9900\n",
            "Epoch 9/50\n",
            "94/94 [==============================] - 40s 430ms/step - loss: 0.0282 - accuracy: 0.9917\n",
            "Epoch 10/50\n",
            "94/94 [==============================] - 40s 431ms/step - loss: 0.0238 - accuracy: 0.9920\n",
            "Epoch 11/50\n",
            "94/94 [==============================] - 40s 430ms/step - loss: 0.0285 - accuracy: 0.9917\n",
            "Epoch 12/50\n",
            "94/94 [==============================] - 40s 429ms/step - loss: 0.0692 - accuracy: 0.9847\n",
            "Epoch 13/50\n",
            "94/94 [==============================] - 40s 429ms/step - loss: 0.0506 - accuracy: 0.9873\n",
            "Epoch 14/50\n",
            "94/94 [==============================] - 40s 427ms/step - loss: 0.0343 - accuracy: 0.9913\n",
            "Epoch 15/50\n",
            "94/94 [==============================] - 40s 428ms/step - loss: 0.0225 - accuracy: 0.9930\n",
            "Epoch 16/50\n",
            "94/94 [==============================] - 40s 426ms/step - loss: 0.0114 - accuracy: 0.9970\n",
            "Epoch 17/50\n",
            "94/94 [==============================] - 40s 426ms/step - loss: 0.0136 - accuracy: 0.9960\n",
            "Epoch 18/50\n",
            "94/94 [==============================] - 40s 427ms/step - loss: 0.0139 - accuracy: 0.9953\n",
            "Epoch 19/50\n",
            "94/94 [==============================] - 40s 428ms/step - loss: 0.0117 - accuracy: 0.9950\n",
            "Epoch 20/50\n",
            "94/94 [==============================] - 40s 427ms/step - loss: 0.0102 - accuracy: 0.9967\n",
            "Epoch 21/50\n",
            "94/94 [==============================] - 40s 430ms/step - loss: 0.0096 - accuracy: 0.9987\n",
            "Epoch 22/50\n",
            "94/94 [==============================] - 40s 431ms/step - loss: 0.0063 - accuracy: 0.9987\n",
            "Epoch 23/50\n",
            "94/94 [==============================] - 41s 433ms/step - loss: 0.0147 - accuracy: 0.9967\n",
            "Epoch 24/50\n",
            "94/94 [==============================] - 41s 433ms/step - loss: 0.0163 - accuracy: 0.9957\n",
            "Epoch 25/50\n",
            "94/94 [==============================] - 41s 434ms/step - loss: 0.0095 - accuracy: 0.9963\n",
            "Epoch 26/50\n",
            "94/94 [==============================] - 41s 434ms/step - loss: 0.0555 - accuracy: 0.9873\n",
            "Epoch 27/50\n",
            "94/94 [==============================] - 41s 434ms/step - loss: 0.0108 - accuracy: 0.9967\n",
            "Epoch 28/50\n",
            "94/94 [==============================] - 40s 430ms/step - loss: 0.0269 - accuracy: 0.9927\n",
            "Epoch 29/50\n",
            "94/94 [==============================] - 41s 431ms/step - loss: 0.0078 - accuracy: 0.9963\n",
            "Epoch 30/50\n",
            "94/94 [==============================] - 41s 431ms/step - loss: 0.0123 - accuracy: 0.9960\n",
            "Epoch 31/50\n",
            "94/94 [==============================] - 41s 432ms/step - loss: 0.0124 - accuracy: 0.9960\n",
            "Epoch 32/50\n",
            "94/94 [==============================] - 41s 431ms/step - loss: 0.0124 - accuracy: 0.9963\n",
            "Epoch 33/50\n",
            "94/94 [==============================] - 40s 430ms/step - loss: 0.0100 - accuracy: 0.9973\n",
            "Epoch 34/50\n",
            "94/94 [==============================] - 40s 429ms/step - loss: 0.0049 - accuracy: 0.9973\n",
            "Epoch 35/50\n",
            "94/94 [==============================] - 40s 430ms/step - loss: 0.0137 - accuracy: 0.9950\n",
            "Epoch 36/50\n",
            "94/94 [==============================] - 40s 431ms/step - loss: 0.0101 - accuracy: 0.9973\n",
            "Epoch 37/50\n",
            "94/94 [==============================] - 40s 430ms/step - loss: 0.0111 - accuracy: 0.9970\n",
            "Epoch 38/50\n",
            "94/94 [==============================] - 40s 428ms/step - loss: 0.0107 - accuracy: 0.9967\n",
            "Epoch 39/50\n",
            "94/94 [==============================] - 41s 431ms/step - loss: 0.0074 - accuracy: 0.9980\n",
            "Epoch 40/50\n",
            "94/94 [==============================] - 40s 429ms/step - loss: 0.0266 - accuracy: 0.9953\n",
            "Epoch 41/50\n",
            "94/94 [==============================] - 41s 433ms/step - loss: 0.0278 - accuracy: 0.9950\n",
            "Epoch 42/50\n",
            "94/94 [==============================] - 41s 431ms/step - loss: 0.0203 - accuracy: 0.9950\n",
            "Epoch 43/50\n",
            "94/94 [==============================] - 40s 429ms/step - loss: 0.0137 - accuracy: 0.9967\n",
            "Epoch 44/50\n",
            "94/94 [==============================] - 41s 432ms/step - loss: 0.0136 - accuracy: 0.9950\n",
            "Epoch 45/50\n",
            "94/94 [==============================] - 41s 432ms/step - loss: 0.0202 - accuracy: 0.9957\n",
            "Epoch 46/50\n",
            "94/94 [==============================] - 40s 428ms/step - loss: 0.0105 - accuracy: 0.9967\n",
            "Epoch 47/50\n",
            "94/94 [==============================] - 41s 432ms/step - loss: 0.0115 - accuracy: 0.9963\n",
            "Epoch 48/50\n",
            "94/94 [==============================] - 41s 432ms/step - loss: 0.0480 - accuracy: 0.9923\n",
            "Epoch 49/50\n",
            "94/94 [==============================] - 41s 432ms/step - loss: 0.0345 - accuracy: 0.9937\n",
            "Epoch 50/50\n",
            "94/94 [==============================] - 41s 432ms/step - loss: 0.0185 - accuracy: 0.9957\n",
            "time taken <module 'time' (built-in)>\n"
          ]
        }
      ]
    },
    {
      "cell_type": "code",
      "source": [
        "test_eval = classify.evaluate(X_TEST,  Y_TEST, verbose=0)\n",
        "print('Test', test_eval)"
      ],
      "metadata": {
        "colab": {
          "base_uri": "https://localhost:8080/"
        },
        "id": "boyx0OVdUXHD",
        "outputId": "7056e02a-ad81-401f-8fb3-89e231e27a2d"
      },
      "execution_count": 127,
      "outputs": [
        {
          "output_type": "stream",
          "name": "stdout",
          "text": [
            "Test [0.2637518644332886, 0.95333331823349]\n"
          ]
        }
      ]
    },
    {
      "cell_type": "code",
      "source": [
        "plt.plot(classify_train.history['accuracy'])\n",
        "plt.legend(['training'], loc = 'upper left')\n",
        "plt.show()"
      ],
      "metadata": {
        "colab": {
          "base_uri": "https://localhost:8080/",
          "height": 265
        },
        "id": "sEGEu_Y02orh",
        "outputId": "696f2ddf-234a-4336-dba8-a01d87d0e11b"
      },
      "execution_count": 128,
      "outputs": [
        {
          "output_type": "display_data",
          "data": {
            "text/plain": [
              "<Figure size 432x288 with 1 Axes>"
            ],
            "image/png": "[encoded data removed]"
          },
          "metadata": {
            "needs_background": "light"
          }
        }
      ]
    },
    {
      "cell_type": "code",
      "source": [
        "plt.plot(classify_train.history['loss'])\n",
        "plt.legend(['training'], loc = 'upper left')\n",
        "plt.show()"
      ],
      "metadata": {
        "colab": {
          "base_uri": "https://localhost:8080/",
          "height": 265
        },
        "id": "ZsGdeyh12x8h",
        "outputId": "ba0b01ed-adba-4d69-dd30-568b4c0b1764"
      },
      "execution_count": 129,
      "outputs": [
        {
          "output_type": "display_data",
          "data": {
            "text/plain": [
              "<Figure size 432x288 with 1 Axes>"
            ],
            "image/png": "[encoded data removed]"
          },
          "metadata": {
            "needs_background": "light"
          }
        }
      ]
    },
    {
      "cell_type": "code",
      "source": [
        "predictions = classify.predict(X_TEST, verbose=1)\n",
        "result = np.argmax(predictions, axis=1)\n",
        "result"
      ],
      "metadata": {
        "colab": {
          "base_uri": "https://localhost:8080/"
        },
        "id": "qKz874BJ2_gO",
        "outputId": "46e7cf0c-afa5-480c-9c3e-f1a789ba53a8"
      },
      "execution_count": 130,
      "outputs": [
        {
          "output_type": "stream",
          "name": "stdout",
          "text": [
            "19/19 [==============================] - 2s 92ms/step\n"
          ]
        },
        {
          "output_type": "execute_result",
          "data": {
            "text/plain": [
              "array([0, 1, 0, 0, 0, 0, 1, 0, 0, 0, 0, 0, 0, 0, 0, 0, 1, 0, 0, 1, 1, 0,\n",
              "       0, 0, 0, 0, 0, 0, 0, 0, 0, 0, 1, 0, 0, 0, 0, 0, 0, 0, 0, 0, 0, 0,\n",
              "       0, 0, 0, 0, 0, 0, 1, 0, 0, 0, 0, 0, 0, 0, 0, 0, 1, 0, 0, 1, 0, 0,\n",
              "       0, 0, 1, 0, 0, 0, 0, 0, 0, 0, 0, 0, 0, 0, 0, 0, 1, 0, 1, 0, 1, 0,\n",
              "       0, 0, 0, 0, 0, 0, 0, 0, 0, 0, 0, 0, 0, 0, 0, 1, 0, 1, 1, 1, 1, 0,\n",
              "       1, 1, 0, 0, 0, 0, 0, 0, 0, 0, 0, 0, 0, 0, 0, 0, 0, 0, 0, 0, 0, 0,\n",
              "       0, 0, 0, 0, 0, 0, 0, 0, 0, 0, 0, 0, 0, 0, 0, 0, 0, 0, 0, 0, 0, 0,\n",
              "       0, 0, 0, 0, 0, 0, 0, 0, 0, 0, 1, 1, 0, 0, 0, 0, 0, 0, 0, 0, 0, 0,\n",
              "       0, 0, 0, 0, 0, 0, 0, 0, 0, 0, 0, 0, 0, 0, 0, 0, 0, 0, 0, 0, 0, 0,\n",
              "       0, 0, 0, 0, 0, 0, 0, 0, 0, 0, 0, 0, 0, 0, 0, 0, 0, 0, 0, 0, 0, 0,\n",
              "       0, 0, 0, 0, 0, 0, 0, 0, 0, 0, 0, 1, 1, 0, 0, 1, 0, 0, 0, 0, 0, 0,\n",
              "       0, 0, 0, 0, 0, 0, 0, 0, 0, 0, 0, 0, 0, 0, 0, 0, 0, 0, 0, 0, 0, 0,\n",
              "       0, 0, 0, 0, 0, 0, 0, 0, 0, 0, 0, 0, 0, 0, 0, 0, 0, 0, 0, 0, 0, 0,\n",
              "       0, 0, 0, 0, 0, 0, 0, 0, 0, 0, 0, 0, 0, 0, 1, 1, 1, 1, 1, 1, 1, 1,\n",
              "       1, 1, 1, 1, 1, 1, 1, 1, 1, 1, 1, 1, 1, 1, 1, 1, 1, 1, 1, 1, 1, 1,\n",
              "       1, 1, 1, 1, 1, 1, 1, 1, 1, 1, 0, 1, 1, 1, 1, 1, 1, 1, 1, 1, 1, 1,\n",
              "       1, 1, 1, 1, 1, 1, 1, 1, 1, 1, 1, 1, 1, 1, 1, 1, 1, 1, 1, 1, 1, 1,\n",
              "       1, 1, 1, 1, 1, 1, 1, 1, 1, 1, 1, 1, 1, 1, 1, 1, 1, 1, 1, 1, 1, 1,\n",
              "       1, 1, 1, 1, 1, 1, 1, 1, 1, 1, 1, 1, 1, 1, 1, 1, 1, 1, 1, 1, 1, 1,\n",
              "       1, 1, 1, 1, 1, 1, 1, 1, 1, 1, 1, 1, 1, 1, 1, 1, 1, 1, 1, 1, 1, 1,\n",
              "       1, 1, 1, 1, 1, 1, 1, 1, 1, 1, 1, 1, 1, 1, 1, 1, 1, 1, 1, 0, 1, 1,\n",
              "       1, 1, 1, 1, 1, 1, 1, 1, 1, 1, 1, 1, 1, 1, 1, 1, 1, 1, 1, 1, 1, 1,\n",
              "       1, 1, 1, 1, 1, 1, 1, 0, 1, 1, 1, 1, 1, 1, 1, 1, 1, 1, 1, 1, 1, 1,\n",
              "       1, 1, 1, 1, 1, 1, 1, 1, 1, 1, 1, 1, 1, 1, 1, 1, 1, 1, 1, 1, 1, 1,\n",
              "       1, 1, 1, 1, 1, 1, 1, 1, 1, 1, 1, 1, 1, 1, 1, 1, 1, 1, 1, 1, 1, 1,\n",
              "       1, 1, 1, 1, 1, 1, 1, 1, 1, 1, 1, 1, 1, 1, 1, 1, 1, 1, 1, 1, 1, 1,\n",
              "       1, 1, 1, 1, 1, 1, 1, 1, 1, 1, 1, 1, 1, 1, 1, 1, 1, 1, 1, 1, 1, 1,\n",
              "       1, 1, 1, 1, 1, 1])"
            ]
          },
          "metadata": {},
          "execution_count": 130
        }
      ]
    },
    {
      "cell_type": "code",
      "source": [
        "cm = tf.math.confusion_matrix(Y_TEST, result)\n",
        "cm"
      ],
      "metadata": {
        "colab": {
          "base_uri": "https://localhost:8080/"
        },
        "id": "EcurZS3AZqkg",
        "outputId": "c7b95b0d-66f4-47d3-9471-85aaedfd1f6d"
      },
      "execution_count": 131,
      "outputs": [
        {
          "output_type": "execute_result",
          "data": {
            "text/plain": [
              "<tf.Tensor: shape=(2, 2), dtype=int32, numpy=\n",
              "array([[275,  25],\n",
              "       [  3, 297]], dtype=int32)>"
            ]
          },
          "metadata": {},
          "execution_count": 131
        }
      ]
    },
    {
      "cell_type": "markdown",
      "source": [
        "# **TEST ON AIR DATA**"
      ],
      "metadata": {
        "id": "FkuSgclF3znK"
      }
    },
    {
      "cell_type": "code",
      "source": [
        "sample_audio, sr  = lb.load('/drive/My Drive/Projects/Music-Speech-Separation/kannada.wav', sr=8000, mono=True)\n",
        "sample_audio, sr"
      ],
      "metadata": {
        "colab": {
          "base_uri": "https://localhost:8080/"
        },
        "id": "r3JFYT9C3W5P",
        "outputId": "fbb6dd66-e77a-428f-dc0e-de2133c46a17"
      },
      "execution_count": 162,
      "outputs": [
        {
          "output_type": "execute_result",
          "data": {
            "text/plain": [
              "(array([0.        , 0.        , 0.        , ..., 0.11099157, 0.09802414,\n",
              "        0.        ], dtype=float32), 8000)"
            ]
          },
          "metadata": {},
          "execution_count": 162
        }
      ]
    },
    {
      "cell_type": "code",
      "source": [
        "chunks_sample = np.array(createchunks(sample_audio))\n",
        "spect_sample = []\n",
        "for i in chunks_sample:\n",
        "  spect_sample.append(np.abs(lb.stft(i,n_fft=512))) #window length = nfft and hop length = win length //4\n",
        "\n",
        "spect_sample = np.array(spect_sample)\n",
        "spect_sample.shape"
      ],
      "metadata": {
        "colab": {
          "base_uri": "https://localhost:8080/"
        },
        "id": "sCh6bPKV4rzW",
        "outputId": "17259629-d223-4a2b-d74a-b1f50a3e3bef"
      },
      "execution_count": 163,
      "outputs": [
        {
          "output_type": "execute_result",
          "data": {
            "text/plain": [
              "(629, 257, 32)"
            ]
          },
          "metadata": {},
          "execution_count": 163
        }
      ]
    },
    {
      "cell_type": "code",
      "source": [
        "res = classify.predict(spect_sample)\n",
        "res = np.argmax(res, axis=1)\n",
        "res"
      ],
      "metadata": {
        "colab": {
          "base_uri": "https://localhost:8080/"
        },
        "id": "E5AKDW716Nx3",
        "outputId": "af4a4d96-1481-47c8-f7c0-fefddf049336"
      },
      "execution_count": 164,
      "outputs": [
        {
          "output_type": "execute_result",
          "data": {
            "text/plain": [
              "array([1, 0, 0, 0, 0, 0, 0, 0, 0, 0, 0, 0, 0, 0, 0, 0, 0, 0, 0, 0, 0, 0,\n",
              "       0, 0, 0, 0, 1, 1, 1, 1, 1, 1, 1, 1, 1, 1, 1, 1, 1, 1, 1, 1, 1, 1,\n",
              "       1, 1, 1, 1, 1, 1, 1, 1, 1, 1, 1, 1, 1, 1, 1, 1, 1, 1, 1, 1, 1, 1,\n",
              "       1, 1, 1, 1, 1, 1, 1, 1, 1, 1, 1, 1, 1, 1, 1, 1, 1, 1, 1, 1, 1, 1,\n",
              "       1, 1, 1, 1, 1, 1, 1, 1, 1, 1, 1, 1, 1, 1, 1, 1, 1, 1, 1, 1, 1, 1,\n",
              "       1, 1, 1, 1, 1, 1, 1, 1, 1, 1, 1, 1, 1, 1, 1, 1, 1, 1, 1, 1, 1, 1,\n",
              "       1, 1, 1, 1, 1, 1, 1, 1, 1, 1, 1, 1, 1, 1, 1, 1, 1, 1, 1, 1, 1, 1,\n",
              "       1, 1, 1, 1, 1, 1, 1, 1, 1, 1, 1, 1, 1, 1, 1, 1, 1, 1, 1, 1, 1, 1,\n",
              "       1, 1, 1, 1, 1, 1, 1, 1, 1, 1, 1, 1, 1, 1, 1, 1, 1, 1, 1, 1, 1, 1,\n",
              "       1, 1, 1, 1, 1, 1, 1, 1, 1, 1, 1, 1, 1, 1, 1, 1, 1, 1, 1, 1, 1, 1,\n",
              "       1, 1, 1, 1, 1, 1, 1, 1, 1, 1, 1, 1, 1, 1, 1, 1, 1, 1, 1, 1, 1, 1,\n",
              "       1, 1, 1, 1, 1, 1, 1, 1, 1, 1, 1, 1, 1, 1, 1, 1, 1, 1, 1, 1, 1, 1,\n",
              "       1, 1, 1, 1, 1, 1, 1, 1, 1, 1, 1, 1, 1, 1, 1, 1, 1, 1, 1, 1, 1, 1,\n",
              "       1, 1, 1, 1, 1, 1, 1, 1, 1, 1, 1, 1, 1, 1, 1, 1, 1, 1, 1, 1, 1, 1,\n",
              "       1, 1, 1, 1, 1, 1, 1, 1, 1, 1, 1, 1, 1, 1, 1, 1, 1, 1, 1, 1, 1, 1,\n",
              "       1, 1, 1, 1, 1, 1, 1, 1, 1, 1, 1, 1, 1, 1, 1, 1, 1, 1, 1, 1, 1, 1,\n",
              "       1, 1, 1, 1, 1, 1, 1, 1, 1, 1, 1, 1, 1, 1, 1, 1, 1, 1, 1, 1, 1, 1,\n",
              "       1, 1, 1, 1, 1, 1, 1, 1, 1, 1, 1, 1, 1, 1, 1, 1, 1, 1, 1, 1, 1, 1,\n",
              "       1, 1, 1, 1, 1, 1, 1, 1, 1, 1, 1, 1, 1, 1, 1, 1, 1, 1, 1, 1, 1, 1,\n",
              "       1, 1, 1, 1, 1, 1, 1, 1, 1, 1, 1, 1, 1, 1, 1, 1, 1, 1, 1, 1, 1, 1,\n",
              "       1, 1, 1, 1, 1, 1, 1, 1, 1, 1, 1, 1, 1, 1, 1, 1, 1, 1, 1, 1, 1, 1,\n",
              "       1, 1, 1, 1, 1, 1, 1, 1, 1, 1, 1, 1, 1, 1, 1, 1, 1, 1, 1, 1, 1, 1,\n",
              "       1, 1, 1, 1, 1, 1, 1, 1, 1, 1, 1, 1, 1, 1, 1, 1, 1, 1, 1, 1, 1, 1,\n",
              "       1, 1, 1, 1, 1, 1, 1, 1, 1, 1, 1, 1, 1, 1, 1, 1, 1, 1, 1, 1, 1, 1,\n",
              "       1, 1, 1, 1, 1, 1, 1, 1, 1, 1, 1, 1, 1, 1, 1, 1, 1, 1, 1, 1, 1, 1,\n",
              "       1, 1, 1, 1, 1, 1, 1, 1, 1, 1, 1, 1, 1, 1, 1, 1, 1, 1, 1, 1, 1, 1,\n",
              "       1, 1, 1, 1, 1, 1, 1, 1, 1, 1, 1, 1, 1, 1, 1, 1, 1, 1, 1, 1, 1, 1,\n",
              "       1, 1, 1, 1, 1, 1, 1, 1, 1, 1, 1, 0, 0, 0, 0, 0, 0, 0, 0, 0, 0, 0,\n",
              "       0, 0, 0, 0, 0, 0, 0, 0, 0, 0, 0, 0, 0])"
            ]
          },
          "metadata": {},
          "execution_count": 164
        }
      ]
    },
    {
      "cell_type": "code",
      "source": [
        "len(res)"
      ],
      "metadata": {
        "colab": {
          "base_uri": "https://localhost:8080/"
        },
        "id": "ul5Nek3G6VDG",
        "outputId": "b99a18e5-9677-41c3-dd8a-489f92a42853"
      },
      "execution_count": 165,
      "outputs": [
        {
          "output_type": "execute_result",
          "data": {
            "text/plain": [
              "629"
            ]
          },
          "metadata": {},
          "execution_count": 165
        }
      ]
    },
    {
      "cell_type": "markdown",
      "source": [
        "### **DELETING MUSIC FROM SPEECH**"
      ],
      "metadata": {
        "id": "T9IUIT3t8W4_"
      }
    },
    {
      "cell_type": "code",
      "source": [
        "seconds = 0\n",
        "time_split = []\n",
        "for i in range(len(res)):\n",
        "  seconds += 0.5\n",
        "  if res[i] == 1:\n",
        "    time_split.append(seconds)\n",
        "\n",
        "print(time_split)"
      ],
      "metadata": {
        "colab": {
          "base_uri": "https://localhost:8080/"
        },
        "id": "r_mCm6d_8dya",
        "outputId": "ea5b1852-896d-4313-8ba0-66beb99d26e8"
      },
      "execution_count": 180,
      "outputs": [
        {
          "output_type": "stream",
          "name": "stdout",
          "text": [
            "[0.5, 13.5, 14.0, 14.5, 15.0, 15.5, 16.0, 16.5, 17.0, 17.5, 18.0, 18.5, 19.0, 19.5, 20.0, 20.5, 21.0, 21.5, 22.0, 22.5, 23.0, 23.5, 24.0, 24.5, 25.0, 25.5, 26.0, 26.5, 27.0, 27.5, 28.0, 28.5, 29.0, 29.5, 30.0, 30.5, 31.0, 31.5, 32.0, 32.5, 33.0, 33.5, 34.0, 34.5, 35.0, 35.5, 36.0, 36.5, 37.0, 37.5, 38.0, 38.5, 39.0, 39.5, 40.0, 40.5, 41.0, 41.5, 42.0, 42.5, 43.0, 43.5, 44.0, 44.5, 45.0, 45.5, 46.0, 46.5, 47.0, 47.5, 48.0, 48.5, 49.0, 49.5, 50.0, 50.5, 51.0, 51.5, 52.0, 52.5, 53.0, 53.5, 54.0, 54.5, 55.0, 55.5, 56.0, 56.5, 57.0, 57.5, 58.0, 58.5, 59.0, 59.5, 60.0, 60.5, 61.0, 61.5, 62.0, 62.5, 63.0, 63.5, 64.0, 64.5, 65.0, 65.5, 66.0, 66.5, 67.0, 67.5, 68.0, 68.5, 69.0, 69.5, 70.0, 70.5, 71.0, 71.5, 72.0, 72.5, 73.0, 73.5, 74.0, 74.5, 75.0, 75.5, 76.0, 76.5, 77.0, 77.5, 78.0, 78.5, 79.0, 79.5, 80.0, 80.5, 81.0, 81.5, 82.0, 82.5, 83.0, 83.5, 84.0, 84.5, 85.0, 85.5, 86.0, 86.5, 87.0, 87.5, 88.0, 88.5, 89.0, 89.5, 90.0, 90.5, 91.0, 91.5, 92.0, 92.5, 93.0, 93.5, 94.0, 94.5, 95.0, 95.5, 96.0, 96.5, 97.0, 97.5, 98.0, 98.5, 99.0, 99.5, 100.0, 100.5, 101.0, 101.5, 102.0, 102.5, 103.0, 103.5, 104.0, 104.5, 105.0, 105.5, 106.0, 106.5, 107.0, 107.5, 108.0, 108.5, 109.0, 109.5, 110.0, 110.5, 111.0, 111.5, 112.0, 112.5, 113.0, 113.5, 114.0, 114.5, 115.0, 115.5, 116.0, 116.5, 117.0, 117.5, 118.0, 118.5, 119.0, 119.5, 120.0, 120.5, 121.0, 121.5, 122.0, 122.5, 123.0, 123.5, 124.0, 124.5, 125.0, 125.5, 126.0, 126.5, 127.0, 127.5, 128.0, 128.5, 129.0, 129.5, 130.0, 130.5, 131.0, 131.5, 132.0, 132.5, 133.0, 133.5, 134.0, 134.5, 135.0, 135.5, 136.0, 136.5, 137.0, 137.5, 138.0, 138.5, 139.0, 139.5, 140.0, 140.5, 141.0, 141.5, 142.0, 142.5, 143.0, 143.5, 144.0, 144.5, 145.0, 145.5, 146.0, 146.5, 147.0, 147.5, 148.0, 148.5, 149.0, 149.5, 150.0, 150.5, 151.0, 151.5, 152.0, 152.5, 153.0, 153.5, 154.0, 154.5, 155.0, 155.5, 156.0, 156.5, 157.0, 157.5, 158.0, 158.5, 159.0, 159.5, 160.0, 160.5, 161.0, 161.5, 162.0, 162.5, 163.0, 163.5, 164.0, 164.5, 165.0, 165.5, 166.0, 166.5, 167.0, 167.5, 168.0, 168.5, 169.0, 169.5, 170.0, 170.5, 171.0, 171.5, 172.0, 172.5, 173.0, 173.5, 174.0, 174.5, 175.0, 175.5, 176.0, 176.5, 177.0, 177.5, 178.0, 178.5, 179.0, 179.5, 180.0, 180.5, 181.0, 181.5, 182.0, 182.5, 183.0, 183.5, 184.0, 184.5, 185.0, 185.5, 186.0, 186.5, 187.0, 187.5, 188.0, 188.5, 189.0, 189.5, 190.0, 190.5, 191.0, 191.5, 192.0, 192.5, 193.0, 193.5, 194.0, 194.5, 195.0, 195.5, 196.0, 196.5, 197.0, 197.5, 198.0, 198.5, 199.0, 199.5, 200.0, 200.5, 201.0, 201.5, 202.0, 202.5, 203.0, 203.5, 204.0, 204.5, 205.0, 205.5, 206.0, 206.5, 207.0, 207.5, 208.0, 208.5, 209.0, 209.5, 210.0, 210.5, 211.0, 211.5, 212.0, 212.5, 213.0, 213.5, 214.0, 214.5, 215.0, 215.5, 216.0, 216.5, 217.0, 217.5, 218.0, 218.5, 219.0, 219.5, 220.0, 220.5, 221.0, 221.5, 222.0, 222.5, 223.0, 223.5, 224.0, 224.5, 225.0, 225.5, 226.0, 226.5, 227.0, 227.5, 228.0, 228.5, 229.0, 229.5, 230.0, 230.5, 231.0, 231.5, 232.0, 232.5, 233.0, 233.5, 234.0, 234.5, 235.0, 235.5, 236.0, 236.5, 237.0, 237.5, 238.0, 238.5, 239.0, 239.5, 240.0, 240.5, 241.0, 241.5, 242.0, 242.5, 243.0, 243.5, 244.0, 244.5, 245.0, 245.5, 246.0, 246.5, 247.0, 247.5, 248.0, 248.5, 249.0, 249.5, 250.0, 250.5, 251.0, 251.5, 252.0, 252.5, 253.0, 253.5, 254.0, 254.5, 255.0, 255.5, 256.0, 256.5, 257.0, 257.5, 258.0, 258.5, 259.0, 259.5, 260.0, 260.5, 261.0, 261.5, 262.0, 262.5, 263.0, 263.5, 264.0, 264.5, 265.0, 265.5, 266.0, 266.5, 267.0, 267.5, 268.0, 268.5, 269.0, 269.5, 270.0, 270.5, 271.0, 271.5, 272.0, 272.5, 273.0, 273.5, 274.0, 274.5, 275.0, 275.5, 276.0, 276.5, 277.0, 277.5, 278.0, 278.5, 279.0, 279.5, 280.0, 280.5, 281.0, 281.5, 282.0, 282.5, 283.0, 283.5, 284.0, 284.5, 285.0, 285.5, 286.0, 286.5, 287.0, 287.5, 288.0, 288.5, 289.0, 289.5, 290.0, 290.5, 291.0, 291.5, 292.0, 292.5, 293.0, 293.5, 294.0, 294.5, 295.0, 295.5, 296.0, 296.5, 297.0, 297.5, 298.0, 298.5, 299.0, 299.5, 300.0, 300.5, 301.0, 301.5, 302.0, 302.5]\n"
          ]
        }
      ]
    },
    {
      "cell_type": "code",
      "source": [
        "time_index = []\n",
        "time_index.append(time_split[0])\n",
        "for i in range(len(time_split)-1):\n",
        "  if time_split[i+1] != time_split[i]+0.5:\n",
        "    time_index.append(time_split[i])\n",
        "    time_index.append(time_split[i+1])\n",
        "\n",
        "time_index.append(time_split[-1])\n",
        "time_index"
      ],
      "metadata": {
        "colab": {
          "base_uri": "https://localhost:8080/"
        },
        "id": "Zaeb0O3DLFEf",
        "outputId": "bae53e8e-422e-404a-e5a0-e9b40ec560c8"
      },
      "execution_count": 181,
      "outputs": [
        {
          "output_type": "execute_result",
          "data": {
            "text/plain": [
              "[0.5, 0.5, 13.5, 302.5]"
            ]
          },
          "metadata": {},
          "execution_count": 181
        }
      ]
    },
    {
      "cell_type": "code",
      "source": [
        "time_tuple = []\n",
        "for i in range(0, len(time_index)-1, 2):\n",
        "  if time_index[i] != 0 and time_index[i] != 0.5:\n",
        "    time_tuple.append(((time_index[i])*1000, (time_index[i+1])*1000)) #converting into msec\n",
        "  else:\n",
        "    time_tuple.append(((time_index[i])*1000, (time_index[i+1])*1000))\n",
        "\n",
        "time_tuple"
      ],
      "metadata": {
        "colab": {
          "base_uri": "https://localhost:8080/"
        },
        "id": "NEAiq2P8IDj-",
        "outputId": "769a9fe9-2671-4ff7-aae5-07f715b62b69"
      },
      "execution_count": 187,
      "outputs": [
        {
          "output_type": "execute_result",
          "data": {
            "text/plain": [
              "[(500.0, 500.0), (13500.0, 302500.0)]"
            ]
          },
          "metadata": {},
          "execution_count": 187
        }
      ]
    },
    {
      "cell_type": "code",
      "source": [
        "seconds = [(500.0, 500.0), (13500.0, 302500.0)]"
      ],
      "metadata": {
        "id": "11TTNvBOMz3o"
      },
      "execution_count": 153,
      "outputs": []
    },
    {
      "cell_type": "code",
      "source": [
        "sample_audio = AudioSegment.from_file(\"/home/rajesh/Desktop/kannada.wav\", format=\"wav\")\n",
        "\n",
        "trimmed_audio = []\n",
        "for sec in seconds:\n",
        "    trimmed_audio.append(sample_audio[int(sec[0]):int(sec[1])])\n",
        "\n",
        "\n",
        "extracted = trimmed_audio[0]\n",
        "for i in range(1, len(trimmed_audio)):\n",
        "    extracted = extracted+trimmed_audio[i]\n",
        "\n",
        "\n",
        "extracted.export(\"/home/rajesh/Desktop/speechextractedkannada.wav\", format=\"wav\")\n",
        "\n"
      ],
      "metadata": {
        "id": "nCcW4KlJQF1N"
      },
      "execution_count": null,
      "outputs": []
    }
  ]
}