{
 "cells": [
  {
   "cell_type": "markdown",
   "id": "22a58e63",
   "metadata": {},
   "source": [
    "# Neural Network for Music Speech Separation"
   ]
  },
  {
   "cell_type": "code",
   "execution_count": 2,
   "id": "3b25b758",
   "metadata": {},
   "outputs": [],
   "source": [
    "import tensorflow as tf"
   ]
  },
  {
   "cell_type": "code",
   "execution_count": 3,
   "id": "fa494b44",
   "metadata": {},
   "outputs": [],
   "source": [
    "from tensorflow import keras"
   ]
  },
  {
   "cell_type": "code",
   "execution_count": 8,
   "id": "654d52f8",
   "metadata": {},
   "outputs": [],
   "source": [
    "import soundfile as sf\n",
    "import librosa as lb\n",
    "import numpy as np\n",
    "from matplotlib import pyplot as plt"
   ]
  },
  {
   "cell_type": "code",
   "execution_count": 9,
   "id": "f4140c67",
   "metadata": {},
   "outputs": [],
   "source": [
    "import os"
   ]
  },
  {
   "cell_type": "markdown",
   "id": "bb23d8c2",
   "metadata": {},
   "source": [
    "## Reading DataSet"
   ]
  },
  {
   "cell_type": "code",
   "execution_count": 14,
   "id": "53b8de2a",
   "metadata": {},
   "outputs": [
    {
     "data": {
      "text/plain": [
       "['Overlay', 'Mixture', 'speech', 'music']"
      ]
     },
     "execution_count": 14,
     "metadata": {},
     "output_type": "execute_result"
    }
   ],
   "source": [
    "path = \"/home/rajesh/MusicSpeechSeparartion/Dataset/\"\n",
    "\n",
    "folders = os.listdir(path)\n",
    "folders"
   ]
  },
  {
   "cell_type": "code",
   "execution_count": 23,
   "id": "fcc65247",
   "metadata": {},
   "outputs": [],
   "source": [
    "audiofiles, samplerates = [], []\n",
    "for folder in folders:\n",
    "    files = os.listdir(path+'/'+folder)\n",
    "    files = sorted(files)\n",
    "    audio, sr = [], []\n",
    "    for file in files:\n",
    "        data, samplerate = sf.read(path+'/'+folder+'/'+file)\n",
    "        audio.append(data)\n",
    "        sr.append(samplerate)\n",
    "    audiofiles.append(audio)\n",
    "    samplerates.append(sr)"
   ]
  },
  {
   "cell_type": "code",
   "execution_count": 29,
   "id": "ee6889b7",
   "metadata": {},
   "outputs": [],
   "source": [
    "overlay = np.array(audiofiles[0])\n",
    "mixture = np.array(audiofiles[1])\n",
    "speech = np.array(audiofiles[2])\n",
    "music = np.array(audiofiles[3])\n",
    "\n",
    "dataset = [overlay, mixture, speech, music]"
   ]
  },
  {
   "cell_type": "markdown",
   "id": "34e72e63",
   "metadata": {},
   "source": [
    "### Short Time Fourier Transform"
   ]
  },
  {
   "cell_type": "code",
   "execution_count": 40,
   "id": "ec58e0a3",
   "metadata": {},
   "outputs": [],
   "source": [
    "datasetstft = []\n",
    "for data in dataset:\n",
    "    spect = []\n",
    "    for audio in data:\n",
    "        stft = np.abs(lb.stft(audio))\n",
    "        spect.append(stft)\n",
    "    datasetstft.append(spect)"
   ]
  },
  {
   "cell_type": "code",
   "execution_count": 41,
   "id": "71e77a6d",
   "metadata": {},
   "outputs": [],
   "source": [
    "overlay_stft = np.array(datasetstft[0])\n",
    "mixture_stft = np.array(datasetstft[1])\n",
    "speech_stft = np.array(datasetstft[2])\n",
    "music_stft = np.array(datasetstft[3])\n",
    "\n",
    "dataset_stft = [overlay_stft, mixture_stft, speech_stft, music_stft]"
   ]
  },
  {
   "cell_type": "code",
   "execution_count": null,
   "id": "818bc20b",
   "metadata": {},
   "outputs": [],
   "source": []
  },
  {
   "cell_type": "code",
   "execution_count": null,
   "id": "09d680cb",
   "metadata": {},
   "outputs": [],
   "source": []
  },
  {
   "cell_type": "code",
   "execution_count": null,
   "id": "305ece6d",
   "metadata": {},
   "outputs": [],
   "source": []
  },
  {
   "cell_type": "code",
   "execution_count": null,
   "id": "071180b8",
   "metadata": {},
   "outputs": [],
   "source": []
  },
  {
   "cell_type": "code",
   "execution_count": null,
   "id": "0ed5900a",
   "metadata": {},
   "outputs": [],
   "source": []
  },
  {
   "cell_type": "code",
   "execution_count": 5,
   "id": "6772cb3c",
   "metadata": {},
   "outputs": [],
   "source": [
    "model = keras.Sequential([\n",
    "    keras.layers.Reshape(target_shape=(28 * 28,), input_shape=(28, 28)),\n",
    "    keras.layers.Dense(units=256, activation='relu'),\n",
    "    keras.layers.Dense(units=192, activation='relu'),\n",
    "    keras.layers.Dense(units=128, activation='relu'),\n",
    "    keras.layers.Dense(units=10, activation='softmax')\n",
    "])"
   ]
  },
  {
   "cell_type": "code",
   "execution_count": 6,
   "id": "d7575da4",
   "metadata": {},
   "outputs": [],
   "source": [
    "model.compile(optimizer='adam', \n",
    "              loss=tf.losses.CategoricalCrossentropy(from_logits=True),\n",
    "              metrics=['accuracy'])"
   ]
  },
  {
   "cell_type": "code",
   "execution_count": 7,
   "id": "8ffa179c",
   "metadata": {},
   "outputs": [
    {
     "ename": "NameError",
     "evalue": "name 'train_dataset' is not defined",
     "output_type": "error",
     "traceback": [
      "\u001b[0;31m---------------------------------------------------------------------------\u001b[0m",
      "\u001b[0;31mNameError\u001b[0m                                 Traceback (most recent call last)",
      "Input \u001b[0;32mIn [7]\u001b[0m, in \u001b[0;36m<cell line: 1>\u001b[0;34m()\u001b[0m\n\u001b[1;32m      1\u001b[0m history \u001b[38;5;241m=\u001b[39m model\u001b[38;5;241m.\u001b[39mfit(\n\u001b[0;32m----> 2\u001b[0m     \u001b[43mtrain_dataset\u001b[49m\u001b[38;5;241m.\u001b[39mrepeat(), \n\u001b[1;32m      3\u001b[0m     epochs\u001b[38;5;241m=\u001b[39m\u001b[38;5;241m10\u001b[39m, \n\u001b[1;32m      4\u001b[0m     steps_per_epoch\u001b[38;5;241m=\u001b[39m\u001b[38;5;241m500\u001b[39m,\n\u001b[1;32m      5\u001b[0m     validation_data\u001b[38;5;241m=\u001b[39mval_dataset\u001b[38;5;241m.\u001b[39mrepeat(), \n\u001b[1;32m      6\u001b[0m     validation_steps\u001b[38;5;241m=\u001b[39m\u001b[38;5;241m2\u001b[39m)\n",
      "\u001b[0;31mNameError\u001b[0m: name 'train_dataset' is not defined"
     ]
    }
   ],
   "source": [
    "history = model.fit(\n",
    "    train_dataset.repeat(), \n",
    "    epochs=10, \n",
    "    steps_per_epoch=500,\n",
    "    validation_data=val_dataset.repeat(), \n",
    "    validation_steps=2)"
   ]
  },
  {
   "cell_type": "code",
   "execution_count": null,
   "id": "69e0e542",
   "metadata": {},
   "outputs": [],
   "source": []
  }
 ],
 "metadata": {
  "kernelspec": {
   "display_name": "Python 3 (ipykernel)",
   "language": "python",
   "name": "python3"
  },
  "language_info": {
   "codemirror_mode": {
    "name": "ipython",
    "version": 3
   },
   "file_extension": ".py",
   "mimetype": "text/x-python",
   "name": "python",
   "nbconvert_exporter": "python",
   "pygments_lexer": "ipython3",
   "version": "3.10.4"
  }
 },
 "nbformat": 4,
 "nbformat_minor": 5
}
