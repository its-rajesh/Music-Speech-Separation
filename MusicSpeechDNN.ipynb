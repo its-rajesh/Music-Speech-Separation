{
 "cells": [
  {
   "cell_type": "markdown",
   "id": "22a58e63",
   "metadata": {},
   "source": [
    "# Neural Network for Music Speech Separation"
   ]
  },
  {
   "cell_type": "code",
   "execution_count": 3,
   "id": "3b25b758",
   "metadata": {},
   "outputs": [
    {
     "name": "stderr",
     "output_type": "stream",
     "text": [
      "2022-08-04 14:18:53.803016: W tensorflow/stream_executor/platform/default/dso_loader.cc:64] Could not load dynamic library 'libcudart.so.11.0'; dlerror: libcudart.so.11.0: cannot open shared object file: No such file or directory\n",
      "2022-08-04 14:18:53.803190: I tensorflow/stream_executor/cuda/cudart_stub.cc:29] Ignore above cudart dlerror if you do not have a GPU set up on your machine.\n"
     ]
    }
   ],
   "source": [
    "import tensorflow as tf"
   ]
  },
  {
   "cell_type": "code",
   "execution_count": 4,
   "id": "fa494b44",
   "metadata": {},
   "outputs": [],
   "source": [
    "from tensorflow import keras"
   ]
  },
  {
   "cell_type": "code",
   "execution_count": 5,
   "id": "654d52f8",
   "metadata": {},
   "outputs": [],
   "source": [
    "import soundfile as sf\n",
    "import librosa as lb\n",
    "import numpy as np\n",
    "from matplotlib import pyplot as plt"
   ]
  },
  {
   "cell_type": "code",
   "execution_count": 6,
   "id": "f4140c67",
   "metadata": {},
   "outputs": [],
   "source": [
    "import os"
   ]
  },
  {
   "cell_type": "markdown",
   "id": "bb23d8c2",
   "metadata": {},
   "source": [
    "## Reading DataSet"
   ]
  },
  {
   "cell_type": "code",
   "execution_count": 7,
   "id": "53b8de2a",
   "metadata": {},
   "outputs": [
    {
     "data": {
      "text/plain": [
       "['Overlay', 'Mixture', 'speech', 'music']"
      ]
     },
     "execution_count": 7,
     "metadata": {},
     "output_type": "execute_result"
    }
   ],
   "source": [
    "path = \"/home/rajesh/MusicSpeechSeparartion/Dataset/\"\n",
    "\n",
    "folders = os.listdir(path)\n",
    "folders"
   ]
  },
  {
   "cell_type": "code",
   "execution_count": 8,
   "id": "fcc65247",
   "metadata": {},
   "outputs": [],
   "source": [
    "audiofiles, samplerates = [], []\n",
    "for folder in folders:\n",
    "    files = os.listdir(path+'/'+folder)\n",
    "    files = sorted(files)\n",
    "    audio, sr = [], []\n",
    "    for file in files:\n",
    "        data, samplerate = sf.read(path+'/'+folder+'/'+file)\n",
    "        audio.append(data)\n",
    "        sr.append(samplerate)\n",
    "    audiofiles.append(audio)\n",
    "    samplerates.append(sr)"
   ]
  },
  {
   "cell_type": "code",
   "execution_count": 9,
   "id": "ee6889b7",
   "metadata": {},
   "outputs": [],
   "source": [
    "overlay = np.array(audiofiles[0])\n",
    "mixture = np.array(audiofiles[1])\n",
    "speech = np.array(audiofiles[2])\n",
    "music = np.array(audiofiles[3])\n",
    "\n",
    "dataset = [overlay, mixture, speech, music]"
   ]
  },
  {
   "cell_type": "markdown",
   "id": "34e72e63",
   "metadata": {},
   "source": [
    "### Short Time Fourier Transform"
   ]
  },
  {
   "cell_type": "code",
   "execution_count": 10,
   "id": "ec58e0a3",
   "metadata": {},
   "outputs": [],
   "source": [
    "datasetstft = []\n",
    "for data in dataset:\n",
    "    spect = []\n",
    "    for audio in data:\n",
    "        stft = np.abs(lb.stft(audio))\n",
    "        spect.append(stft)\n",
    "    datasetstft.append(spect)"
   ]
  },
  {
   "cell_type": "code",
   "execution_count": 11,
   "id": "71e77a6d",
   "metadata": {},
   "outputs": [],
   "source": [
    "overlay_stft = np.array(datasetstft[0])\n",
    "mixture_stft = np.array(datasetstft[1])\n",
    "speech_stft = np.array(datasetstft[2])\n",
    "music_stft = np.array(datasetstft[3])\n",
    "\n",
    "dataset_stft = [overlay_stft, mixture_stft, speech_stft, music_stft]"
   ]
  },
  {
   "cell_type": "code",
   "execution_count": 12,
   "id": "818bc20b",
   "metadata": {},
   "outputs": [
    {
     "data": {
      "text/plain": [
       "(60, 1025, 646)"
      ]
     },
     "execution_count": 12,
     "metadata": {},
     "output_type": "execute_result"
    }
   ],
   "source": [
    "overlay_stft.shape"
   ]
  },
  {
   "cell_type": "code",
   "execution_count": null,
   "id": "09d680cb",
   "metadata": {},
   "outputs": [],
   "source": []
  },
  {
   "cell_type": "code",
   "execution_count": null,
   "id": "305ece6d",
   "metadata": {},
   "outputs": [],
   "source": []
  },
  {
   "cell_type": "markdown",
   "id": "49844ae6",
   "metadata": {},
   "source": [
    "## DNN Model"
   ]
  },
  {
   "cell_type": "code",
   "execution_count": null,
   "id": "0ed5900a",
   "metadata": {},
   "outputs": [],
   "source": []
  },
  {
   "cell_type": "code",
   "execution_count": 15,
   "id": "6772cb3c",
   "metadata": {},
   "outputs": [
    {
     "name": "stderr",
     "output_type": "stream",
     "text": [
      "2022-08-04 14:21:04.590608: W tensorflow/core/framework/cpu_allocator_impl.cc:82] Allocation of 678041600 exceeds 10% of free system memory.\n",
      "2022-08-04 14:21:04.812849: W tensorflow/core/framework/cpu_allocator_impl.cc:82] Allocation of 678041600 exceeds 10% of free system memory.\n",
      "2022-08-04 14:21:04.893694: W tensorflow/core/framework/cpu_allocator_impl.cc:82] Allocation of 678041600 exceeds 10% of free system memory.\n"
     ]
    }
   ],
   "source": [
    "model = keras.Sequential([\n",
    "    keras.layers.Reshape(target_shape=(1025 * 646,), input_shape=(1025, 646)),\n",
    "    keras.layers.Dense(units=256, activation='relu'),\n",
    "    keras.layers.Dense(units=192, activation='relu'),\n",
    "    #keras.layers.Dense(units=128, activation='relu'),\n",
    "    keras.layers.Dense(units=2, activation='softmax')\n",
    "])"
   ]
  },
  {
   "cell_type": "code",
   "execution_count": 20,
   "id": "12d37fa5",
   "metadata": {},
   "outputs": [
    {
     "name": "stdout",
     "output_type": "stream",
     "text": [
      "Model: \"sequential_2\"\n",
      "_________________________________________________________________\n",
      " Layer (type)                Output Shape              Param #   \n",
      "=================================================================\n",
      " reshape_2 (Reshape)         (None, 662150)            0         \n",
      "                                                                 \n",
      " dense_7 (Dense)             (None, 256)               169510656 \n",
      "                                                                 \n",
      " dense_8 (Dense)             (None, 192)               49344     \n",
      "                                                                 \n",
      " dense_9 (Dense)             (None, 2)                 386       \n",
      "                                                                 \n",
      "=================================================================\n",
      "Total params: 169,560,386\n",
      "Trainable params: 169,560,386\n",
      "Non-trainable params: 0\n",
      "_________________________________________________________________\n"
     ]
    }
   ],
   "source": [
    "model.summary()"
   ]
  },
  {
   "cell_type": "code",
   "execution_count": 21,
   "id": "d7575da4",
   "metadata": {},
   "outputs": [],
   "source": [
    "model.compile(optimizer='adam', \n",
    "              loss=tf.losses.CategoricalCrossentropy(from_logits=True),\n",
    "              metrics=['accuracy'])"
   ]
  },
  {
   "cell_type": "code",
   "execution_count": 22,
   "id": "8ffa179c",
   "metadata": {},
   "outputs": [
    {
     "name": "stdout",
     "output_type": "stream",
     "text": [
      "Epoch 1/10\n"
     ]
    },
    {
     "ename": "ValueError",
     "evalue": "in user code:\n\n    File \"/home/rajesh/.local/lib/python3.10/site-packages/keras/engine/training.py\", line 1051, in train_function  *\n        return step_function(self, iterator)\n    File \"/home/rajesh/.local/lib/python3.10/site-packages/keras/engine/training.py\", line 1040, in step_function  **\n        outputs = model.distribute_strategy.run(run_step, args=(data,))\n    File \"/home/rajesh/.local/lib/python3.10/site-packages/keras/engine/training.py\", line 1030, in run_step  **\n        outputs = model.train_step(data)\n    File \"/home/rajesh/.local/lib/python3.10/site-packages/keras/engine/training.py\", line 889, in train_step\n        y_pred = self(x, training=True)\n    File \"/home/rajesh/.local/lib/python3.10/site-packages/keras/utils/traceback_utils.py\", line 67, in error_handler\n        raise e.with_traceback(filtered_tb) from None\n    File \"/home/rajesh/.local/lib/python3.10/site-packages/keras/engine/input_spec.py\", line 264, in assert_input_compatibility\n        raise ValueError(f'Input {input_index} of layer \"{layer_name}\" is '\n\n    ValueError: Input 0 of layer \"sequential_2\" is incompatible with the layer: expected shape=(None, 1025, 646), found shape=(1, 1025, 1292)\n",
     "output_type": "error",
     "traceback": [
      "\u001b[0;31m---------------------------------------------------------------------------\u001b[0m",
      "\u001b[0;31mValueError\u001b[0m                                Traceback (most recent call last)",
      "Input \u001b[0;32mIn [22]\u001b[0m, in \u001b[0;36m<cell line: 1>\u001b[0;34m()\u001b[0m\n\u001b[0;32m----> 1\u001b[0m history \u001b[38;5;241m=\u001b[39m \u001b[43mmodel\u001b[49m\u001b[38;5;241;43m.\u001b[39;49m\u001b[43mfit\u001b[49m\u001b[43m(\u001b[49m\n\u001b[1;32m      2\u001b[0m \u001b[43m    \u001b[49m\u001b[43mmixture_stft\u001b[49m\u001b[43m,\u001b[49m\u001b[43m \u001b[49m\n\u001b[1;32m      3\u001b[0m \u001b[43m    \u001b[49m\u001b[43mepochs\u001b[49m\u001b[38;5;241;43m=\u001b[39;49m\u001b[38;5;241;43m10\u001b[39;49m\u001b[43m,\u001b[49m\u001b[43m \u001b[49m\n\u001b[1;32m      4\u001b[0m \u001b[43m    \u001b[49m\u001b[43msteps_per_epoch\u001b[49m\u001b[38;5;241;43m=\u001b[39;49m\u001b[38;5;241;43m500\u001b[39;49m\u001b[43m)\u001b[49m\n",
      "File \u001b[0;32m~/.local/lib/python3.10/site-packages/keras/utils/traceback_utils.py:67\u001b[0m, in \u001b[0;36mfilter_traceback.<locals>.error_handler\u001b[0;34m(*args, **kwargs)\u001b[0m\n\u001b[1;32m     65\u001b[0m \u001b[38;5;28;01mexcept\u001b[39;00m \u001b[38;5;167;01mException\u001b[39;00m \u001b[38;5;28;01mas\u001b[39;00m e:  \u001b[38;5;66;03m# pylint: disable=broad-except\u001b[39;00m\n\u001b[1;32m     66\u001b[0m   filtered_tb \u001b[38;5;241m=\u001b[39m _process_traceback_frames(e\u001b[38;5;241m.\u001b[39m__traceback__)\n\u001b[0;32m---> 67\u001b[0m   \u001b[38;5;28;01mraise\u001b[39;00m e\u001b[38;5;241m.\u001b[39mwith_traceback(filtered_tb) \u001b[38;5;28;01mfrom\u001b[39;00m \u001b[38;5;28mNone\u001b[39m\n\u001b[1;32m     68\u001b[0m \u001b[38;5;28;01mfinally\u001b[39;00m:\n\u001b[1;32m     69\u001b[0m   \u001b[38;5;28;01mdel\u001b[39;00m filtered_tb\n",
      "File \u001b[0;32m/tmp/__autograph_generated_fileahbvkltk.py:15\u001b[0m, in \u001b[0;36mouter_factory.<locals>.inner_factory.<locals>.tf__train_function\u001b[0;34m(iterator)\u001b[0m\n\u001b[1;32m     13\u001b[0m \u001b[38;5;28;01mtry\u001b[39;00m:\n\u001b[1;32m     14\u001b[0m     do_return \u001b[38;5;241m=\u001b[39m \u001b[38;5;28;01mTrue\u001b[39;00m\n\u001b[0;32m---> 15\u001b[0m     retval_ \u001b[38;5;241m=\u001b[39m ag__\u001b[38;5;241m.\u001b[39mconverted_call(ag__\u001b[38;5;241m.\u001b[39mld(step_function), (ag__\u001b[38;5;241m.\u001b[39mld(\u001b[38;5;28mself\u001b[39m), ag__\u001b[38;5;241m.\u001b[39mld(iterator)), \u001b[38;5;28;01mNone\u001b[39;00m, fscope)\n\u001b[1;32m     16\u001b[0m \u001b[38;5;28;01mexcept\u001b[39;00m:\n\u001b[1;32m     17\u001b[0m     do_return \u001b[38;5;241m=\u001b[39m \u001b[38;5;28;01mFalse\u001b[39;00m\n",
      "\u001b[0;31mValueError\u001b[0m: in user code:\n\n    File \"/home/rajesh/.local/lib/python3.10/site-packages/keras/engine/training.py\", line 1051, in train_function  *\n        return step_function(self, iterator)\n    File \"/home/rajesh/.local/lib/python3.10/site-packages/keras/engine/training.py\", line 1040, in step_function  **\n        outputs = model.distribute_strategy.run(run_step, args=(data,))\n    File \"/home/rajesh/.local/lib/python3.10/site-packages/keras/engine/training.py\", line 1030, in run_step  **\n        outputs = model.train_step(data)\n    File \"/home/rajesh/.local/lib/python3.10/site-packages/keras/engine/training.py\", line 889, in train_step\n        y_pred = self(x, training=True)\n    File \"/home/rajesh/.local/lib/python3.10/site-packages/keras/utils/traceback_utils.py\", line 67, in error_handler\n        raise e.with_traceback(filtered_tb) from None\n    File \"/home/rajesh/.local/lib/python3.10/site-packages/keras/engine/input_spec.py\", line 264, in assert_input_compatibility\n        raise ValueError(f'Input {input_index} of layer \"{layer_name}\" is '\n\n    ValueError: Input 0 of layer \"sequential_2\" is incompatible with the layer: expected shape=(None, 1025, 646), found shape=(1, 1025, 1292)\n"
     ]
    }
   ],
   "source": [
    "history = model.fit(\n",
    "    mixture_stft, \n",
    "    epochs=10, \n",
    "    steps_per_epoch=500)"
   ]
  },
  {
   "cell_type": "code",
   "execution_count": null,
   "id": "69e0e542",
   "metadata": {},
   "outputs": [],
   "source": []
  }
 ],
 "metadata": {
  "kernelspec": {
   "display_name": "Python 3 (ipykernel)",
   "language": "python",
   "name": "python3"
  },
  "language_info": {
   "codemirror_mode": {
    "name": "ipython",
    "version": 3
   },
   "file_extension": ".py",
   "mimetype": "text/x-python",
   "name": "python",
   "nbconvert_exporter": "python",
   "pygments_lexer": "ipython3",
   "version": "3.10.4"
  }
 },
 "nbformat": 4,
 "nbformat_minor": 5
}
