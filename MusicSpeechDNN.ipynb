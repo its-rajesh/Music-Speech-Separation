{
  "cells": [
    {
      "cell_type": "markdown",
      "metadata": {
        "id": "view-in-github",
        "colab_type": "text"
      },
      "source": [
        "<a href=\"https://colab.research.google.com/github/its-rajesh/Music-Speech-Separation/blob/main/MusicSpeechDNN.ipynb\" target=\"_parent\"><img src=\"https://colab.research.google.com/assets/colab-badge.svg\" alt=\"Open In Colab\"/></a>"
      ]
    },
    {
      "cell_type": "markdown",
      "id": "22a58e63",
      "metadata": {
        "id": "22a58e63"
      },
      "source": [
        "# Neural Network for Music Speech Separation"
      ]
    },
    {
      "cell_type": "code",
      "execution_count": 3,
      "id": "3b25b758",
      "metadata": {
        "id": "3b25b758"
      },
      "outputs": [],
      "source": [
        "import tensorflow as tf"
      ]
    },
    {
      "cell_type": "code",
      "execution_count": 4,
      "id": "fa494b44",
      "metadata": {
        "id": "fa494b44"
      },
      "outputs": [],
      "source": [
        "from tensorflow import keras"
      ]
    },
    {
      "cell_type": "code",
      "execution_count": 5,
      "id": "654d52f8",
      "metadata": {
        "id": "654d52f8"
      },
      "outputs": [],
      "source": [
        "import soundfile as sf\n",
        "import librosa as lb\n",
        "import numpy as np\n",
        "from matplotlib import pyplot as plt"
      ]
    },
    {
      "cell_type": "code",
      "execution_count": 6,
      "id": "f4140c67",
      "metadata": {
        "id": "f4140c67"
      },
      "outputs": [],
      "source": [
        "import os"
      ]
    },
    {
      "cell_type": "markdown",
      "id": "bb23d8c2",
      "metadata": {
        "id": "bb23d8c2"
      },
      "source": [
        "## Reading DataSet"
      ]
    },
    {
      "cell_type": "code",
      "source": [
        "from google.colab import drive\n",
        "drive.mount('/drive')"
      ],
      "metadata": {
        "colab": {
          "base_uri": "https://localhost:8080/"
        },
        "id": "oO9hZgNPTtwk",
        "outputId": "576d7020-ce3b-401e-e728-36665260b8c6"
      },
      "id": "oO9hZgNPTtwk",
      "execution_count": 7,
      "outputs": [
        {
          "output_type": "stream",
          "name": "stdout",
          "text": [
            "Drive already mounted at /drive; to attempt to forcibly remount, call drive.mount(\"/drive\", force_remount=True).\n"
          ]
        }
      ]
    },
    {
      "cell_type": "markdown",
      "source": [
        "**For Running In Google Colab**"
      ],
      "metadata": {
        "id": "lK7fO__WpMxJ"
      },
      "id": "lK7fO__WpMxJ"
    },
    {
      "cell_type": "code",
      "source": [
        "path = \"/drive/My Drive/Projects/Music-Speech-Separation/Dataset\"\n",
        "\n",
        "folders = os.listdir(path)\n",
        "folders"
      ],
      "metadata": {
        "colab": {
          "base_uri": "https://localhost:8080/"
        },
        "id": "ERmD0gzMolNZ",
        "outputId": "37defbcb-82ea-4c98-d4fc-cce1dbeb0dee"
      },
      "id": "ERmD0gzMolNZ",
      "execution_count": 6,
      "outputs": [
        {
          "output_type": "execute_result",
          "data": {
            "text/plain": [
              "['Mixture', 'Overlay', 'speech', 'music']"
            ]
          },
          "metadata": {},
          "execution_count": 6
        }
      ]
    },
    {
      "cell_type": "markdown",
      "source": [
        "**For Running In Local Machine**"
      ],
      "metadata": {
        "id": "VLVWXJoipWyj"
      },
      "id": "VLVWXJoipWyj"
    },
    {
      "cell_type": "code",
      "execution_count": 7,
      "id": "53b8de2a",
      "metadata": {
        "colab": {
          "base_uri": "https://localhost:8080/",
          "height": 35
        },
        "id": "53b8de2a",
        "outputId": "c3829629-3817-40e6-b529-0e708bda1425"
      },
      "outputs": [
        {
          "output_type": "execute_result",
          "data": {
            "text/plain": [
              "'\\npath = \"/home/rajesh/MusicSpeechSeparartion/Dataset/\"\\n\\nfolders = os.listdir(path)\\nfolders\\n'"
            ],
            "application/vnd.google.colaboratory.intrinsic+json": {
              "type": "string"
            }
          },
          "metadata": {},
          "execution_count": 7
        }
      ],
      "source": [
        "'''\n",
        "path = \"/home/rajesh/MusicSpeechSeparartion/Dataset/\"\n",
        "\n",
        "folders = os.listdir(path)\n",
        "folders\n",
        "'''"
      ]
    },
    {
      "cell_type": "code",
      "execution_count": 7,
      "id": "fcc65247",
      "metadata": {
        "id": "fcc65247"
      },
      "outputs": [],
      "source": [
        "audiofiles, samplerates = [], []\n",
        "for folder in folders:\n",
        "    files = os.listdir(path+'/'+folder)\n",
        "    files = sorted(files)\n",
        "    audio, sr = [], []\n",
        "    for file in files:\n",
        "        data, samplerate = sf.read(path+'/'+folder+'/'+file)\n",
        "        audio.append(data)\n",
        "        sr.append(samplerate)\n",
        "    audiofiles.append(audio)\n",
        "    samplerates.append(sr)"
      ]
    },
    {
      "cell_type": "code",
      "execution_count": 8,
      "id": "ee6889b7",
      "metadata": {
        "id": "ee6889b7"
      },
      "outputs": [],
      "source": [
        "overlay = np.array(audiofiles[0])\n",
        "mixture = np.array(audiofiles[1])\n",
        "speech = np.array(audiofiles[2])\n",
        "music = np.array(audiofiles[3])\n",
        "\n",
        "dataset = [overlay, mixture, speech, music]"
      ]
    },
    {
      "cell_type": "markdown",
      "id": "34e72e63",
      "metadata": {
        "id": "34e72e63"
      },
      "source": [
        "### Short Time Fourier Transform"
      ]
    },
    {
      "cell_type": "code",
      "execution_count": 9,
      "id": "ec58e0a3",
      "metadata": {
        "id": "ec58e0a3"
      },
      "outputs": [],
      "source": [
        "datasetstft = []\n",
        "for data in dataset:\n",
        "    spect = []\n",
        "    for audio in data:\n",
        "        stft = np.abs(lb.stft(audio))\n",
        "        spect.append(stft)\n",
        "    datasetstft.append(spect)"
      ]
    },
    {
      "cell_type": "code",
      "execution_count": 10,
      "id": "71e77a6d",
      "metadata": {
        "id": "71e77a6d"
      },
      "outputs": [],
      "source": [
        "overlay_stft = np.array(datasetstft[0])\n",
        "mixture_stft = np.array(datasetstft[1])\n",
        "speech_stft = np.array(datasetstft[2])\n",
        "music_stft = np.array(datasetstft[3])\n",
        "\n",
        "dataset_stft = [overlay_stft, mixture_stft, speech_stft, music_stft]"
      ]
    },
    {
      "cell_type": "code",
      "execution_count": 11,
      "id": "818bc20b",
      "metadata": {
        "colab": {
          "base_uri": "https://localhost:8080/"
        },
        "id": "818bc20b",
        "outputId": "fe0bc4d2-ca13-4778-9f18-a9b30485d5da"
      },
      "outputs": [
        {
          "output_type": "execute_result",
          "data": {
            "text/plain": [
              "((50, 1025, 1292), (50, 1025, 646), (50, 1025, 646), (50, 1025, 646))"
            ]
          },
          "metadata": {},
          "execution_count": 11
        }
      ],
      "source": [
        "overlay_stft.shape, mixture_stft.shape, speech_stft.shape, music_stft.shape"
      ]
    },
    {
      "cell_type": "code",
      "execution_count": 12,
      "id": "09d680cb",
      "metadata": {
        "colab": {
          "base_uri": "https://localhost:8080/"
        },
        "id": "09d680cb",
        "outputId": "43dc4e62-be5e-48eb-9300-28aa44271ba9"
      },
      "outputs": [
        {
          "output_type": "execute_result",
          "data": {
            "text/plain": [
              "(50, 1025, 1292)"
            ]
          },
          "metadata": {},
          "execution_count": 12
        }
      ],
      "source": [
        "groundtruth_stft = []\n",
        "for i in range(50):\n",
        "    groundtruth_stft.append(np.hstack((speech_stft[i], music_stft[i])))\n",
        "\n",
        "    \n",
        "groundtruth_stft = np.array(groundtruth_stft)\n",
        "groundtruth_stft.shape"
      ]
    },
    {
      "cell_type": "code",
      "execution_count": 20,
      "id": "d49ca2cd",
      "metadata": {
        "id": "d49ca2cd"
      },
      "outputs": [],
      "source": [
        ""
      ]
    },
    {
      "cell_type": "markdown",
      "id": "9d4926d9",
      "metadata": {
        "id": "9d4926d9"
      },
      "source": [
        "## DNN Model"
      ]
    },
    {
      "cell_type": "code",
      "execution_count": 14,
      "id": "870efdf4",
      "metadata": {
        "id": "870efdf4"
      },
      "outputs": [],
      "source": [
        "from keras import layers"
      ]
    },
    {
      "cell_type": "code",
      "execution_count": null,
      "id": "624eb210",
      "metadata": {
        "id": "624eb210"
      },
      "outputs": [],
      "source": [
        "input_dim = (1025, 1292, 1)\n",
        "output_dim = (1025, 1292)\n",
        "\n",
        "inputs = layers.Input(shape=input_dim)\n",
        "x = layers.Flatten()(inputs)\n",
        "\n",
        "x = layers.Dense(units=128, activation='relu')(x)\n",
        "x = layers.BatchNormalization()(x)\n",
        "\n",
        "x = layers.Dense(units=128, activation='relu')(x)\n",
        "x = layers.BatchNormalization()(x)\n",
        "\n",
        "outputs = layers.Dense(units=output_dim, activation='softmax')(x)\n",
        "model = keras.Model(inputs=inputs, outputs=outputs)"
      ]
    },
    {
      "cell_type": "code",
      "execution_count": 16,
      "id": "b54c0c17",
      "metadata": {
        "colab": {
          "base_uri": "https://localhost:8080/"
        },
        "id": "b54c0c17",
        "outputId": "fb1c8503-b780-4f64-c201-51096073fd9b"
      },
      "outputs": [
        {
          "output_type": "stream",
          "name": "stdout",
          "text": [
            "Model: \"model\"\n",
            "_________________________________________________________________\n",
            " Layer (type)                Output Shape              Param #   \n",
            "=================================================================\n",
            " input_1 (InputLayer)        [(None, 1, 1025, 1292)]   0         \n",
            "                                                                 \n",
            " flatten (Flatten)           (None, 1324300)           0         \n",
            "                                                                 \n",
            " dense (Dense)               (None, 128)               169510528 \n",
            "                                                                 \n",
            " batch_normalization (BatchN  (None, 128)              512       \n",
            " ormalization)                                                   \n",
            "                                                                 \n",
            " dense_1 (Dense)             (None, 128)               16512     \n",
            "                                                                 \n",
            " batch_normalization_1 (Batc  (None, 128)              512       \n",
            " hNormalization)                                                 \n",
            "                                                                 \n",
            " dense_2 (Dense)             (None, 1324300)           170834700 \n",
            "                                                                 \n",
            "=================================================================\n",
            "Total params: 340,362,764\n",
            "Trainable params: 340,362,252\n",
            "Non-trainable params: 512\n",
            "_________________________________________________________________\n"
          ]
        }
      ],
      "source": [
        "model.summary()"
      ]
    },
    {
      "cell_type": "code",
      "execution_count": 21,
      "id": "222ffc92",
      "metadata": {
        "id": "222ffc92"
      },
      "outputs": [],
      "source": [
        "model.compile(\n",
        "    optimizer=keras.optimizers.Adam(learning_rate=1e-3),\n",
        "    loss=keras.losses.SparseCategoricalCrossentropy(),\n",
        "    metrics=['acc']\n",
        ")"
      ]
    },
    {
      "cell_type": "code",
      "execution_count": 22,
      "id": "fd943343",
      "metadata": {
        "colab": {
          "base_uri": "https://localhost:8080/"
        },
        "id": "fd943343",
        "outputId": "318008ff-870d-48f4-e92a-5513b9788b68"
      },
      "outputs": [
        {
          "output_type": "execute_result",
          "data": {
            "text/plain": [
              "((50, 1025, 1292), (50, 1025, 1292))"
            ]
          },
          "metadata": {},
          "execution_count": 22
        }
      ],
      "source": [
        "X_train = overlay_stft\n",
        "y_train = groundtruth_stft\n",
        "\n",
        "X_train.shape, y_train.shape"
      ]
    },
    {
      "cell_type": "code",
      "execution_count": 23,
      "id": "bef2789c",
      "metadata": {
        "colab": {
          "base_uri": "https://localhost:8080/",
          "height": 1000
        },
        "id": "bef2789c",
        "outputId": "a24919b0-74bd-4534-9781-08d8227dc739"
      },
      "outputs": [
        {
          "output_type": "stream",
          "name": "stdout",
          "text": [
            "Epoch 1/5\n"
          ]
        },
        {
          "output_type": "error",
          "ename": "InvalidArgumentError",
          "evalue": "ignored",
          "traceback": [
            "\u001b[0;31m---------------------------------------------------------------------------\u001b[0m",
            "\u001b[0;31mInvalidArgumentError\u001b[0m                      Traceback (most recent call last)",
            "\u001b[0;32m<ipython-input-23-8ca05a988aaf>\u001b[0m in \u001b[0;36m<module>\u001b[0;34m()\u001b[0m\n\u001b[1;32m      4\u001b[0m     \u001b[0mbatch_size\u001b[0m\u001b[0;34m=\u001b[0m\u001b[0;36m2\u001b[0m\u001b[0;34m,\u001b[0m\u001b[0;34m\u001b[0m\u001b[0;34m\u001b[0m\u001b[0m\n\u001b[1;32m      5\u001b[0m     \u001b[0mvalidation_split\u001b[0m\u001b[0;34m=\u001b[0m\u001b[0;36m0.1\u001b[0m\u001b[0;34m,\u001b[0m\u001b[0;34m\u001b[0m\u001b[0;34m\u001b[0m\u001b[0m\n\u001b[0;32m----> 6\u001b[0;31m     verbose=1)\n\u001b[0m",
            "\u001b[0;32m/usr/local/lib/python3.7/dist-packages/keras/utils/traceback_utils.py\u001b[0m in \u001b[0;36merror_handler\u001b[0;34m(*args, **kwargs)\u001b[0m\n\u001b[1;32m     65\u001b[0m     \u001b[0;32mexcept\u001b[0m \u001b[0mException\u001b[0m \u001b[0;32mas\u001b[0m \u001b[0me\u001b[0m\u001b[0;34m:\u001b[0m  \u001b[0;31m# pylint: disable=broad-except\u001b[0m\u001b[0;34m\u001b[0m\u001b[0;34m\u001b[0m\u001b[0m\n\u001b[1;32m     66\u001b[0m       \u001b[0mfiltered_tb\u001b[0m \u001b[0;34m=\u001b[0m \u001b[0m_process_traceback_frames\u001b[0m\u001b[0;34m(\u001b[0m\u001b[0me\u001b[0m\u001b[0;34m.\u001b[0m\u001b[0m__traceback__\u001b[0m\u001b[0;34m)\u001b[0m\u001b[0;34m\u001b[0m\u001b[0;34m\u001b[0m\u001b[0m\n\u001b[0;32m---> 67\u001b[0;31m       \u001b[0;32mraise\u001b[0m \u001b[0me\u001b[0m\u001b[0;34m.\u001b[0m\u001b[0mwith_traceback\u001b[0m\u001b[0;34m(\u001b[0m\u001b[0mfiltered_tb\u001b[0m\u001b[0;34m)\u001b[0m \u001b[0;32mfrom\u001b[0m \u001b[0;32mNone\u001b[0m\u001b[0;34m\u001b[0m\u001b[0;34m\u001b[0m\u001b[0m\n\u001b[0m\u001b[1;32m     68\u001b[0m     \u001b[0;32mfinally\u001b[0m\u001b[0;34m:\u001b[0m\u001b[0;34m\u001b[0m\u001b[0;34m\u001b[0m\u001b[0m\n\u001b[1;32m     69\u001b[0m       \u001b[0;32mdel\u001b[0m \u001b[0mfiltered_tb\u001b[0m\u001b[0;34m\u001b[0m\u001b[0;34m\u001b[0m\u001b[0m\n",
            "\u001b[0;32m/usr/local/lib/python3.7/dist-packages/tensorflow/python/eager/execute.py\u001b[0m in \u001b[0;36mquick_execute\u001b[0;34m(op_name, num_outputs, inputs, attrs, ctx, name)\u001b[0m\n\u001b[1;32m     53\u001b[0m     \u001b[0mctx\u001b[0m\u001b[0;34m.\u001b[0m\u001b[0mensure_initialized\u001b[0m\u001b[0;34m(\u001b[0m\u001b[0;34m)\u001b[0m\u001b[0;34m\u001b[0m\u001b[0;34m\u001b[0m\u001b[0m\n\u001b[1;32m     54\u001b[0m     tensors = pywrap_tfe.TFE_Py_Execute(ctx._handle, device_name, op_name,\n\u001b[0;32m---> 55\u001b[0;31m                                         inputs, attrs, num_outputs)\n\u001b[0m\u001b[1;32m     56\u001b[0m   \u001b[0;32mexcept\u001b[0m \u001b[0mcore\u001b[0m\u001b[0;34m.\u001b[0m\u001b[0m_NotOkStatusException\u001b[0m \u001b[0;32mas\u001b[0m \u001b[0me\u001b[0m\u001b[0;34m:\u001b[0m\u001b[0;34m\u001b[0m\u001b[0;34m\u001b[0m\u001b[0m\n\u001b[1;32m     57\u001b[0m     \u001b[0;32mif\u001b[0m \u001b[0mname\u001b[0m \u001b[0;32mis\u001b[0m \u001b[0;32mnot\u001b[0m \u001b[0;32mNone\u001b[0m\u001b[0;34m:\u001b[0m\u001b[0;34m\u001b[0m\u001b[0;34m\u001b[0m\u001b[0m\n",
            "\u001b[0;31mInvalidArgumentError\u001b[0m: Graph execution error:\n\nDetected at node 'sparse_categorical_crossentropy/SparseSoftmaxCrossEntropyWithLogits/SparseSoftmaxCrossEntropyWithLogits' defined at (most recent call last):\n    File \"/usr/lib/python3.7/runpy.py\", line 193, in _run_module_as_main\n      \"__main__\", mod_spec)\n    File \"/usr/lib/python3.7/runpy.py\", line 85, in _run_code\n      exec(code, run_globals)\n    File \"/usr/local/lib/python3.7/dist-packages/ipykernel_launcher.py\", line 16, in <module>\n      app.launch_new_instance()\n    File \"/usr/local/lib/python3.7/dist-packages/traitlets/config/application.py\", line 846, in launch_instance\n      app.start()\n    File \"/usr/local/lib/python3.7/dist-packages/ipykernel/kernelapp.py\", line 499, in start\n      self.io_loop.start()\n    File \"/usr/local/lib/python3.7/dist-packages/tornado/platform/asyncio.py\", line 132, in start\n      self.asyncio_loop.run_forever()\n    File \"/usr/lib/python3.7/asyncio/base_events.py\", line 541, in run_forever\n      self._run_once()\n    File \"/usr/lib/python3.7/asyncio/base_events.py\", line 1786, in _run_once\n      handle._run()\n    File \"/usr/lib/python3.7/asyncio/events.py\", line 88, in _run\n      self._context.run(self._callback, *self._args)\n    File \"/usr/local/lib/python3.7/dist-packages/tornado/ioloop.py\", line 758, in _run_callback\n      ret = callback()\n    File \"/usr/local/lib/python3.7/dist-packages/tornado/stack_context.py\", line 300, in null_wrapper\n      return fn(*args, **kwargs)\n    File \"/usr/local/lib/python3.7/dist-packages/zmq/eventloop/zmqstream.py\", line 661, in <lambda>\n      self.io_loop.add_callback(lambda: self._handle_events(self.socket, 0))\n    File \"/usr/local/lib/python3.7/dist-packages/zmq/eventloop/zmqstream.py\", line 577, in _handle_events\n      self._handle_recv()\n    File \"/usr/local/lib/python3.7/dist-packages/zmq/eventloop/zmqstream.py\", line 606, in _handle_recv\n      self._run_callback(callback, msg)\n    File \"/usr/local/lib/python3.7/dist-packages/zmq/eventloop/zmqstream.py\", line 556, in _run_callback\n      callback(*args, **kwargs)\n    File \"/usr/local/lib/python3.7/dist-packages/tornado/stack_context.py\", line 300, in null_wrapper\n      return fn(*args, **kwargs)\n    File \"/usr/local/lib/python3.7/dist-packages/ipykernel/kernelbase.py\", line 283, in dispatcher\n      return self.dispatch_shell(stream, msg)\n    File \"/usr/local/lib/python3.7/dist-packages/ipykernel/kernelbase.py\", line 233, in dispatch_shell\n      handler(stream, idents, msg)\n    File \"/usr/local/lib/python3.7/dist-packages/ipykernel/kernelbase.py\", line 399, in execute_request\n      user_expressions, allow_stdin)\n    File \"/usr/local/lib/python3.7/dist-packages/ipykernel/ipkernel.py\", line 208, in do_execute\n      res = shell.run_cell(code, store_history=store_history, silent=silent)\n    File \"/usr/local/lib/python3.7/dist-packages/ipykernel/zmqshell.py\", line 537, in run_cell\n      return super(ZMQInteractiveShell, self).run_cell(*args, **kwargs)\n    File \"/usr/local/lib/python3.7/dist-packages/IPython/core/interactiveshell.py\", line 2718, in run_cell\n      interactivity=interactivity, compiler=compiler, result=result)\n    File \"/usr/local/lib/python3.7/dist-packages/IPython/core/interactiveshell.py\", line 2828, in run_ast_nodes\n      if self.run_code(code, result):\n    File \"/usr/local/lib/python3.7/dist-packages/IPython/core/interactiveshell.py\", line 2882, in run_code\n      exec(code_obj, self.user_global_ns, self.user_ns)\n    File \"<ipython-input-23-8ca05a988aaf>\", line 6, in <module>\n      verbose=1)\n    File \"/usr/local/lib/python3.7/dist-packages/keras/utils/traceback_utils.py\", line 64, in error_handler\n      return fn(*args, **kwargs)\n    File \"/usr/local/lib/python3.7/dist-packages/keras/engine/training.py\", line 1384, in fit\n      tmp_logs = self.train_function(iterator)\n    File \"/usr/local/lib/python3.7/dist-packages/keras/engine/training.py\", line 1021, in train_function\n      return step_function(self, iterator)\n    File \"/usr/local/lib/python3.7/dist-packages/keras/engine/training.py\", line 1010, in step_function\n      outputs = model.distribute_strategy.run(run_step, args=(data,))\n    File \"/usr/local/lib/python3.7/dist-packages/keras/engine/training.py\", line 1000, in run_step\n      outputs = model.train_step(data)\n    File \"/usr/local/lib/python3.7/dist-packages/keras/engine/training.py\", line 860, in train_step\n      loss = self.compute_loss(x, y, y_pred, sample_weight)\n    File \"/usr/local/lib/python3.7/dist-packages/keras/engine/training.py\", line 919, in compute_loss\n      y, y_pred, sample_weight, regularization_losses=self.losses)\n    File \"/usr/local/lib/python3.7/dist-packages/keras/engine/compile_utils.py\", line 201, in __call__\n      loss_value = loss_obj(y_t, y_p, sample_weight=sw)\n    File \"/usr/local/lib/python3.7/dist-packages/keras/losses.py\", line 141, in __call__\n      losses = call_fn(y_true, y_pred)\n    File \"/usr/local/lib/python3.7/dist-packages/keras/losses.py\", line 245, in call\n      return ag_fn(y_true, y_pred, **self._fn_kwargs)\n    File \"/usr/local/lib/python3.7/dist-packages/keras/losses.py\", line 1863, in sparse_categorical_crossentropy\n      y_true, y_pred, from_logits=from_logits, axis=axis)\n    File \"/usr/local/lib/python3.7/dist-packages/keras/backend.py\", line 5203, in sparse_categorical_crossentropy\n      labels=target, logits=output)\nNode: 'sparse_categorical_crossentropy/SparseSoftmaxCrossEntropyWithLogits/SparseSoftmaxCrossEntropyWithLogits'\nlogits and labels must have the same first dimension, got logits shape [2,1324300] and labels shape [2648600]\n\t [[{{node sparse_categorical_crossentropy/SparseSoftmaxCrossEntropyWithLogits/SparseSoftmaxCrossEntropyWithLogits}}]] [Op:__inference_train_function_1457]"
          ]
        }
      ],
      "source": [
        "model.fit(\n",
        "    X_train, y_train,\n",
        "    epochs=5,\n",
        "    batch_size=2,\n",
        "    validation_split=0.1,\n",
        "    verbose=1)"
      ]
    },
    {
      "cell_type": "code",
      "source": [
        ""
      ],
      "metadata": {
        "id": "CCm6saokJmJJ"
      },
      "id": "CCm6saokJmJJ",
      "execution_count": 13,
      "outputs": []
    },
    {
      "cell_type": "markdown",
      "source": [
        "# Read CSV"
      ],
      "metadata": {
        "id": "rDK7lmuNJre5"
      },
      "id": "rDK7lmuNJre5"
    },
    {
      "cell_type": "code",
      "source": [
        "import pandas as pd"
      ],
      "metadata": {
        "id": "e3NkDiLxLMCa"
      },
      "id": "e3NkDiLxLMCa",
      "execution_count": 8,
      "outputs": []
    },
    {
      "cell_type": "code",
      "source": [
        "csv_path = '/drive/My Drive/Projects/Music-Speech-Separation/CSVFilesTraining/'\n",
        "\n",
        "files = os.listdir(csv_path+'/GroundTruth/')\n",
        "files = sorted(files)\n",
        "\n",
        "y_train = []\n",
        "for file in files:\n",
        "  y_train.append(np.array(pd.read_csv(csv_path+'/GroundTruth/'+file)))\n",
        "\n",
        "\n",
        "\n",
        "files = os.listdir(csv_path+'/Mixture/')\n",
        "files = sorted(files)\n",
        "\n",
        "X_train = []\n",
        "for file in files:\n",
        "  X_train.append(np.array(pd.read_csv(csv_path+'/Mixture/'+file)))"
      ],
      "metadata": {
        "id": "Kc1Hc6qaJjqr"
      },
      "id": "Kc1Hc6qaJjqr",
      "execution_count": 9,
      "outputs": []
    },
    {
      "cell_type": "markdown",
      "source": [
        "## CNN Model"
      ],
      "metadata": {
        "id": "yoIFCh1qvd6s"
      },
      "id": "yoIFCh1qvd6s"
    },
    {
      "cell_type": "code",
      "execution_count": 10,
      "id": "daab23da",
      "metadata": {
        "colab": {
          "base_uri": "https://localhost:8080/"
        },
        "id": "daab23da",
        "outputId": "76cd61e2-232c-4cd4-bccd-3aca1ac71a52"
      },
      "outputs": [
        {
          "output_type": "execute_result",
          "data": {
            "text/plain": [
              "((50, 1025, 1293), (50, 1025, 1293))"
            ]
          },
          "metadata": {},
          "execution_count": 10
        }
      ],
      "source": [
        "#X_train = overlay_stft\n",
        "#y_train = groundtruth_stft\n",
        "\n",
        "X_train = np.array(X_train)\n",
        "y_train = np.array(y_train)\n",
        "\n",
        "X_train.shape, y_train.shape"
      ]
    },
    {
      "cell_type": "code",
      "source": [
        ""
      ],
      "metadata": {
        "id": "yn2eoO4DMJPp"
      },
      "id": "yn2eoO4DMJPp",
      "execution_count": 10,
      "outputs": []
    },
    {
      "cell_type": "code",
      "execution_count": 11,
      "id": "6d3c649f",
      "metadata": {
        "id": "6d3c649f"
      },
      "outputs": [],
      "source": [
        "import tensorflow as tf\n",
        "from tensorflow import keras\n",
        "import numpy as np\n",
        "import time\n",
        "from tensorflow.keras.models import Model\n",
        "from tensorflow.keras.layers import Input,Dense,Flatten,Dropout,Conv2D,MaxPool2D\n",
        "from tensorflow.keras.layers import BatchNormalization\n",
        "from tensorflow.keras.layers import MaxPooling2D\n",
        "from tensorflow.keras.models import Model\n",
        "from tensorflow.keras.optimizers import Adam\n",
        "from tensorflow.keras import regularizers"
      ]
    },
    {
      "cell_type": "code",
      "execution_count": 12,
      "id": "69e0e542",
      "metadata": {
        "id": "69e0e542"
      },
      "outputs": [],
      "source": [
        "batch_size = 128\n",
        "epochs = 50\n",
        "inp = Input(shape =(1025, 1293, 1))\n",
        "out_dim = 1025*1293"
      ]
    },
    {
      "cell_type": "code",
      "source": [
        "start = time.time()\n",
        "\n",
        "x = Conv2D(32, 3, activation='relu')(inp)\n",
        "x = BatchNormalization()(x)\n",
        "x = MaxPooling2D(pool_size=(2, 2))(x)\n",
        "x = Dropout(0.30)(x)\n",
        "\n",
        "x = Conv2D(64, 3, activation='relu')(x)\n",
        "x = BatchNormalization()(x)\n",
        "x = MaxPooling2D(pool_size=(4, 100))(x)\n",
        "x = Dropout(0.30)(x)\n",
        "\n",
        "x = Flatten()(x)\n",
        "x = Dense(100, activation='relu')(x)\n",
        "x = Dropout(0.30)(x)\n",
        "\n",
        "x = Dense(out_dim, activation='relu')(x)"
      ],
      "metadata": {
        "id": "lpuT3QYSuj1q"
      },
      "id": "lpuT3QYSuj1q",
      "execution_count": 13,
      "outputs": []
    },
    {
      "cell_type": "code",
      "source": [
        "classify = Model(inputs = inp, outputs = x)\n",
        "classify.compile(loss='SparseCategoricalCrossentropy', optimizer = 'adam', metrics='accuracy') \n",
        "classify.summary()\n",
        "classify_train = classify.fit(X_train,y_train, epochs = epochs ,batch_size=batch_size)\n",
        "end = time.time()\n",
        "print(\"time taken\",time)"
      ],
      "metadata": {
        "colab": {
          "base_uri": "https://localhost:8080/"
        },
        "id": "CSNvGvYFu3Q8",
        "outputId": "aecc7f11-aa72-4dd0-ada2-fe4372f11b1a"
      },
      "id": "CSNvGvYFu3Q8",
      "execution_count": null,
      "outputs": [
        {
          "output_type": "stream",
          "name": "stdout",
          "text": [
            "Model: \"model\"\n",
            "_________________________________________________________________\n",
            " Layer (type)                Output Shape              Param #   \n",
            "=================================================================\n",
            " input_1 (InputLayer)        [(None, 1025, 1293, 1)]   0         \n",
            "                                                                 \n",
            " conv2d (Conv2D)             (None, 1023, 1291, 32)    320       \n",
            "                                                                 \n",
            " batch_normalization (BatchN  (None, 1023, 1291, 32)   128       \n",
            " ormalization)                                                   \n",
            "                                                                 \n",
            " max_pooling2d (MaxPooling2D  (None, 511, 645, 32)     0         \n",
            " )                                                               \n",
            "                                                                 \n",
            " dropout (Dropout)           (None, 511, 645, 32)      0         \n",
            "                                                                 \n",
            " conv2d_1 (Conv2D)           (None, 509, 643, 64)      18496     \n",
            "                                                                 \n",
            " batch_normalization_1 (Batc  (None, 509, 643, 64)     256       \n",
            " hNormalization)                                                 \n",
            "                                                                 \n",
            " max_pooling2d_1 (MaxPooling  (None, 127, 6, 64)       0         \n",
            " 2D)                                                             \n",
            "                                                                 \n",
            " dropout_1 (Dropout)         (None, 127, 6, 64)        0         \n",
            "                                                                 \n",
            " flatten (Flatten)           (None, 48768)             0         \n",
            "                                                                 \n",
            " dense (Dense)               (None, 100)               4876900   \n",
            "                                                                 \n",
            " dropout_2 (Dropout)         (None, 100)               0         \n",
            "                                                                 \n",
            " dense_1 (Dense)             (None, 1325325)           133857825 \n",
            "                                                                 \n",
            "=================================================================\n",
            "Total params: 138,753,925\n",
            "Trainable params: 138,753,733\n",
            "Non-trainable params: 192\n",
            "_________________________________________________________________\n",
            "Epoch 1/50\n"
          ]
        }
      ]
    },
    {
      "cell_type": "code",
      "source": [
        ""
      ],
      "metadata": {
        "id": "JQzxa73KvSjp"
      },
      "id": "JQzxa73KvSjp",
      "execution_count": null,
      "outputs": []
    }
  ],
  "metadata": {
    "kernelspec": {
      "display_name": "Python 3 (ipykernel)",
      "language": "python",
      "name": "python3"
    },
    "language_info": {
      "codemirror_mode": {
        "name": "ipython",
        "version": 3
      },
      "file_extension": ".py",
      "mimetype": "text/x-python",
      "name": "python",
      "nbconvert_exporter": "python",
      "pygments_lexer": "ipython3",
      "version": "3.10.4"
    },
    "colab": {
      "name": "MusicSpeechDNN.ipynb",
      "provenance": [],
      "collapsed_sections": [
        "9d4926d9"
      ],
      "include_colab_link": true
    }
  },
  "nbformat": 4,
  "nbformat_minor": 5
}